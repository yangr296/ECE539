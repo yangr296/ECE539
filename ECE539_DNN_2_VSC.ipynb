{
  "cells": [
    {
      "cell_type": "markdown",
      "metadata": {
        "colab_type": "text",
        "id": "view-in-github"
      },
      "source": [
        "<a href=\"https://colab.research.google.com/github/yangr296/ECE539/blob/main/ECE539_DNN_2.ipynb\" target=\"_parent\"><img src=\"https://colab.research.google.com/assets/colab-badge.svg\" alt=\"Open In Colab\"/></a>"
      ]
    },
    {
      "cell_type": "code",
      "execution_count": 249,
      "metadata": {
        "colab": {
          "base_uri": "https://localhost:8080/"
        },
        "id": "J_7UEkv9r5pz",
        "outputId": "656f1568-b4d2-42b8-edf7-c1238b199da9"
      },
      "outputs": [],
      "source": [
        "#import data from drive\n",
        "import tensorflow as tf\n",
        "import numpy as np\n",
        "import random\n",
        "from sklearn.model_selection import train_test_split\n",
        "\n",
        "with open('/Users/publicenemy989/Downloads/parkinsons/parkinsons.data', 'r') as f:\n",
        "  tmp = np.genfromtxt(f,delimiter=',')\n",
        "np.set_printoptions(precision=3,suppress=True)"
      ]
    },
    {
      "cell_type": "markdown",
      "metadata": {
        "id": "m9G0AEg7qjCr"
      },
      "source": [
        "Function def"
      ]
    },
    {
      "cell_type": "code",
      "execution_count": 250,
      "metadata": {
        "id": "iGTiT5kHpKda"
      },
      "outputs": [],
      "source": [
        "from sklearn.metrics import accuracy_score\n",
        "from sklearn.model_selection import cross_val_score\n",
        "def performSVM(X, y):\n",
        "  aveScore = 0\n",
        "  for i in range(5):\n",
        "    X_train, X_test, y_train, y_test = train_test_split(X, y, test_size=0.20)\n",
        "    clf = svm.SVC()\n",
        "    clf.fit(X_train, y_train)\n",
        "    y_pred = clf.predict(X_test)\n",
        "    aveScore += np.round(accuracy_score(y_test, y_pred), 3)\n",
        "  aveScore /= 5\n",
        "  return aveScore\n",
        "\n",
        "def deleteColumn(matrix, columns):\n",
        "  for i in range(len(columns)):\n",
        "    matrix = np.delete(matrix, columns[i], 1)\n",
        "    for j in range((i + 1), len(columns)):\n",
        "      if columns[j] > columns[i]:\n",
        "        columns[j] -= 1\n",
        "  return matrix\n"
      ]
    },
    {
      "cell_type": "code",
      "execution_count": 251,
      "metadata": {
        "id": "UmfCUVYi5m6P"
      },
      "outputs": [],
      "source": [
        "from keras import layers\n",
        "def create_model():\n",
        "  net = tf.keras.models.Sequential([\n",
        "      tf.keras.Input(shape=(5,)),\n",
        "      # tf.keras.layers.GaussianNoise(0.1),\n",
        "      # tf.keras.layers.experimental.RandomFourierFeatures(output_dim=128, scale=10.0, kernel_initializer=\"gaussian\"),\n",
        "      layers.Dense(128, activation = 'relu'),\n",
        "      tf.keras.layers.LayerNormalization(),\n",
        "      layers.Dense(128, activation = 'relu'),\n",
        "      tf.keras.layers.Dense(2, activation='softmax'),\n",
        "      ])\n",
        "  net.compile(loss='binary_crossentropy', optimizer='adam', metrics=['accuracy'])\n",
        "  return net\n"
      ]
    },
    {
      "cell_type": "code",
      "execution_count": 252,
      "metadata": {
        "id": "ods8uBx4sPYG"
      },
      "outputs": [],
      "source": [
        "from sklearn.model_selection import RepeatedKFold\n",
        "from sklearn.metrics import accuracy_score\n",
        "\n",
        "def perform_KF(X, y, repeat=64):\n",
        "  ave_acc = 0\n",
        "  kfold = RepeatedKFold(n_repeats=repeat, n_splits=3, random_state=0)\n",
        "  for i, (train_index, test_index) in enumerate(kfold.split(X)):\n",
        "      print(\"fold %i\" %i)\n",
        "\n",
        "      X_train, X_test = X[train_index], X[test_index]\n",
        "      y_train, y_test = y[train_index], y[test_index]\n",
        "\n",
        "      y_train = keras.utils.to_categorical(y_train)\n",
        "\n",
        "      model = create_model()\n",
        "      model.fit(X_train, y_train, epochs=100, batch_size=39, verbose=0)\n",
        "\n",
        "      y_pred = model.predict(X_test)\n",
        "      y_pred = tf.argmax(y_pred, axis=1)\n",
        "      y_test = tf.constant(y_test)\n",
        "\n",
        "      accuracy = np.round(accuracy_score(y_test, y_pred), 3)\n",
        "      ave_acc += accuracy\n",
        "      print(f'Accuracy: {accuracy}')\n",
        "  ave_acc = ave_acc / (3 * repeat)\n",
        "  print(\"average accuracy is %f\" %ave_acc)\n",
        "  return ave_acc\n"
      ]
    },
    {
      "cell_type": "markdown",
      "metadata": {
        "id": "cJuaiQY3kiWa"
      },
      "source": [
        "Data Preprocessing"
      ]
    },
    {
      "cell_type": "code",
      "execution_count": 253,
      "metadata": {
        "colab": {
          "base_uri": "https://localhost:8080/",
          "height": 123
        },
        "id": "kjAI1aAg5cp-",
        "outputId": "6bb8dbf1-7ee8-4107-933e-8902a5406e98"
      },
      "outputs": [
        {
          "data": {
            "text/plain": [
              "'\\nindex by columns\\nX[0] MDVP:Fo(Hz)\\nX[1] MDVP:Fhi(Hz)\\nX[2] MDVP:Flo(Hz)\\nX[3] MDVP:Jitter(%)\\nX[4] MDVP:Jitter(Abs)\\nX[5] MDVP:RAP\\nX[6] MDVP:PPQ\\nX[7] Jitter:DDP\\nX[8] MDVP:Shimmer\\nX[9] MDVP:Shimmer(dB)\\nX[10] Shimmer:APQ3\\nX[11] Shimmer:APQ5\\nX[12] MDVP:APQ\\nX[13] Shimmer:DDA\\nX[14] NHR\\nX[15] HNR\\nX[16] RPDE\\nX[17] DFA\\nX[18] spread1\\nX[19] spread2\\nX[20] D2\\nX[21] PPE\\n'"
            ]
          },
          "execution_count": 253,
          "metadata": {},
          "output_type": "execute_result"
        }
      ],
      "source": [
        "from tensorflow import keras\n",
        "np.random.seed(0)\n",
        "X, y = tmp[1:, 1:], tmp[1:, -7]\n",
        "X = np.delete(X, 16, 1)\n",
        "X = X.astype(float)\n",
        "\"\"\"\n",
        "index by columns\n",
        "X[0] MDVP:Fo(Hz)\n",
        "X[1] MDVP:Fhi(Hz)\n",
        "X[2] MDVP:Flo(Hz)\n",
        "X[3] MDVP:Jitter(%)\n",
        "X[4] MDVP:Jitter(Abs)\n",
        "X[5] MDVP:RAP\n",
        "X[6] MDVP:PPQ\n",
        "X[7] Jitter:DDP\n",
        "X[8] MDVP:Shimmer\n",
        "X[9] MDVP:Shimmer(dB)\n",
        "X[10] Shimmer:APQ3\n",
        "X[11] Shimmer:APQ5\n",
        "X[12] MDVP:APQ\n",
        "X[13] Shimmer:DDA\n",
        "X[14] NHR\n",
        "X[15] HNR\n",
        "X[16] RPDE\n",
        "X[17] DFA\n",
        "X[18] spread1\n",
        "X[19] spread2\n",
        "X[20] D2\n",
        "X[21] PPE\n",
        "\"\"\""
      ]
    },
    {
      "cell_type": "code",
      "execution_count": 254,
      "metadata": {
        "colab": {
          "base_uri": "https://localhost:8080/"
        },
        "id": "nfIFa6bGkSOV",
        "outputId": "495d385f-d1aa-4df4-b6e5-b8799d4e92ba"
      },
      "outputs": [
        {
          "name": "stdout",
          "output_type": "stream",
          "text": [
            "no NaN\n"
          ]
        }
      ],
      "source": [
        "from sklearn.impute import KNNImputer\n",
        "\n",
        "if np.sum(np.isnan(X)):\n",
        "  print('Total of NaN before imputation:', np.sum(np.isnan(X)))\n",
        "  imputer = KNNImputer(n_neighbors=2, weights=\"uniform\")\n",
        "  X1 = imputer.fit_transform(X)\n",
        "  print('Total of NaN after imputation:', np.sum(np.isnan(X1)))\n",
        "else:\n",
        "  X1 = X\n",
        "  print('no NaN')"
      ]
    },
    {
      "cell_type": "code",
      "execution_count": 255,
      "metadata": {
        "colab": {
          "base_uri": "https://localhost:8080/"
        },
        "id": "RvLJ6MhwkfCt",
        "outputId": "07902b44-3b77-4e76-839f-dc0954baed2e"
      },
      "outputs": [
        {
          "name": "stdout",
          "output_type": "stream",
          "text": [
            "features 3 and 5 have corr of 0.990276\n",
            "features 3 and 6 have corr of 0.974256\n",
            "features 3 and 7 have corr of 0.990276\n",
            "features 5 and 6 have corr of 0.957317\n",
            "features 5 and 7 have corr of 1.000000\n",
            "features 6 and 7 have corr of 0.957319\n",
            "features 8 and 9 have corr of 0.987258\n",
            "features 8 and 10 have corr of 0.987625\n",
            "features 8 and 11 have corr of 0.982835\n",
            "features 8 and 12 have corr of 0.950083\n",
            "features 8 and 13 have corr of 0.987626\n",
            "features 9 and 10 have corr of 0.963198\n",
            "features 9 and 11 have corr of 0.973751\n",
            "features 9 and 12 have corr of 0.960977\n",
            "features 9 and 13 have corr of 0.963202\n",
            "features 10 and 11 have corr of 0.960070\n",
            "features 10 and 13 have corr of 1.000000\n",
            "features 11 and 13 have corr of 0.960072\n",
            "features 18 and 21 have corr of 0.962435\n",
            "[[3, 5], [3, 6], [3, 7], [5, 6], [5, 7], [6, 7], [8, 9], [8, 10], [8, 11], [8, 12], [8, 13], [9, 10], [9, 11], [9, 12], [9, 13], [10, 11], [10, 13], [11, 13], [18, 21]]\n"
          ]
        }
      ],
      "source": [
        "from scipy.stats import pearsonr\n",
        "pair = []\n",
        "for i in range(21):\n",
        "  for j in range((i + 1), 22):\n",
        "    a = X[:, i]\n",
        "    b = X[:, j]\n",
        "    corr, _ = pearsonr(a, b)\n",
        "    if(corr > 0.95):\n",
        "      pair.append([i, j])\n",
        "      print(\"features %i and %i have corr of %f\" %(i, j, corr))\n",
        "print(pair)"
      ]
    },
    {
      "cell_type": "code",
      "execution_count": 256,
      "metadata": {
        "colab": {
          "base_uri": "https://localhost:8080/"
        },
        "id": "TI2I4fuDnreM",
        "outputId": "d5827fc2-76cd-49b0-fb34-ef4bb407a3cb"
      },
      "outputs": [
        {
          "name": "stdout",
          "output_type": "stream",
          "text": [
            "Accuracy: 3(0.790) 5(0.780) Delete 5\n",
            "Accuracy: 3(0.846) 6(0.800) Delete 6\n",
            "Accuracy: 3(0.790) 7(0.790) Delete 3\n",
            "skipped pair(5, 6), because 5 already deleted\n",
            "skipped pair(5, 7), because 5 already deleted\n",
            "skipped pair(6, 7), because 6 already deleted\n",
            "Accuracy: 8(0.821) 9(0.815) Delete 9\n",
            "Accuracy: 8(0.785) 10(0.831) Delete 8\n",
            "skipped pair(8, 11), because 8 already deleted\n",
            "skipped pair(8, 12), because 8 already deleted\n",
            "skipped pair(8, 13), because 8 already deleted\n",
            "skipped pair(9, 10), because 9 already deleted\n",
            "skipped pair(9, 11), because 9 already deleted\n",
            "skipped pair(9, 12), because 9 already deleted\n",
            "skipped pair(9, 13), because 9 already deleted\n",
            "Accuracy: 10(0.810) 11(0.810) Delete 11\n",
            "Accuracy: 10(0.821) 13(0.800) Delete 13\n",
            "skipped pair(11, 13), because 11 already deleted\n",
            "Accuracy: 18(0.831) 21(0.816) Delete 21\n",
            "[5, 6, 3, 9, 8, 11, 13, 21]\n"
          ]
        }
      ],
      "source": [
        "from sklearn import svm\n",
        "deleted = []\n",
        "for i in pair:\n",
        "  if i[0] in deleted:\n",
        "    print(\"skipped pair(%i, %i), because %i already deleted\" %(i[0], i[1], i[0]))\n",
        "    continue\n",
        "  if i[1] in deleted:\n",
        "    print(\"skipped pair(%i, %i), because %i already deleted\" %(i[0], i[1], i[1]))\n",
        "    continue\n",
        "  A = X\n",
        "  B = X\n",
        "  A = np.delete(A, i[0], 1)\n",
        "  B = np.delete(B, i[1], 1)\n",
        "  score_a = performSVM(A, y)\n",
        "  score_b = performSVM(B, y)\n",
        "  if(score_a > score_b):\n",
        "    delete = i[1]\n",
        "  else:\n",
        "    delete = i[0]\n",
        "  deleted.append(delete)\n",
        "  print(\"Accuracy: %i(%.3f) %i(%.3f) Delete %i\" %(i[0], score_a, i[1], score_b, delete))\n",
        "print(deleted)"
      ]
    },
    {
      "cell_type": "code",
      "execution_count": 257,
      "metadata": {
        "colab": {
          "base_uri": "https://localhost:8080/"
        },
        "id": "8gaTAOCrtSbr",
        "outputId": "f01e7cf3-bdcb-4339-a314-1a80447b937d"
      },
      "outputs": [
        {
          "name": "stdout",
          "output_type": "stream",
          "text": [
            "preprocessing\n",
            "[[119.992 157.302  74.997   0.008   0.      0.004   0.006   0.011   0.044\n",
            "    0.426   0.022   0.031   0.03    0.065   0.022  21.033   0.415   0.815\n",
            "   -4.813   0.266   2.301   0.285]\n",
            " [122.4   148.65  113.819   0.01    0.      0.005   0.007   0.014   0.061\n",
            "    0.626   0.031   0.045   0.044   0.094   0.019  19.085   0.458   0.82\n",
            "   -4.075   0.336   2.487   0.369]\n",
            " [116.682 131.111 111.555   0.011   0.      0.005   0.008   0.016   0.052\n",
            "    0.482   0.028   0.039   0.036   0.083   0.013  20.651   0.43    0.825\n",
            "   -4.443   0.311   2.342   0.333]\n",
            " [116.676 137.871 111.366   0.01    0.      0.005   0.007   0.015   0.055\n",
            "    0.517   0.029   0.04    0.038   0.088   0.014  20.644   0.435   0.819\n",
            "   -4.118   0.334   2.406   0.369]\n",
            " [116.014 141.781 110.655   0.013   0.      0.007   0.009   0.02    0.064\n",
            "    0.584   0.035   0.048   0.045   0.105   0.018  19.649   0.417   0.823\n",
            "   -3.748   0.235   2.332   0.41 ]]\n",
            "postprocessing\n",
            "[[119.992 157.302  74.997   0.      0.011   0.022   0.03    0.022  21.033\n",
            "    0.415   0.815  -4.813   0.266   2.301]\n",
            " [122.4   148.65  113.819   0.      0.014   0.031   0.044   0.019  19.085\n",
            "    0.458   0.82   -4.075   0.336   2.487]\n",
            " [116.682 131.111 111.555   0.      0.016   0.028   0.036   0.013  20.651\n",
            "    0.43    0.825  -4.443   0.311   2.342]\n",
            " [116.676 137.871 111.366   0.      0.015   0.029   0.038   0.014  20.644\n",
            "    0.435   0.819  -4.118   0.334   2.406]\n",
            " [116.014 141.781 110.655   0.      0.02    0.035   0.045   0.018  19.649\n",
            "    0.417   0.823  -3.748   0.235   2.332]]\n"
          ]
        }
      ],
      "source": [
        "print(\"preprocessing\")\n",
        "print(X[:5,:])\n",
        "X = deleteColumn(X, deleted)\n",
        "print(\"postprocessing\")\n",
        "print(X[:5,:])"
      ]
    },
    {
      "cell_type": "code",
      "execution_count": 258,
      "metadata": {
        "colab": {
          "base_uri": "https://localhost:8080/"
        },
        "id": "dxRfIAiJm3Kd",
        "outputId": "26c4486b-ae37-461f-e1e5-c310ba84e924"
      },
      "outputs": [
        {
          "name": "stdout",
          "output_type": "stream",
          "text": [
            "Pearson's Correlation of feature 0 is: -0.384\n",
            "Pearson's Correlation of feature 1 is: -0.166\n",
            "Pearson's Correlation of feature 2 is: -0.380\n",
            "Pearson's Correlation of feature 3 is: 0.339\n",
            "Pearson's Correlation of feature 4 is: 0.267\n",
            "Pearson's Correlation of feature 5 is: 0.348\n",
            "Pearson's Correlation of feature 6 is: 0.364\n",
            "Pearson's Correlation of feature 7 is: 0.189\n",
            "Pearson's Correlation of feature 8 is: -0.362\n",
            "Pearson's Correlation of feature 9 is: 0.309\n",
            "Pearson's Correlation of feature 10 is: 0.232\n",
            "Pearson's Correlation of feature 11 is: 0.565\n",
            "Pearson's Correlation of feature 12 is: 0.455\n",
            "Pearson's Correlation of feature 13 is: 0.340\n"
          ]
        }
      ],
      "source": [
        "Corr = []\n",
        "for i in range(len(X[0])):\n",
        "  feature = X[:, i]\n",
        "  corr, _ = pearsonr(feature, y)\n",
        "  Corr.append([abs(corr), i])\n",
        "  print(\"Pearson's Correlation of feature\", i, \"is: %.3f\" % corr)"
      ]
    },
    {
      "cell_type": "code",
      "execution_count": 259,
      "metadata": {
        "colab": {
          "base_uri": "https://localhost:8080/"
        },
        "id": "OtMqUMGxqw6K",
        "outputId": "415e4800-f258-49af-cad7-5965b17f280b"
      },
      "outputs": [
        {
          "name": "stdout",
          "output_type": "stream",
          "text": [
            "ranking the 14 lowest correlations: \n",
            "feature:  1 corr: 0.166\n",
            "feature:  7 corr: 0.189\n",
            "feature: 10 corr: 0.232\n",
            "feature:  4 corr: 0.267\n",
            "feature:  9 corr: 0.309\n",
            "feature:  3 corr: 0.339\n",
            "feature: 13 corr: 0.340\n",
            "feature:  5 corr: 0.348\n",
            "feature:  8 corr: 0.362\n",
            "feature:  6 corr: 0.364\n",
            "feature:  2 corr: 0.380\n",
            "feature:  0 corr: 0.384\n",
            "feature: 12 corr: 0.455\n",
            "feature: 11 corr: 0.565\n"
          ]
        }
      ],
      "source": [
        "# sort all the correlations\n",
        "num = len(X[0])\n",
        "Corr.sort()\n",
        "print(\"ranking the %i lowest correlations: \" %num)\n",
        "for i in range(num):\n",
        "  print(\"feature: %2d corr: %.3f\" %(Corr[i][1], Corr[i][0]))"
      ]
    },
    {
      "cell_type": "code",
      "execution_count": 260,
      "metadata": {
        "colab": {
          "base_uri": "https://localhost:8080/"
        },
        "id": "iQJ1G_TtwAvj",
        "outputId": "0f889d46-246b-4cf7-be6d-6431854cacfe"
      },
      "outputs": [
        {
          "name": "stdout",
          "output_type": "stream",
          "text": [
            "[1, 7, 10, 4]\n"
          ]
        }
      ],
      "source": [
        "columns = []\n",
        "for i in range(4):\n",
        "  columns.append(Corr[i][1])\n",
        "print(columns)"
      ]
    },
    {
      "cell_type": "code",
      "execution_count": 261,
      "metadata": {
        "colab": {
          "base_uri": "https://localhost:8080/"
        },
        "id": "RFHDaIOdQxcq",
        "outputId": "7b242568-6023-47aa-859b-07cd1f6349dd"
      },
      "outputs": [
        {
          "name": "stdout",
          "output_type": "stream",
          "text": [
            "preprocessing\n",
            "[[119.992 157.302  74.997   0.      0.011   0.022   0.03    0.022  21.033\n",
            "    0.415   0.815  -4.813   0.266   2.301]\n",
            " [122.4   148.65  113.819   0.      0.014   0.031   0.044   0.019  19.085\n",
            "    0.458   0.82   -4.075   0.336   2.487]\n",
            " [116.682 131.111 111.555   0.      0.016   0.028   0.036   0.013  20.651\n",
            "    0.43    0.825  -4.443   0.311   2.342]\n",
            " [116.676 137.871 111.366   0.      0.015   0.029   0.038   0.014  20.644\n",
            "    0.435   0.819  -4.118   0.334   2.406]\n",
            " [116.014 141.781 110.655   0.      0.02    0.035   0.045   0.018  19.649\n",
            "    0.417   0.823  -3.748   0.235   2.332]]\n",
            "postprocessing\n",
            "[[119.992  74.997   0.      0.022   0.03   21.033   0.415  -4.813   0.266\n",
            "    2.301]\n",
            " [122.4   113.819   0.      0.031   0.044  19.085   0.458  -4.075   0.336\n",
            "    2.487]\n",
            " [116.682 111.555   0.      0.028   0.036  20.651   0.43   -4.443   0.311\n",
            "    2.342]\n",
            " [116.676 111.366   0.      0.029   0.038  20.644   0.435  -4.118   0.334\n",
            "    2.406]\n",
            " [116.014 110.655   0.      0.035   0.045  19.649   0.417  -3.748   0.235\n",
            "    2.332]]\n"
          ]
        }
      ],
      "source": [
        "print(\"preprocessing\")\n",
        "print(X[:5,:])\n",
        "X = deleteColumn(X, columns)\n",
        "print(\"postprocessing\")\n",
        "print(X[:5,:])"
      ]
    },
    {
      "cell_type": "code",
      "execution_count": 262,
      "metadata": {
        "colab": {
          "base_uri": "https://localhost:8080/",
          "height": 106
        },
        "id": "1c48i7x0mjqC",
        "outputId": "91c4aff7-a74f-45e0-87ea-b8a2799e8a66"
      },
      "outputs": [
        {
          "data": {
            "text/plain": [
              "'\\n# partition into training and validation set at 80/20 division\\nX_train, X_test, y_train, y_test = train_test_split(X, y, test_size=0.20)\\n# Converting y_r and y_t into one-hot encoding using a keras utility\\n\\ny_test = keras.utils.to_categorical(y_test)\\ny_train = keras.utils.to_categorical(y_train)\\n'"
            ]
          },
          "execution_count": 262,
          "metadata": {},
          "output_type": "execute_result"
        }
      ],
      "source": [
        "\"\"\"\n",
        "# partition into training and validation set at 80/20 division\n",
        "X_train, X_test, y_train, y_test = train_test_split(X, y, test_size=0.20)\n",
        "# Converting y_r and y_t into one-hot encoding using a keras utility\n",
        "\n",
        "y_test = keras.utils.to_categorical(y_test)\n",
        "y_train = keras.utils.to_categorical(y_train)\n",
        "\"\"\""
      ]
    },
    {
      "cell_type": "code",
      "execution_count": 263,
      "metadata": {
        "colab": {
          "base_uri": "https://localhost:8080/"
        },
        "id": "vjMxsi8Nkb3A",
        "outputId": "e54210ea-df17-432f-e9b7-d4f4d609db44"
      },
      "outputs": [
        {
          "name": "stdout",
          "output_type": "stream",
          "text": [
            "before transformation\n",
            "--------------------\n",
            "range of feature 0 is 171\n",
            "range of feature 1 is 173\n",
            "range of feature 2 is 0\n",
            "range of feature 3 is 0\n",
            "range of feature 4 is 0\n",
            "range of feature 5 is 24\n",
            "range of feature 6 is 0\n",
            "range of feature 7 is 5\n",
            "range of feature 8 is 0\n",
            "range of feature 9 is 2\n",
            "after transformation\n",
            "--------------------\n",
            "range of feature 0 is 10\n",
            "range of feature 1 is 10\n",
            "range of feature 2 is 10\n",
            "range of feature 3 is 10\n",
            "range of feature 4 is 10\n",
            "range of feature 5 is 10\n",
            "range of feature 6 is 10\n",
            "range of feature 7 is 10\n",
            "range of feature 8 is 10\n",
            "range of feature 9 is 10\n",
            "(195, 10)\n"
          ]
        }
      ],
      "source": [
        "from sklearn import preprocessing\n",
        "print(\"before transformation\\n--------------------\")\n",
        "for i in range(X.shape[1]):\n",
        "  print(\"range of feature %i is %i\"%(i, np.ptp(X[:,i])))\n",
        "min_max_scaler = preprocessing.MinMaxScaler(feature_range=(-5, 5))\n",
        "X = min_max_scaler.fit_transform(X)\n",
        "print(\"after transformation\\n--------------------\")\n",
        "for i in range(X.shape[1]):\n",
        "  print(\"range of feature %i is %i\"%(i, np.ptp(X[:,i])))\n",
        "\n",
        "# standardize X\n",
        "scaler = preprocessing.StandardScaler().fit(X)\n",
        "# X_train = scaler.transform(X_train)\n",
        "# X_test = scaler.transform(X_test)\n",
        "print(X.shape)"
      ]
    },
    {
      "cell_type": "code",
      "execution_count": 264,
      "metadata": {
        "colab": {
          "base_uri": "https://localhost:8080/"
        },
        "id": "4G7q-G0Z9JbU",
        "outputId": "feeee49c-ca34-4137-c5f7-5c5e99ac7c82"
      },
      "outputs": [
        {
          "name": "stdout",
          "output_type": "stream",
          "text": [
            "[[-3.157 -4.452 -2.51  ...  0.699  0.858 -1.093]\n",
            " [-3.017 -2.217 -2.115 ...  2.033  2.413 -0.269]\n",
            " [-3.35  -2.347 -1.719 ...  1.367  1.864 -0.912]\n",
            " ...\n",
            " [ 0.027 -4.493 -2.115 ... -2.871 -1.574  0.59 ]\n",
            " [ 1.429 -4.457 -3.696 ... -2.793 -0.471 -1.818]\n",
            " [ 2.333 -4.281 -4.091 ... -0.948 -0.849  0.037]]\n"
          ]
        }
      ],
      "source": [
        "print(X)"
      ]
    },
    {
      "cell_type": "code",
      "execution_count": 265,
      "metadata": {},
      "outputs": [
        {
          "name": "stdout",
          "output_type": "stream",
          "text": [
            "[[0, 5, 6, 7], [0, 5, 6, 7], [0, 5, 6, 7], [0, 5, 6, 7], [0, 5, 6, 7], [0, 5, 6, 7]]\n",
            "[[0, 5, 6, 7, 1], [0, 5, 6, 7, 2], [0, 5, 6, 7, 3], [0, 5, 6, 7, 4], [0, 5, 6, 7, 8], [0, 5, 6, 7, 9]]\n"
          ]
        }
      ],
      "source": [
        "other = [1, 2, 3, 4, 8, 9]\n",
        "combinations = []\n",
        "combination = [0, 5, 6, 7]\n",
        "for i in range(len(other)):\n",
        "    combinations.append(combination.copy())\n",
        "print(combinations)\n",
        "for i in range(len(combinations)):\n",
        "    combinations[i].append(other[i])\n",
        "\n",
        "print(combinations)\n",
        "combinations = [[0, 5, 6, 7, 3]]"
      ]
    },
    {
      "cell_type": "code",
      "execution_count": 266,
      "metadata": {
        "colab": {
          "base_uri": "https://localhost:8080/"
        },
        "id": "KecNc-qu2MlP",
        "outputId": "10d3aebb-1415-4d50-adb2-b7378597398d"
      },
      "outputs": [
        {
          "name": "stdout",
          "output_type": "stream",
          "text": [
            "--------------------\n",
            "current combination [0, 5, 6, 7, 3]\n",
            "fold 0\n"
          ]
        },
        {
          "name": "stdout",
          "output_type": "stream",
          "text": [
            "3/3 [==============================] - 0s 1ms/step\n",
            "Accuracy: 0.969\n",
            "fold 1\n",
            "3/3 [==============================] - 0s 852us/step\n",
            "Accuracy: 0.923\n",
            "fold 2\n",
            "3/3 [==============================] - 0s 837us/step\n",
            "Accuracy: 0.923\n",
            "fold 3\n",
            "3/3 [==============================] - 0s 784us/step\n",
            "Accuracy: 0.938\n",
            "fold 4\n",
            "3/3 [==============================] - 0s 816us/step\n",
            "Accuracy: 0.831\n",
            "fold 5\n",
            "3/3 [==============================] - 0s 967us/step\n",
            "Accuracy: 0.969\n",
            "fold 6\n",
            "3/3 [==============================] - 0s 3ms/step\n",
            "Accuracy: 0.938\n",
            "fold 7\n",
            "3/3 [==============================] - 0s 925us/step\n",
            "Accuracy: 0.923\n",
            "fold 8\n",
            "3/3 [==============================] - 0s 889us/step\n",
            "Accuracy: 0.908\n",
            "fold 9\n",
            "3/3 [==============================] - 0s 901us/step\n",
            "Accuracy: 0.954\n",
            "fold 10\n",
            "3/3 [==============================] - 0s 785us/step\n",
            "Accuracy: 0.938\n",
            "fold 11\n",
            "3/3 [==============================] - 0s 846us/step\n",
            "Accuracy: 0.938\n",
            "fold 12\n",
            "3/3 [==============================] - 0s 710us/step\n",
            "Accuracy: 0.892\n",
            "fold 13\n",
            "3/3 [==============================] - 0s 880us/step\n",
            "Accuracy: 0.954\n",
            "fold 14\n",
            "3/3 [==============================] - 0s 900us/step\n",
            "Accuracy: 0.938\n",
            "fold 15\n",
            "3/3 [==============================] - 0s 866us/step\n",
            "Accuracy: 0.954\n",
            "fold 16\n",
            "3/3 [==============================] - 0s 881us/step\n",
            "Accuracy: 0.954\n",
            "fold 17\n",
            "3/3 [==============================] - 0s 900us/step\n",
            "Accuracy: 0.862\n",
            "fold 18\n",
            "3/3 [==============================] - 0s 796us/step\n",
            "Accuracy: 0.969\n",
            "fold 19\n",
            "3/3 [==============================] - 0s 783us/step\n",
            "Accuracy: 0.969\n",
            "fold 20\n",
            "3/3 [==============================] - 0s 814us/step\n",
            "Accuracy: 0.877\n",
            "fold 21\n",
            "3/3 [==============================] - 0s 800us/step\n",
            "Accuracy: 0.969\n",
            "fold 22\n",
            "3/3 [==============================] - 0s 790us/step\n",
            "Accuracy: 0.923\n",
            "fold 23\n",
            "3/3 [==============================] - 0s 1ms/step\n",
            "Accuracy: 0.954\n",
            "fold 24\n",
            "3/3 [==============================] - 0s 903us/step\n",
            "Accuracy: 0.877\n",
            "fold 25\n",
            "3/3 [==============================] - 0s 847us/step\n",
            "Accuracy: 0.938\n",
            "fold 26\n",
            "3/3 [==============================] - 0s 768us/step\n",
            "Accuracy: 0.938\n",
            "fold 27\n",
            "3/3 [==============================] - 0s 702us/step\n",
            "Accuracy: 0.938\n",
            "fold 28\n",
            "3/3 [==============================] - 0s 718us/step\n",
            "Accuracy: 0.969\n",
            "fold 29\n",
            "3/3 [==============================] - 0s 862us/step\n",
            "Accuracy: 0.892\n",
            "fold 30\n",
            "3/3 [==============================] - 0s 769us/step\n",
            "Accuracy: 0.954\n",
            "fold 31\n",
            "3/3 [==============================] - 0s 823us/step\n",
            "Accuracy: 0.985\n",
            "fold 32\n",
            "3/3 [==============================] - 0s 827us/step\n",
            "Accuracy: 0.908\n",
            "fold 33\n",
            "3/3 [==============================] - 0s 816us/step\n",
            "Accuracy: 0.954\n",
            "fold 34\n",
            "3/3 [==============================] - 0s 805us/step\n",
            "Accuracy: 0.831\n",
            "fold 35\n",
            "3/3 [==============================] - 0s 746us/step\n",
            "Accuracy: 0.954\n",
            "fold 36\n",
            "3/3 [==============================] - 0s 743us/step\n",
            "Accuracy: 0.923\n",
            "fold 37\n",
            "3/3 [==============================] - 0s 866us/step\n",
            "Accuracy: 0.969\n",
            "fold 38\n",
            "3/3 [==============================] - 0s 713us/step\n",
            "Accuracy: 0.938\n",
            "fold 39\n",
            "3/3 [==============================] - 0s 774us/step\n",
            "Accuracy: 0.969\n",
            "fold 40\n",
            "3/3 [==============================] - 0s 759us/step\n",
            "Accuracy: 0.908\n",
            "fold 41\n",
            "3/3 [==============================] - 0s 710us/step\n",
            "Accuracy: 0.923\n",
            "fold 42\n",
            "3/3 [==============================] - 0s 706us/step\n",
            "Accuracy: 0.877\n",
            "fold 43\n",
            "3/3 [==============================] - 0s 723us/step\n",
            "Accuracy: 0.938\n",
            "fold 44\n",
            "3/3 [==============================] - 0s 685us/step\n",
            "Accuracy: 0.938\n",
            "fold 45\n",
            "3/3 [==============================] - 0s 744us/step\n",
            "Accuracy: 0.938\n",
            "fold 46\n",
            "3/3 [==============================] - 0s 785us/step\n",
            "Accuracy: 0.923\n",
            "fold 47\n",
            "3/3 [==============================] - 0s 762us/step\n",
            "Accuracy: 0.938\n",
            "fold 48\n",
            "3/3 [==============================] - 0s 762us/step\n",
            "Accuracy: 0.938\n",
            "fold 49\n",
            "3/3 [==============================] - 0s 750us/step\n",
            "Accuracy: 0.908\n",
            "fold 50\n",
            "3/3 [==============================] - 0s 797us/step\n",
            "Accuracy: 0.923\n",
            "fold 51\n",
            "3/3 [==============================] - 0s 872us/step\n",
            "Accuracy: 0.969\n",
            "fold 52\n",
            "3/3 [==============================] - 0s 798us/step\n",
            "Accuracy: 0.892\n",
            "fold 53\n",
            "3/3 [==============================] - 0s 777us/step\n",
            "Accuracy: 0.923\n",
            "fold 54\n",
            "3/3 [==============================] - 0s 791us/step\n",
            "Accuracy: 0.938\n",
            "fold 55\n",
            "3/3 [==============================] - 0s 854us/step\n",
            "Accuracy: 0.969\n",
            "fold 56\n",
            "3/3 [==============================] - 0s 800us/step\n",
            "Accuracy: 0.892\n",
            "fold 57\n",
            "3/3 [==============================] - 0s 671us/step\n",
            "Accuracy: 0.923\n",
            "fold 58\n",
            "3/3 [==============================] - 0s 790us/step\n",
            "Accuracy: 0.862\n",
            "fold 59\n",
            "3/3 [==============================] - 0s 712us/step\n",
            "Accuracy: 0.892\n",
            "fold 60\n",
            "3/3 [==============================] - 0s 751us/step\n",
            "Accuracy: 0.877\n",
            "fold 61\n",
            "3/3 [==============================] - 0s 804us/step\n",
            "Accuracy: 0.908\n",
            "fold 62\n",
            "3/3 [==============================] - 0s 772us/step\n",
            "Accuracy: 0.923\n",
            "fold 63\n",
            "3/3 [==============================] - 0s 773us/step\n",
            "Accuracy: 0.938\n",
            "fold 64\n",
            "3/3 [==============================] - 0s 801us/step\n",
            "Accuracy: 0.862\n",
            "fold 65\n",
            "3/3 [==============================] - 0s 762us/step\n",
            "Accuracy: 0.923\n",
            "fold 66\n",
            "3/3 [==============================] - 0s 817us/step\n",
            "Accuracy: 0.923\n",
            "fold 67\n",
            "3/3 [==============================] - 0s 813us/step\n",
            "Accuracy: 0.923\n",
            "fold 68\n",
            "3/3 [==============================] - 0s 703us/step\n",
            "Accuracy: 0.954\n",
            "fold 69\n",
            "3/3 [==============================] - 0s 778us/step\n",
            "Accuracy: 0.923\n",
            "fold 70\n",
            "3/3 [==============================] - 0s 872us/step\n",
            "Accuracy: 0.892\n",
            "fold 71\n",
            "3/3 [==============================] - 0s 798us/step\n",
            "Accuracy: 0.954\n",
            "fold 72\n",
            "3/3 [==============================] - 0s 746us/step\n",
            "Accuracy: 0.938\n",
            "fold 73\n",
            "3/3 [==============================] - 0s 759us/step\n",
            "Accuracy: 0.923\n",
            "fold 74\n",
            "3/3 [==============================] - 0s 789us/step\n",
            "Accuracy: 0.938\n",
            "fold 75\n",
            "3/3 [==============================] - 0s 760us/step\n",
            "Accuracy: 0.892\n",
            "fold 76\n",
            "3/3 [==============================] - 0s 809us/step\n",
            "Accuracy: 0.908\n",
            "fold 77\n",
            "3/3 [==============================] - 0s 773us/step\n",
            "Accuracy: 0.954\n",
            "fold 78\n",
            "3/3 [==============================] - 0s 758us/step\n",
            "Accuracy: 0.877\n",
            "fold 79\n",
            "3/3 [==============================] - 0s 777us/step\n",
            "Accuracy: 0.954\n",
            "fold 80\n",
            "3/3 [==============================] - 0s 795us/step\n",
            "Accuracy: 0.969\n",
            "fold 81\n",
            "3/3 [==============================] - 0s 854us/step\n",
            "Accuracy: 0.969\n",
            "fold 82\n",
            "3/3 [==============================] - 0s 731us/step\n",
            "Accuracy: 0.908\n",
            "fold 83\n",
            "3/3 [==============================] - 0s 736us/step\n",
            "Accuracy: 0.938\n",
            "fold 84\n",
            "3/3 [==============================] - 0s 681us/step\n",
            "Accuracy: 0.938\n",
            "fold 85\n",
            "3/3 [==============================] - 0s 826us/step\n",
            "Accuracy: 0.892\n",
            "fold 86\n",
            "3/3 [==============================] - 0s 755us/step\n",
            "Accuracy: 0.954\n",
            "fold 87\n",
            "3/3 [==============================] - 0s 711us/step\n",
            "Accuracy: 0.923\n",
            "fold 88\n",
            "3/3 [==============================] - 0s 792us/step\n",
            "Accuracy: 0.954\n",
            "fold 89\n",
            "3/3 [==============================] - 0s 771us/step\n",
            "Accuracy: 0.938\n",
            "fold 90\n",
            "3/3 [==============================] - 0s 830us/step\n",
            "Accuracy: 0.908\n",
            "fold 91\n",
            "3/3 [==============================] - 0s 726us/step\n",
            "Accuracy: 0.908\n",
            "fold 92\n",
            "3/3 [==============================] - 0s 726us/step\n",
            "Accuracy: 0.938\n",
            "fold 93\n",
            "3/3 [==============================] - 0s 753us/step\n",
            "Accuracy: 0.908\n",
            "fold 94\n",
            "3/3 [==============================] - 0s 761us/step\n",
            "Accuracy: 0.923\n",
            "fold 95\n",
            "3/3 [==============================] - 0s 728us/step\n",
            "Accuracy: 0.923\n",
            "fold 96\n",
            "3/3 [==============================] - 0s 806us/step\n",
            "Accuracy: 0.923\n",
            "fold 97\n",
            "3/3 [==============================] - 0s 955us/step\n",
            "Accuracy: 0.954\n",
            "fold 98\n",
            "3/3 [==============================] - 0s 794us/step\n",
            "Accuracy: 0.938\n",
            "fold 99\n",
            "3/3 [==============================] - 0s 747us/step\n",
            "Accuracy: 0.877\n",
            "fold 100\n",
            "3/3 [==============================] - 0s 744us/step\n",
            "Accuracy: 0.938\n",
            "fold 101\n",
            "3/3 [==============================] - 0s 813us/step\n",
            "Accuracy: 0.923\n",
            "fold 102\n",
            "3/3 [==============================] - 0s 768us/step\n",
            "Accuracy: 0.954\n",
            "fold 103\n",
            "3/3 [==============================] - 0s 704us/step\n",
            "Accuracy: 0.923\n",
            "fold 104\n",
            "3/3 [==============================] - 0s 831us/step\n",
            "Accuracy: 0.938\n",
            "fold 105\n",
            "3/3 [==============================] - 0s 816us/step\n",
            "Accuracy: 0.892\n",
            "fold 106\n",
            "3/3 [==============================] - 0s 752us/step\n",
            "Accuracy: 0.954\n",
            "fold 107\n",
            "3/3 [==============================] - 0s 749us/step\n",
            "Accuracy: 0.938\n",
            "fold 108\n",
            "3/3 [==============================] - 0s 736us/step\n",
            "Accuracy: 0.892\n",
            "fold 109\n",
            "3/3 [==============================] - 0s 711us/step\n",
            "Accuracy: 0.954\n",
            "fold 110\n",
            "3/3 [==============================] - 0s 739us/step\n",
            "Accuracy: 0.969\n",
            "fold 111\n",
            "3/3 [==============================] - 0s 858us/step\n",
            "Accuracy: 0.954\n",
            "fold 112\n",
            "3/3 [==============================] - 0s 715us/step\n",
            "Accuracy: 0.908\n",
            "fold 113\n",
            "3/3 [==============================] - 0s 744us/step\n",
            "Accuracy: 0.954\n",
            "fold 114\n",
            "3/3 [==============================] - 0s 771us/step\n",
            "Accuracy: 0.908\n",
            "fold 115\n",
            "3/3 [==============================] - 0s 768us/step\n",
            "Accuracy: 0.938\n",
            "fold 116\n",
            "3/3 [==============================] - 0s 739us/step\n",
            "Accuracy: 0.892\n",
            "fold 117\n",
            "3/3 [==============================] - 0s 758us/step\n",
            "Accuracy: 0.908\n",
            "fold 118\n",
            "3/3 [==============================] - 0s 695us/step\n",
            "Accuracy: 0.923\n",
            "fold 119\n",
            "3/3 [==============================] - 0s 743us/step\n",
            "Accuracy: 0.938\n",
            "fold 120\n",
            "3/3 [==============================] - 0s 746us/step\n",
            "Accuracy: 0.954\n",
            "fold 121\n",
            "3/3 [==============================] - 0s 888us/step\n",
            "Accuracy: 0.938\n",
            "fold 122\n",
            "3/3 [==============================] - 0s 718us/step\n",
            "Accuracy: 0.877\n",
            "fold 123\n",
            "3/3 [==============================] - 0s 754us/step\n",
            "Accuracy: 0.938\n",
            "fold 124\n",
            "3/3 [==============================] - 0s 710us/step\n",
            "Accuracy: 0.923\n",
            "fold 125\n",
            "3/3 [==============================] - 0s 739us/step\n",
            "Accuracy: 0.938\n",
            "fold 126\n",
            "3/3 [==============================] - 0s 754us/step\n",
            "Accuracy: 0.923\n",
            "fold 127\n",
            "3/3 [==============================] - 0s 730us/step\n",
            "Accuracy: 0.938\n",
            "fold 128\n",
            "3/3 [==============================] - 0s 904us/step\n",
            "Accuracy: 0.923\n",
            "fold 129\n",
            "3/3 [==============================] - 0s 749us/step\n",
            "Accuracy: 0.923\n",
            "fold 130\n",
            "3/3 [==============================] - 0s 770us/step\n",
            "Accuracy: 0.954\n",
            "fold 131\n",
            "3/3 [==============================] - 0s 776us/step\n",
            "Accuracy: 0.892\n",
            "fold 132\n",
            "3/3 [==============================] - 0s 712us/step\n",
            "Accuracy: 0.954\n",
            "fold 133\n",
            "3/3 [==============================] - 0s 747us/step\n",
            "Accuracy: 0.969\n",
            "fold 134\n",
            "3/3 [==============================] - 0s 750us/step\n",
            "Accuracy: 0.923\n",
            "fold 135\n",
            "3/3 [==============================] - 0s 714us/step\n",
            "Accuracy: 0.938\n",
            "fold 136\n",
            "3/3 [==============================] - 0s 848us/step\n",
            "Accuracy: 0.985\n",
            "fold 137\n",
            "3/3 [==============================] - 0s 740us/step\n",
            "Accuracy: 0.862\n",
            "fold 138\n",
            "3/3 [==============================] - 0s 792us/step\n",
            "Accuracy: 0.954\n",
            "fold 139\n",
            "3/3 [==============================] - 0s 725us/step\n",
            "Accuracy: 0.908\n",
            "fold 140\n",
            "3/3 [==============================] - 0s 771us/step\n",
            "Accuracy: 0.938\n",
            "fold 141\n",
            "3/3 [==============================] - 0s 903us/step\n",
            "Accuracy: 0.923\n",
            "fold 142\n",
            "3/3 [==============================] - 0s 687us/step\n",
            "Accuracy: 0.969\n",
            "fold 143\n",
            "3/3 [==============================] - 0s 761us/step\n",
            "Accuracy: 0.923\n",
            "fold 144\n",
            "3/3 [==============================] - 0s 742us/step\n",
            "Accuracy: 0.892\n",
            "fold 145\n",
            "3/3 [==============================] - 0s 855us/step\n",
            "Accuracy: 0.938\n",
            "fold 146\n",
            "3/3 [==============================] - 0s 859us/step\n",
            "Accuracy: 0.908\n",
            "fold 147\n",
            "3/3 [==============================] - 0s 707us/step\n",
            "Accuracy: 0.954\n",
            "fold 148\n",
            "3/3 [==============================] - 0s 751us/step\n",
            "Accuracy: 0.877\n",
            "fold 149\n",
            "3/3 [==============================] - 0s 758us/step\n",
            "Accuracy: 0.908\n",
            "fold 150\n",
            "3/3 [==============================] - 0s 743us/step\n",
            "Accuracy: 0.923\n",
            "fold 151\n",
            "3/3 [==============================] - 0s 724us/step\n",
            "Accuracy: 0.923\n",
            "fold 152\n",
            "3/3 [==============================] - 0s 690us/step\n",
            "Accuracy: 0.969\n",
            "fold 153\n",
            "3/3 [==============================] - 0s 757us/step\n",
            "Accuracy: 0.892\n",
            "fold 154\n",
            "3/3 [==============================] - 0s 773us/step\n",
            "Accuracy: 0.923\n",
            "fold 155\n",
            "3/3 [==============================] - 0s 872us/step\n",
            "Accuracy: 0.969\n",
            "fold 156\n",
            "3/3 [==============================] - 0s 857us/step\n",
            "Accuracy: 0.954\n",
            "fold 157\n",
            "3/3 [==============================] - 0s 755us/step\n",
            "Accuracy: 0.938\n",
            "fold 158\n",
            "3/3 [==============================] - 0s 726us/step\n",
            "Accuracy: 0.923\n",
            "fold 159\n",
            "3/3 [==============================] - 0s 768us/step\n",
            "Accuracy: 0.938\n",
            "fold 160\n",
            "3/3 [==============================] - 0s 732us/step\n",
            "Accuracy: 0.923\n",
            "fold 161\n",
            "3/3 [==============================] - 0s 781us/step\n",
            "Accuracy: 0.938\n",
            "fold 162\n",
            "3/3 [==============================] - 0s 721us/step\n",
            "Accuracy: 0.938\n",
            "fold 163\n",
            "3/3 [==============================] - 0s 726us/step\n",
            "Accuracy: 0.877\n",
            "fold 164\n",
            "3/3 [==============================] - 0s 746us/step\n",
            "Accuracy: 0.938\n",
            "fold 165\n",
            "3/3 [==============================] - 0s 752us/step\n",
            "Accuracy: 0.938\n",
            "fold 166\n",
            "3/3 [==============================] - 0s 745us/step\n",
            "Accuracy: 0.892\n",
            "fold 167\n",
            "3/3 [==============================] - 0s 738us/step\n",
            "Accuracy: 0.846\n",
            "fold 168\n",
            "3/3 [==============================] - 0s 698us/step\n",
            "Accuracy: 0.923\n",
            "fold 169\n",
            "3/3 [==============================] - 0s 729us/step\n",
            "Accuracy: 0.985\n",
            "fold 170\n",
            "3/3 [==============================] - 0s 797us/step\n",
            "Accuracy: 0.923\n",
            "fold 171\n",
            "3/3 [==============================] - 0s 668us/step\n",
            "Accuracy: 0.938\n",
            "fold 172\n",
            "3/3 [==============================] - 0s 696us/step\n",
            "Accuracy: 0.969\n",
            "fold 173\n",
            "3/3 [==============================] - 0s 780us/step\n",
            "Accuracy: 0.923\n",
            "fold 174\n",
            "3/3 [==============================] - 0s 781us/step\n",
            "Accuracy: 0.938\n",
            "fold 175\n",
            "3/3 [==============================] - 0s 683us/step\n",
            "Accuracy: 0.892\n",
            "fold 176\n",
            "3/3 [==============================] - 0s 678us/step\n",
            "Accuracy: 0.908\n",
            "fold 177\n",
            "3/3 [==============================] - 0s 718us/step\n",
            "Accuracy: 0.969\n",
            "fold 178\n",
            "3/3 [==============================] - 0s 745us/step\n",
            "Accuracy: 0.969\n",
            "fold 179\n",
            "3/3 [==============================] - 0s 760us/step\n",
            "Accuracy: 0.923\n",
            "fold 180\n",
            "3/3 [==============================] - 0s 736us/step\n",
            "Accuracy: 0.938\n",
            "fold 181\n",
            "3/3 [==============================] - 0s 746us/step\n",
            "Accuracy: 0.954\n",
            "fold 182\n",
            "3/3 [==============================] - 0s 677us/step\n",
            "Accuracy: 0.923\n",
            "fold 183\n",
            "3/3 [==============================] - 0s 754us/step\n",
            "Accuracy: 0.892\n",
            "fold 184\n",
            "3/3 [==============================] - 0s 1ms/step\n",
            "Accuracy: 0.908\n",
            "fold 185\n",
            "3/3 [==============================] - 0s 768us/step\n",
            "Accuracy: 0.938\n",
            "fold 186\n",
            "3/3 [==============================] - 0s 788us/step\n",
            "Accuracy: 0.923\n",
            "fold 187\n",
            "3/3 [==============================] - 0s 703us/step\n",
            "Accuracy: 0.923\n",
            "fold 188\n",
            "3/3 [==============================] - 0s 747us/step\n",
            "Accuracy: 0.892\n",
            "fold 189\n",
            "3/3 [==============================] - 0s 708us/step\n",
            "Accuracy: 0.908\n",
            "fold 190\n",
            "3/3 [==============================] - 0s 764us/step\n",
            "Accuracy: 0.954\n",
            "fold 191\n",
            "3/3 [==============================] - 0s 740us/step\n",
            "Accuracy: 0.938\n",
            "average accuracy is 0.927698\n",
            "best combination is:  [0, 5, 6, 7, 3]\n",
            "best score is:  0.9276979166666656\n"
          ]
        }
      ],
      "source": [
        "from scipy.stats._levy_stable import sc\n",
        "# groups into group of 4 features\n",
        "# from itertools import combinations\n",
        "\n",
        "best_score = 0\n",
        "best_comb = combinations[0]\n",
        "scores = []\n",
        "for comb in combinations:\n",
        "  print(\"--------------------\")\n",
        "  print(\"current combination\", comb)\n",
        "  x1 = X[:, comb[0]].reshape((195, 1))\n",
        "  x2 = X[:, comb[1]].reshape((195, 1))\n",
        "  x3 = X[:, comb[2]].reshape((195, 1))\n",
        "  x4 = X[:, comb[3]].reshape((195, 1))\n",
        "  x5 = X[:, comb[4]].reshape((195, 1))\n",
        "  X_ = np.hstack((x1, x2, x3, x4, x5))\n",
        "\n",
        "  score = perform_KF(X_, y)\n",
        "  scores.append(score)\n",
        "  if(score > best_score):\n",
        "    best_score = score\n",
        "    best_comb = comb\n",
        "print(\"best combination is: \", best_comb)\n",
        "print(\"best score is: \", best_score)"
      ]
    },
    {
      "cell_type": "code",
      "execution_count": 267,
      "metadata": {
        "id": "4tWLYyC0Pnu-"
      },
      "outputs": [
        {
          "name": "stdout",
          "output_type": "stream",
          "text": [
            "[0, 5, 6, 7, 3] ,  0.9276979166666656\n"
          ]
        }
      ],
      "source": [
        "f = open(\"DNN2.txt\", \"a\")\n",
        "\n",
        "for i in range(len(combinations)):\n",
        "  print(combinations[i], ', ', scores[i])\n",
        "  f.write('{0}, {1}\\n'.format(str(combinations[i]), str(scores[i])))\n",
        "  \n",
        "f.close()"
      ]
    },
    {
      "cell_type": "code",
      "execution_count": 268,
      "metadata": {},
      "outputs": [
        {
          "name": "stdout",
          "output_type": "stream",
          "text": [
            "1\n",
            "[[[0, 5, 6, 7, 3], 0.9276979166666656]]\n"
          ]
        }
      ],
      "source": [
        "#store the results in an accessible format \n",
        "\n",
        "result = []\n",
        "for i in range(len(combinations)):\n",
        "  result.append([combinations[i], scores[i]])\n",
        "print(len(result))\n",
        "print(result)\n",
        "  "
      ]
    },
    {
      "cell_type": "code",
      "execution_count": 269,
      "metadata": {},
      "outputs": [],
      "source": [
        "# save the object since testing takes too long \n",
        "import pickle\n",
        "\n",
        "f = open('DNN2_result.pkl', 'wb')\n",
        "pickle.dump(result, f)\n",
        "f.close()"
      ]
    },
    {
      "cell_type": "code",
      "execution_count": 270,
      "metadata": {},
      "outputs": [
        {
          "name": "stdout",
          "output_type": "stream",
          "text": [
            "[[[0, 5, 6, 7, 3], 0.9276979166666656]]\n",
            "[[[0, 5, 6, 7, 3], 0.9276979166666656]]\n",
            "[[0, 5, 6, 7, 3], 0.9276979166666656]\n"
          ]
        },
        {
          "ename": "IndexError",
          "evalue": "list index out of range",
          "output_type": "error",
          "traceback": [
            "\u001b[0;31m---------------------------------------------------------------------------\u001b[0m",
            "\u001b[0;31mIndexError\u001b[0m                                Traceback (most recent call last)",
            "Cell \u001b[0;32mIn[270], line 9\u001b[0m\n\u001b[1;32m      7\u001b[0m todo \u001b[39m=\u001b[39m []\n\u001b[1;32m      8\u001b[0m \u001b[39mfor\u001b[39;00m i \u001b[39min\u001b[39;00m \u001b[39mrange\u001b[39m(\u001b[39m10\u001b[39m):\n\u001b[0;32m----> 9\u001b[0m     \u001b[39mprint\u001b[39m(result[i])\n\u001b[1;32m     10\u001b[0m     todo\u001b[39m.\u001b[39mappend(result[i][\u001b[39m0\u001b[39m])\n\u001b[1;32m     11\u001b[0m \u001b[39mprint\u001b[39m(todo)\n",
            "\u001b[0;31mIndexError\u001b[0m: list index out of range"
          ]
        }
      ],
      "source": [
        "# sort and preserve the 10 best performing sets\n",
        "\n",
        "print(result)\n",
        "result.sort(key=lambda result:result[1], reverse=True)\n",
        "print(result)\n",
        "\n",
        "todo = []\n",
        "for i in range(10):\n",
        "    print(result[i])\n",
        "    todo.append(result[i][0])\n",
        "print(todo)"
      ]
    },
    {
      "cell_type": "code",
      "execution_count": null,
      "metadata": {},
      "outputs": [],
      "source": [
        "f = open('DNN2_10best.pkl', 'wb')\n",
        "pickle.dump(todo, f)\n",
        "f.close()"
      ]
    },
    {
      "cell_type": "code",
      "execution_count": null,
      "metadata": {},
      "outputs": [
        {
          "name": "stdout",
          "output_type": "stream",
          "text": [
            "[(0, 3, 6, 7), 0.9126666666666667]\n",
            "[(0, 5, 6, 7), 0.911111111111111]\n",
            "[(0, 3, 4, 7), 0.9094444444444445]\n",
            "[(0, 3, 6, 7), (0, 5, 6, 7), (0, 3, 4, 7)]\n"
          ]
        }
      ],
      "source": [
        "# preserve the 10 best performing sets\n",
        "\n",
        "todo = []\n",
        "for i in range(3):\n",
        "    print(result[i])\n",
        "    todo.append(result[i][0])\n",
        "print(todo)\n",
        "\n",
        "f = open('DNN2_3best.pkl', 'wb')\n",
        "pickle.dump(todo, f)\n",
        "f.close()"
      ]
    }
  ],
  "metadata": {
    "colab": {
      "authorship_tag": "ABX9TyPsGLfRfdXU6jyxOMPRoOEJ",
      "include_colab_link": true,
      "provenance": []
    },
    "kernelspec": {
      "display_name": "Python 3",
      "name": "python3"
    },
    "language_info": {
      "codemirror_mode": {
        "name": "ipython",
        "version": 3
      },
      "file_extension": ".py",
      "mimetype": "text/x-python",
      "name": "python",
      "nbconvert_exporter": "python",
      "pygments_lexer": "ipython3",
      "version": "3.10.2"
    }
  },
  "nbformat": 4,
  "nbformat_minor": 0
}
