{
  "nbformat": 4,
  "nbformat_minor": 0,
  "metadata": {
    "colab": {
      "provenance": [],
      "authorship_tag": "ABX9TyP9yjMEOpZh5NssR8hHEXAt",
      "include_colab_link": true
    },
    "kernelspec": {
      "name": "python3",
      "display_name": "Python 3"
    },
    "language_info": {
      "name": "python"
    }
  },
  "cells": [
    {
      "cell_type": "markdown",
      "metadata": {
        "id": "view-in-github",
        "colab_type": "text"
      },
      "source": [
        "<a href=\"https://colab.research.google.com/github/yangr296/ECE539/blob/main/ECE539_DNN.ipynb\" target=\"_parent\"><img src=\"https://colab.research.google.com/assets/colab-badge.svg\" alt=\"Open In Colab\"/></a>"
      ]
    },
    {
      "cell_type": "code",
      "execution_count": 116,
      "metadata": {
        "colab": {
          "base_uri": "https://localhost:8080/"
        },
        "id": "J_7UEkv9r5pz",
        "outputId": "d727c537-8361-42d6-b6fd-276b7e173cc5"
      },
      "outputs": [
        {
          "output_type": "stream",
          "name": "stdout",
          "text": [
            "Drive already mounted at /content/drive; to attempt to forcibly remount, call drive.mount(\"/content/drive\", force_remount=True).\n"
          ]
        }
      ],
      "source": [
        "#import data from drive\n",
        "import tensorflow as tf\n",
        "import numpy as np\n",
        "import random\n",
        "from google.colab import drive\n",
        "from sklearn.model_selection import train_test_split\n",
        "\n",
        "\n",
        "drive.mount('/content/drive')\n",
        "with open('/content/drive/Shared drives/ECE539/parkinsons/parkinsons.data', 'r') as f:\n",
        "  tmp = np.genfromtxt(f,delimiter=',')\n",
        "  np.set_printoptions(precision=3,suppress=True)"
      ]
    },
    {
      "cell_type": "markdown",
      "source": [
        "Data Preprocessing"
      ],
      "metadata": {
        "id": "cJuaiQY3kiWa"
      }
    },
    {
      "cell_type": "code",
      "source": [
        "from tensorflow import keras\n",
        "\n",
        "X, y = tmp[1:, 1:], tmp[1:, -7]\n",
        "X = np.delete(X, 16, 1)\n",
        "X = X.astype(float)\n",
        "\"\"\"\n",
        "index by columns\n",
        "X[0] MDVP:Fo(Hz)\n",
        "X[1] MDVP:Fhi(Hz)\n",
        "X[2] MDVP:Flo(Hz)\n",
        "X[3] MDVP:Jitter(%)\n",
        "X[4] MDVP:Jitter(Abs)\n",
        "X[5] MDVP:RAP\n",
        "X[6] MDVP:PPQ\n",
        "X[7] Jitter:DDP\n",
        "X[8] MDVP:Shimmer\n",
        "X[9] MDVP:Shimmer(dB)\n",
        "X[10] Shimmer:APQ3\n",
        "X[11] Shimmer:APQ5\n",
        "X[12] MDVP:APQ\n",
        "X[13] Shimmer:DDA\n",
        "X[14] NHR\n",
        "X[15] HNR\n",
        "X[16] RPDE\n",
        "X[17] DFA\n",
        "X[18] spread1\n",
        "X[19] spread2\n",
        "X[20] D2\n",
        "X[21] PPE\n",
        "\"\"\""
      ],
      "metadata": {
        "colab": {
          "base_uri": "https://localhost:8080/",
          "height": 123
        },
        "id": "kjAI1aAg5cp-",
        "outputId": "9030277c-a86a-4f80-fb49-33f7cc1a1cb5"
      },
      "execution_count": 128,
      "outputs": [
        {
          "output_type": "stream",
          "name": "stdout",
          "text": [
            "(195, 22)\n"
          ]
        },
        {
          "output_type": "execute_result",
          "data": {
            "text/plain": [
              "'\\nindex by columns\\nX[0] MDVP:Fo(Hz)\\nX[1] MDVP:Fhi(Hz)\\nX[2] MDVP:Flo(Hz)\\nX[3] MDVP:Jitter(%)\\nX[4] MDVP:Jitter(Abs)\\nX[5] MDVP:RAP\\nX[6] MDVP:PPQ\\nX[7] Jitter:DDP\\nX[8] MDVP:Shimmer\\nX[9] MDVP:Shimmer(dB)\\nX[10] Shimmer:APQ3\\nX[11] Shimmer:APQ5\\nX[12] MDVP:APQ\\nX[13] Shimmer:DDA\\nX[14] NHR\\nX[15] HNR\\nX[16] RPDE\\nX[17] DFA\\nX[18] spread1\\nX[19] spread2\\nX[20] D2\\nX[21] PPE\\n'"
            ],
            "application/vnd.google.colaboratory.intrinsic+json": {
              "type": "string"
            }
          },
          "metadata": {},
          "execution_count": 128
        }
      ]
    },
    {
      "cell_type": "code",
      "source": [
        "from scipy.stats import pearsonr\n",
        "Corr = [[0] * 2 for i in range(22)]\n",
        "for i in range(22):\n",
        "  feature = X[:, i]\n",
        "  corr, _ = pearsonr(feature, y)\n",
        "  Corr[i][0] = abs(corr)\n",
        "  Corr[i][1] = i\n",
        "  print(\"Pearson's Correlation of feature\", i, \"is: %.3f\" % corr)"
      ],
      "metadata": {
        "colab": {
          "base_uri": "https://localhost:8080/"
        },
        "id": "dxRfIAiJm3Kd",
        "outputId": "1054674d-aae6-464b-d0f6-d108fd494a39"
      },
      "execution_count": 146,
      "outputs": [
        {
          "output_type": "stream",
          "name": "stdout",
          "text": [
            "Pearson's Correlation of feature 0 is: -0.384\n",
            "Pearson's Correlation of feature 1 is: -0.166\n",
            "Pearson's Correlation of feature 2 is: -0.380\n",
            "Pearson's Correlation of feature 3 is: 0.278\n",
            "Pearson's Correlation of feature 4 is: 0.339\n",
            "Pearson's Correlation of feature 5 is: 0.267\n",
            "Pearson's Correlation of feature 6 is: 0.289\n",
            "Pearson's Correlation of feature 7 is: 0.267\n",
            "Pearson's Correlation of feature 8 is: 0.367\n",
            "Pearson's Correlation of feature 9 is: 0.351\n",
            "Pearson's Correlation of feature 10 is: 0.348\n",
            "Pearson's Correlation of feature 11 is: 0.351\n",
            "Pearson's Correlation of feature 12 is: 0.364\n",
            "Pearson's Correlation of feature 13 is: 0.348\n",
            "Pearson's Correlation of feature 14 is: 0.189\n",
            "Pearson's Correlation of feature 15 is: -0.362\n",
            "Pearson's Correlation of feature 16 is: 0.309\n",
            "Pearson's Correlation of feature 17 is: 0.232\n",
            "Pearson's Correlation of feature 18 is: 0.565\n",
            "Pearson's Correlation of feature 19 is: 0.455\n",
            "Pearson's Correlation of feature 20 is: 0.340\n",
            "Pearson's Correlation of feature 21 is: 0.531\n"
          ]
        }
      ]
    },
    {
      "cell_type": "code",
      "source": [
        "# sort all the correlations\n",
        "num = 22\n",
        "Corr.sort()\n",
        "print(\"ranking the %i lowest correlations: \" %num)\n",
        "for i in range(num):\n",
        "  print(\"feature: %2d corr: %.3f\" %(Corr[i][1], Corr[i][0]))"
      ],
      "metadata": {
        "colab": {
          "base_uri": "https://localhost:8080/"
        },
        "id": "OtMqUMGxqw6K",
        "outputId": "4dbba977-1ec6-41d7-d552-d3049e972504"
      },
      "execution_count": 153,
      "outputs": [
        {
          "output_type": "stream",
          "name": "stdout",
          "text": [
            "ranking the 22 lowest correlations: \n",
            "feature:  1 corr: 0.166\n",
            "feature: 14 corr: 0.189\n",
            "feature: 17 corr: 0.232\n",
            "feature:  7 corr: 0.267\n",
            "feature:  5 corr: 0.267\n",
            "feature:  3 corr: 0.278\n",
            "feature:  6 corr: 0.289\n",
            "feature: 16 corr: 0.309\n",
            "feature:  4 corr: 0.339\n",
            "feature: 20 corr: 0.340\n",
            "feature: 13 corr: 0.348\n",
            "feature: 10 corr: 0.348\n",
            "feature:  9 corr: 0.351\n",
            "feature: 11 corr: 0.351\n",
            "feature: 15 corr: 0.362\n",
            "feature: 12 corr: 0.364\n",
            "feature:  8 corr: 0.367\n",
            "feature:  2 corr: 0.380\n",
            "feature:  0 corr: 0.384\n",
            "feature: 19 corr: 0.455\n",
            "feature: 21 corr: 0.531\n",
            "feature: 18 corr: 0.565\n"
          ]
        }
      ]
    },
    {
      "cell_type": "code",
      "source": [
        "# partition into training and validation set at 80/20 division\n",
        "X_train, X_test, y_train, y_test = train_test_split(X, y, test_size=0.20)\n",
        "# Converting y_r and y_t into one-hot encoding using a keras utility\n",
        "#  to_categorical\n",
        "\n",
        "# print(y_test)\n",
        "#[1, 0] is 0\n",
        "#[0, 1] is 1\n",
        "y_test = keras.utils.to_categorical(y_test)\n",
        "y_train = keras.utils.to_categorical(y_train)\n",
        "# print(y_test)"
      ],
      "metadata": {
        "id": "1c48i7x0mjqC"
      },
      "execution_count": null,
      "outputs": []
    },
    {
      "cell_type": "code",
      "source": [
        "from sklearn.impute import KNNImputer\n",
        "\n",
        "if np.sum(np.isnan(X)):\n",
        "  print('Total of NaN before imputation:', np.sum(np.isnan(X)))\n",
        "  imputer = KNNImputer(n_neighbors=2, weights=\"uniform\")\n",
        "  X1 = imputer.fit_transform(X)\n",
        "  print('Total of NaN after imputation:', np.sum(np.isnan(X1)))\n",
        "else:\n",
        "  X1 = X\n",
        "  print('no NaN')"
      ],
      "metadata": {
        "colab": {
          "base_uri": "https://localhost:8080/"
        },
        "id": "nfIFa6bGkSOV",
        "outputId": "272351e2-980a-419f-ac84-f3f056be4cff"
      },
      "execution_count": 118,
      "outputs": [
        {
          "output_type": "stream",
          "name": "stdout",
          "text": [
            "no NaN\n"
          ]
        }
      ]
    },
    {
      "cell_type": "code",
      "source": [
        "from sklearn import preprocessing\n",
        "print(\"before transformation\\n--------------------\")\n",
        "for i in range(X.shape[1]):\n",
        "  print(\"range of feature %i is %i\"%(i, np.ptp(X_train[:,i])))\n",
        "min_max_scaler = preprocessing.MinMaxScaler(feature_range=(-1, 1))\n",
        "X_train = min_max_scaler.fit_transform(X_train)\n",
        "X_test = min_max_scaler.fit_transform(X_test)\n",
        "print(\"after transformation\\n--------------------\")\n",
        "for i in range(X.shape[1]):\n",
        "  print(\"range of feature %i is %i\"%(i, np.ptp(X_train[:,i])))"
      ],
      "metadata": {
        "colab": {
          "base_uri": "https://localhost:8080/"
        },
        "id": "vjMxsi8Nkb3A",
        "outputId": "16a9f451-8b36-4874-ba17-9a47d45d7537"
      },
      "execution_count": 119,
      "outputs": [
        {
          "output_type": "stream",
          "name": "stdout",
          "text": [
            "before transformation\n",
            "--------------------\n",
            "range of feature 0 is 156\n",
            "range of feature 1 is 489\n",
            "range of feature 2 is 173\n",
            "range of feature 3 is 0\n",
            "range of feature 4 is 0\n",
            "range of feature 5 is 0\n",
            "range of feature 6 is 0\n",
            "range of feature 7 is 0\n",
            "range of feature 8 is 0\n",
            "range of feature 9 is 0\n",
            "range of feature 10 is 0\n",
            "range of feature 11 is 0\n",
            "range of feature 12 is 0\n",
            "range of feature 13 is 0\n",
            "range of feature 14 is 0\n",
            "range of feature 15 is 24\n",
            "range of feature 16 is 0\n",
            "range of feature 17 is 0\n",
            "range of feature 18 is 5\n",
            "range of feature 19 is 0\n",
            "range of feature 20 is 2\n",
            "range of feature 21 is 0\n",
            "after transformation\n",
            "--------------------\n",
            "range of feature 0 is 2\n",
            "range of feature 1 is 2\n",
            "range of feature 2 is 2\n",
            "range of feature 3 is 2\n",
            "range of feature 4 is 2\n",
            "range of feature 5 is 2\n",
            "range of feature 6 is 2\n",
            "range of feature 7 is 2\n",
            "range of feature 8 is 1\n",
            "range of feature 9 is 2\n",
            "range of feature 10 is 1\n",
            "range of feature 11 is 2\n",
            "range of feature 12 is 2\n",
            "range of feature 13 is 1\n",
            "range of feature 14 is 1\n",
            "range of feature 15 is 2\n",
            "range of feature 16 is 2\n",
            "range of feature 17 is 2\n",
            "range of feature 18 is 2\n",
            "range of feature 19 is 2\n",
            "range of feature 20 is 1\n",
            "range of feature 21 is 2\n"
          ]
        }
      ]
    },
    {
      "cell_type": "markdown",
      "source": [
        "Model Definition"
      ],
      "metadata": {
        "id": "y7SOcpGbklkV"
      }
    },
    {
      "cell_type": "code",
      "source": [
        "net = tf.keras.models.Sequential([\n",
        "    tf.keras.layers.Dense(10, input_dim=22, activation = 'relu'),\n",
        "    tf.keras.layers.Dense(10, activation = 'relu'),\n",
        "    tf.keras.layers.LayerNormalization(),\n",
        "    tf.keras.layers.Dropout(0.3),\n",
        "    tf.keras.layers.Dense(2, activation='softmax')])"
      ],
      "metadata": {
        "id": "UmfCUVYi5m6P"
      },
      "execution_count": 120,
      "outputs": []
    },
    {
      "cell_type": "code",
      "source": [
        "# compile the keras model\n",
        "net.compile(loss='binary_crossentropy', optimizer='Adadelta',\n",
        "              metrics=['accuracy'])"
      ],
      "metadata": {
        "id": "HdkST6Om57mv"
      },
      "execution_count": 121,
      "outputs": []
    },
    {
      "cell_type": "markdown",
      "source": [
        "Training"
      ],
      "metadata": {
        "id": "P2exBAUukoIQ"
      }
    },
    {
      "cell_type": "code",
      "source": [
        "# fit the keras model on the dataset\n",
        "net.fit(X_train, y_train, epochs=150, batch_size=10)"
      ],
      "metadata": {
        "colab": {
          "base_uri": "https://localhost:8080/"
        },
        "id": "TaQknY8D59ew",
        "outputId": "52860307-56e4-40be-ffd1-077415f69ebe"
      },
      "execution_count": 122,
      "outputs": [
        {
          "output_type": "stream",
          "name": "stdout",
          "text": [
            "Epoch 1/150\n",
            "16/16 [==============================] - 1s 2ms/step - loss: 0.8706 - accuracy: 0.4808\n",
            "Epoch 2/150\n",
            "16/16 [==============================] - 0s 2ms/step - loss: 0.9062 - accuracy: 0.5192\n",
            "Epoch 3/150\n",
            "16/16 [==============================] - 0s 2ms/step - loss: 0.8308 - accuracy: 0.5256\n",
            "Epoch 4/150\n",
            "16/16 [==============================] - 0s 3ms/step - loss: 0.8697 - accuracy: 0.5192\n",
            "Epoch 5/150\n",
            "16/16 [==============================] - 0s 3ms/step - loss: 0.8772 - accuracy: 0.5449\n",
            "Epoch 6/150\n",
            "16/16 [==============================] - 0s 3ms/step - loss: 0.8538 - accuracy: 0.4808\n",
            "Epoch 7/150\n",
            "16/16 [==============================] - 0s 2ms/step - loss: 0.8555 - accuracy: 0.4872\n",
            "Epoch 8/150\n",
            "16/16 [==============================] - 0s 2ms/step - loss: 0.9014 - accuracy: 0.5128\n",
            "Epoch 9/150\n",
            "16/16 [==============================] - 0s 5ms/step - loss: 0.8716 - accuracy: 0.5449\n",
            "Epoch 10/150\n",
            "16/16 [==============================] - 0s 4ms/step - loss: 0.8372 - accuracy: 0.5192\n",
            "Epoch 11/150\n",
            "16/16 [==============================] - 0s 5ms/step - loss: 0.8842 - accuracy: 0.5449\n",
            "Epoch 12/150\n",
            "16/16 [==============================] - 0s 4ms/step - loss: 0.8489 - accuracy: 0.5000\n",
            "Epoch 13/150\n",
            "16/16 [==============================] - 0s 4ms/step - loss: 0.8751 - accuracy: 0.5449\n",
            "Epoch 14/150\n",
            "16/16 [==============================] - 0s 5ms/step - loss: 0.8757 - accuracy: 0.5256\n",
            "Epoch 15/150\n",
            "16/16 [==============================] - 0s 5ms/step - loss: 0.8803 - accuracy: 0.5064\n",
            "Epoch 16/150\n",
            "16/16 [==============================] - 0s 4ms/step - loss: 0.8884 - accuracy: 0.5192\n",
            "Epoch 17/150\n",
            "16/16 [==============================] - 0s 5ms/step - loss: 0.8709 - accuracy: 0.5449\n",
            "Epoch 18/150\n",
            "16/16 [==============================] - 0s 3ms/step - loss: 0.8816 - accuracy: 0.4744\n",
            "Epoch 19/150\n",
            "16/16 [==============================] - 0s 4ms/step - loss: 0.8774 - accuracy: 0.4679\n",
            "Epoch 20/150\n",
            "16/16 [==============================] - 0s 3ms/step - loss: 0.8362 - accuracy: 0.5192\n",
            "Epoch 21/150\n",
            "16/16 [==============================] - 0s 5ms/step - loss: 0.8464 - accuracy: 0.4936\n",
            "Epoch 22/150\n",
            "16/16 [==============================] - 0s 4ms/step - loss: 0.9002 - accuracy: 0.4551\n",
            "Epoch 23/150\n",
            "16/16 [==============================] - 0s 5ms/step - loss: 0.8577 - accuracy: 0.5321\n",
            "Epoch 24/150\n",
            "16/16 [==============================] - 0s 4ms/step - loss: 0.8609 - accuracy: 0.5321\n",
            "Epoch 25/150\n",
            "16/16 [==============================] - 0s 5ms/step - loss: 0.8551 - accuracy: 0.5192\n",
            "Epoch 26/150\n",
            "16/16 [==============================] - 0s 4ms/step - loss: 0.8687 - accuracy: 0.5192\n",
            "Epoch 27/150\n",
            "16/16 [==============================] - 0s 5ms/step - loss: 0.8956 - accuracy: 0.4744\n",
            "Epoch 28/150\n",
            "16/16 [==============================] - 0s 5ms/step - loss: 0.8594 - accuracy: 0.4872\n",
            "Epoch 29/150\n",
            "16/16 [==============================] - 0s 4ms/step - loss: 0.8576 - accuracy: 0.5256\n",
            "Epoch 30/150\n",
            "16/16 [==============================] - 0s 5ms/step - loss: 0.8528 - accuracy: 0.5833\n",
            "Epoch 31/150\n",
            "16/16 [==============================] - 0s 4ms/step - loss: 0.8416 - accuracy: 0.5769\n",
            "Epoch 32/150\n",
            "16/16 [==============================] - 0s 5ms/step - loss: 0.8812 - accuracy: 0.4936\n",
            "Epoch 33/150\n",
            "16/16 [==============================] - 0s 5ms/step - loss: 0.8680 - accuracy: 0.5449\n",
            "Epoch 34/150\n",
            "16/16 [==============================] - 0s 5ms/step - loss: 0.8675 - accuracy: 0.5256\n",
            "Epoch 35/150\n",
            "16/16 [==============================] - 0s 5ms/step - loss: 0.8860 - accuracy: 0.5192\n",
            "Epoch 36/150\n",
            "16/16 [==============================] - 0s 5ms/step - loss: 0.8420 - accuracy: 0.5705\n",
            "Epoch 37/150\n",
            "16/16 [==============================] - 0s 5ms/step - loss: 0.8832 - accuracy: 0.5321\n",
            "Epoch 38/150\n",
            "16/16 [==============================] - 0s 4ms/step - loss: 0.8382 - accuracy: 0.5513\n",
            "Epoch 39/150\n",
            "16/16 [==============================] - 0s 6ms/step - loss: 0.8860 - accuracy: 0.4615\n",
            "Epoch 40/150\n",
            "16/16 [==============================] - 0s 3ms/step - loss: 0.8805 - accuracy: 0.5128\n",
            "Epoch 41/150\n",
            "16/16 [==============================] - 0s 4ms/step - loss: 0.8717 - accuracy: 0.5385\n",
            "Epoch 42/150\n",
            "16/16 [==============================] - 0s 3ms/step - loss: 0.8477 - accuracy: 0.4936\n",
            "Epoch 43/150\n",
            "16/16 [==============================] - 0s 3ms/step - loss: 0.8207 - accuracy: 0.5641\n",
            "Epoch 44/150\n",
            "16/16 [==============================] - 0s 4ms/step - loss: 0.8476 - accuracy: 0.5897\n",
            "Epoch 45/150\n",
            "16/16 [==============================] - 0s 4ms/step - loss: 0.8953 - accuracy: 0.5128\n",
            "Epoch 46/150\n",
            "16/16 [==============================] - 0s 5ms/step - loss: 0.8617 - accuracy: 0.5064\n",
            "Epoch 47/150\n",
            "16/16 [==============================] - 0s 4ms/step - loss: 0.8683 - accuracy: 0.5321\n",
            "Epoch 48/150\n",
            "16/16 [==============================] - 0s 4ms/step - loss: 0.8438 - accuracy: 0.5449\n",
            "Epoch 49/150\n",
            "16/16 [==============================] - 0s 5ms/step - loss: 0.8746 - accuracy: 0.5449\n",
            "Epoch 50/150\n",
            "16/16 [==============================] - 0s 6ms/step - loss: 0.8984 - accuracy: 0.4808\n",
            "Epoch 51/150\n",
            "16/16 [==============================] - 0s 6ms/step - loss: 0.8556 - accuracy: 0.5256\n",
            "Epoch 52/150\n",
            "16/16 [==============================] - 0s 6ms/step - loss: 0.8458 - accuracy: 0.5449\n",
            "Epoch 53/150\n",
            "16/16 [==============================] - 0s 6ms/step - loss: 0.8823 - accuracy: 0.5256\n",
            "Epoch 54/150\n",
            "16/16 [==============================] - 0s 6ms/step - loss: 0.8654 - accuracy: 0.5064\n",
            "Epoch 55/150\n",
            "16/16 [==============================] - 0s 6ms/step - loss: 0.8823 - accuracy: 0.5128\n",
            "Epoch 56/150\n",
            "16/16 [==============================] - 0s 6ms/step - loss: 0.8287 - accuracy: 0.5705\n",
            "Epoch 57/150\n",
            "16/16 [==============================] - 0s 6ms/step - loss: 0.8515 - accuracy: 0.5897\n",
            "Epoch 58/150\n",
            "16/16 [==============================] - 0s 6ms/step - loss: 0.8200 - accuracy: 0.5449\n",
            "Epoch 59/150\n",
            "16/16 [==============================] - 0s 6ms/step - loss: 0.8627 - accuracy: 0.5256\n",
            "Epoch 60/150\n",
            "16/16 [==============================] - 0s 5ms/step - loss: 0.8652 - accuracy: 0.4615\n",
            "Epoch 61/150\n",
            "16/16 [==============================] - 0s 5ms/step - loss: 0.8556 - accuracy: 0.5064\n",
            "Epoch 62/150\n",
            "16/16 [==============================] - 0s 6ms/step - loss: 0.8624 - accuracy: 0.5449\n",
            "Epoch 63/150\n",
            "16/16 [==============================] - 0s 5ms/step - loss: 0.8629 - accuracy: 0.4744\n",
            "Epoch 64/150\n",
            "16/16 [==============================] - 0s 5ms/step - loss: 0.8725 - accuracy: 0.5000\n",
            "Epoch 65/150\n",
            "16/16 [==============================] - 0s 5ms/step - loss: 0.8688 - accuracy: 0.5833\n",
            "Epoch 66/150\n",
            "16/16 [==============================] - 0s 6ms/step - loss: 0.8494 - accuracy: 0.5192\n",
            "Epoch 67/150\n",
            "16/16 [==============================] - 0s 5ms/step - loss: 0.8432 - accuracy: 0.5128\n",
            "Epoch 68/150\n",
            "16/16 [==============================] - 0s 4ms/step - loss: 0.8498 - accuracy: 0.5064\n",
            "Epoch 69/150\n",
            "16/16 [==============================] - 0s 3ms/step - loss: 0.8598 - accuracy: 0.5064\n",
            "Epoch 70/150\n",
            "16/16 [==============================] - 0s 3ms/step - loss: 0.8521 - accuracy: 0.5833\n",
            "Epoch 71/150\n",
            "16/16 [==============================] - 0s 3ms/step - loss: 0.8493 - accuracy: 0.5833\n",
            "Epoch 72/150\n",
            "16/16 [==============================] - 0s 4ms/step - loss: 0.8311 - accuracy: 0.5769\n",
            "Epoch 73/150\n",
            "16/16 [==============================] - 0s 3ms/step - loss: 0.8641 - accuracy: 0.5256\n",
            "Epoch 74/150\n",
            "16/16 [==============================] - 0s 3ms/step - loss: 0.8651 - accuracy: 0.5321\n",
            "Epoch 75/150\n",
            "16/16 [==============================] - 0s 3ms/step - loss: 0.8492 - accuracy: 0.5449\n",
            "Epoch 76/150\n",
            "16/16 [==============================] - 0s 3ms/step - loss: 0.8880 - accuracy: 0.5128\n",
            "Epoch 77/150\n",
            "16/16 [==============================] - 0s 3ms/step - loss: 0.8528 - accuracy: 0.5577\n",
            "Epoch 78/150\n",
            "16/16 [==============================] - 0s 3ms/step - loss: 0.8350 - accuracy: 0.5128\n",
            "Epoch 79/150\n",
            "16/16 [==============================] - 0s 3ms/step - loss: 0.8632 - accuracy: 0.5641\n",
            "Epoch 80/150\n",
            "16/16 [==============================] - 0s 3ms/step - loss: 0.8720 - accuracy: 0.4744\n",
            "Epoch 81/150\n",
            "16/16 [==============================] - 0s 3ms/step - loss: 0.8648 - accuracy: 0.5128\n",
            "Epoch 82/150\n",
            "16/16 [==============================] - 0s 3ms/step - loss: 0.8326 - accuracy: 0.5641\n",
            "Epoch 83/150\n",
            "16/16 [==============================] - 0s 3ms/step - loss: 0.8457 - accuracy: 0.5256\n",
            "Epoch 84/150\n",
            "16/16 [==============================] - 0s 3ms/step - loss: 0.8508 - accuracy: 0.5256\n",
            "Epoch 85/150\n",
            "16/16 [==============================] - 0s 3ms/step - loss: 0.8528 - accuracy: 0.5449\n",
            "Epoch 86/150\n",
            "16/16 [==============================] - 0s 3ms/step - loss: 0.8311 - accuracy: 0.5769\n",
            "Epoch 87/150\n",
            "16/16 [==============================] - 0s 3ms/step - loss: 0.8719 - accuracy: 0.5449\n",
            "Epoch 88/150\n",
            "16/16 [==============================] - 0s 3ms/step - loss: 0.8571 - accuracy: 0.5128\n",
            "Epoch 89/150\n",
            "16/16 [==============================] - 0s 3ms/step - loss: 0.8257 - accuracy: 0.5769\n",
            "Epoch 90/150\n",
            "16/16 [==============================] - 0s 3ms/step - loss: 0.8506 - accuracy: 0.5641\n",
            "Epoch 91/150\n",
            "16/16 [==============================] - 0s 3ms/step - loss: 0.8172 - accuracy: 0.5962\n",
            "Epoch 92/150\n",
            "16/16 [==============================] - 0s 3ms/step - loss: 0.8621 - accuracy: 0.5192\n",
            "Epoch 93/150\n",
            "16/16 [==============================] - 0s 3ms/step - loss: 0.8813 - accuracy: 0.4936\n",
            "Epoch 94/150\n",
            "16/16 [==============================] - 0s 4ms/step - loss: 0.8353 - accuracy: 0.5321\n",
            "Epoch 95/150\n",
            "16/16 [==============================] - 0s 3ms/step - loss: 0.8694 - accuracy: 0.4744\n",
            "Epoch 96/150\n",
            "16/16 [==============================] - 0s 4ms/step - loss: 0.8605 - accuracy: 0.4936\n",
            "Epoch 97/150\n",
            "16/16 [==============================] - 0s 4ms/step - loss: 0.8271 - accuracy: 0.5897\n",
            "Epoch 98/150\n",
            "16/16 [==============================] - 0s 4ms/step - loss: 0.8552 - accuracy: 0.5449\n",
            "Epoch 99/150\n",
            "16/16 [==============================] - 0s 3ms/step - loss: 0.8306 - accuracy: 0.5577\n",
            "Epoch 100/150\n",
            "16/16 [==============================] - 0s 3ms/step - loss: 0.8217 - accuracy: 0.5128\n",
            "Epoch 101/150\n",
            "16/16 [==============================] - 0s 3ms/step - loss: 0.8353 - accuracy: 0.5449\n",
            "Epoch 102/150\n",
            "16/16 [==============================] - 0s 6ms/step - loss: 0.8190 - accuracy: 0.6026\n",
            "Epoch 103/150\n",
            "16/16 [==============================] - 0s 5ms/step - loss: 0.8268 - accuracy: 0.6090\n",
            "Epoch 104/150\n",
            "16/16 [==============================] - 0s 6ms/step - loss: 0.8517 - accuracy: 0.5385\n",
            "Epoch 105/150\n",
            "16/16 [==============================] - 0s 5ms/step - loss: 0.8442 - accuracy: 0.5705\n",
            "Epoch 106/150\n",
            "16/16 [==============================] - 0s 5ms/step - loss: 0.8372 - accuracy: 0.5577\n",
            "Epoch 107/150\n",
            "16/16 [==============================] - 0s 5ms/step - loss: 0.7949 - accuracy: 0.5641\n",
            "Epoch 108/150\n",
            "16/16 [==============================] - 0s 5ms/step - loss: 0.8689 - accuracy: 0.4744\n",
            "Epoch 109/150\n",
            "16/16 [==============================] - 0s 7ms/step - loss: 0.8593 - accuracy: 0.5192\n",
            "Epoch 110/150\n",
            "16/16 [==============================] - 0s 6ms/step - loss: 0.8478 - accuracy: 0.5064\n",
            "Epoch 111/150\n",
            "16/16 [==============================] - 0s 6ms/step - loss: 0.8574 - accuracy: 0.5256\n",
            "Epoch 112/150\n",
            "16/16 [==============================] - 0s 5ms/step - loss: 0.8737 - accuracy: 0.5064\n",
            "Epoch 113/150\n",
            "16/16 [==============================] - 0s 6ms/step - loss: 0.8740 - accuracy: 0.5128\n",
            "Epoch 114/150\n",
            "16/16 [==============================] - 0s 5ms/step - loss: 0.8595 - accuracy: 0.5192\n",
            "Epoch 115/150\n",
            "16/16 [==============================] - 0s 6ms/step - loss: 0.8558 - accuracy: 0.5385\n",
            "Epoch 116/150\n",
            "16/16 [==============================] - 0s 5ms/step - loss: 0.8660 - accuracy: 0.5000\n",
            "Epoch 117/150\n",
            "16/16 [==============================] - 0s 5ms/step - loss: 0.8408 - accuracy: 0.5769\n",
            "Epoch 118/150\n",
            "16/16 [==============================] - 0s 5ms/step - loss: 0.8435 - accuracy: 0.5449\n",
            "Epoch 119/150\n",
            "16/16 [==============================] - 0s 7ms/step - loss: 0.8563 - accuracy: 0.5256\n",
            "Epoch 120/150\n",
            "16/16 [==============================] - 0s 5ms/step - loss: 0.8579 - accuracy: 0.5641\n",
            "Epoch 121/150\n",
            "16/16 [==============================] - 0s 3ms/step - loss: 0.8205 - accuracy: 0.5577\n",
            "Epoch 122/150\n",
            "16/16 [==============================] - 0s 3ms/step - loss: 0.8489 - accuracy: 0.5064\n",
            "Epoch 123/150\n",
            "16/16 [==============================] - 0s 5ms/step - loss: 0.8517 - accuracy: 0.5449\n",
            "Epoch 124/150\n",
            "16/16 [==============================] - 0s 3ms/step - loss: 0.8374 - accuracy: 0.5705\n",
            "Epoch 125/150\n",
            "16/16 [==============================] - 0s 4ms/step - loss: 0.8465 - accuracy: 0.5000\n",
            "Epoch 126/150\n",
            "16/16 [==============================] - 0s 3ms/step - loss: 0.8600 - accuracy: 0.5128\n",
            "Epoch 127/150\n",
            "16/16 [==============================] - 0s 4ms/step - loss: 0.8326 - accuracy: 0.5705\n",
            "Epoch 128/150\n",
            "16/16 [==============================] - 0s 4ms/step - loss: 0.8383 - accuracy: 0.5705\n",
            "Epoch 129/150\n",
            "16/16 [==============================] - 0s 4ms/step - loss: 0.8339 - accuracy: 0.5449\n",
            "Epoch 130/150\n",
            "16/16 [==============================] - 0s 3ms/step - loss: 0.8399 - accuracy: 0.5577\n",
            "Epoch 131/150\n",
            "16/16 [==============================] - 0s 3ms/step - loss: 0.8531 - accuracy: 0.5192\n",
            "Epoch 132/150\n",
            "16/16 [==============================] - 0s 3ms/step - loss: 0.8557 - accuracy: 0.5256\n",
            "Epoch 133/150\n",
            "16/16 [==============================] - 0s 3ms/step - loss: 0.8433 - accuracy: 0.5385\n",
            "Epoch 134/150\n",
            "16/16 [==============================] - 0s 5ms/step - loss: 0.8760 - accuracy: 0.4936\n",
            "Epoch 135/150\n",
            "16/16 [==============================] - 0s 4ms/step - loss: 0.8375 - accuracy: 0.5321\n",
            "Epoch 136/150\n",
            "16/16 [==============================] - 0s 3ms/step - loss: 0.8594 - accuracy: 0.5449\n",
            "Epoch 137/150\n",
            "16/16 [==============================] - 0s 4ms/step - loss: 0.8130 - accuracy: 0.5513\n",
            "Epoch 138/150\n",
            "16/16 [==============================] - 0s 5ms/step - loss: 0.8559 - accuracy: 0.5321\n",
            "Epoch 139/150\n",
            "16/16 [==============================] - 0s 4ms/step - loss: 0.8339 - accuracy: 0.5897\n",
            "Epoch 140/150\n",
            "16/16 [==============================] - 0s 4ms/step - loss: 0.8464 - accuracy: 0.5321\n",
            "Epoch 141/150\n",
            "16/16 [==============================] - 0s 3ms/step - loss: 0.8228 - accuracy: 0.5833\n",
            "Epoch 142/150\n",
            "16/16 [==============================] - 0s 5ms/step - loss: 0.8540 - accuracy: 0.5000\n",
            "Epoch 143/150\n",
            "16/16 [==============================] - 0s 3ms/step - loss: 0.8353 - accuracy: 0.5000\n",
            "Epoch 144/150\n",
            "16/16 [==============================] - 0s 3ms/step - loss: 0.8359 - accuracy: 0.5385\n",
            "Epoch 145/150\n",
            "16/16 [==============================] - 0s 3ms/step - loss: 0.8225 - accuracy: 0.5513\n",
            "Epoch 146/150\n",
            "16/16 [==============================] - 0s 3ms/step - loss: 0.8289 - accuracy: 0.5897\n",
            "Epoch 147/150\n",
            "16/16 [==============================] - 0s 4ms/step - loss: 0.8360 - accuracy: 0.5705\n",
            "Epoch 148/150\n",
            "16/16 [==============================] - 0s 5ms/step - loss: 0.8272 - accuracy: 0.5513\n",
            "Epoch 149/150\n",
            "16/16 [==============================] - 0s 4ms/step - loss: 0.8381 - accuracy: 0.5577\n",
            "Epoch 150/150\n",
            "16/16 [==============================] - 0s 4ms/step - loss: 0.8227 - accuracy: 0.5769\n"
          ]
        },
        {
          "output_type": "execute_result",
          "data": {
            "text/plain": [
              "<keras.callbacks.History at 0x7a5f2951e5c0>"
            ]
          },
          "metadata": {},
          "execution_count": 122
        }
      ]
    },
    {
      "cell_type": "markdown",
      "source": [
        "Testing"
      ],
      "metadata": {
        "id": "JieNm8ZJkrYE"
      }
    },
    {
      "cell_type": "code",
      "source": [
        "# Evaluate the trained model using keras built-in function\n",
        "score = net.evaluate(X_test, y_test, verbose=0)\n",
        "print(\"Test loss:\", format(score[0],\".4f\"))\n",
        "print(\"Test accuracy:\", score[1])"
      ],
      "metadata": {
        "colab": {
          "base_uri": "https://localhost:8080/"
        },
        "id": "qZY5YcnXgUWI",
        "outputId": "c8a4b78c-ca15-449f-89e0-e9e2187dc5c6"
      },
      "execution_count": 123,
      "outputs": [
        {
          "output_type": "stream",
          "name": "stdout",
          "text": [
            "Test loss: 0.7358\n",
            "Test accuracy: 0.5641025900840759\n"
          ]
        }
      ]
    }
  ]
}