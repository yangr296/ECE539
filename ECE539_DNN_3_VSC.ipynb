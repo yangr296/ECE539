{
  "cells": [
    {
      "cell_type": "markdown",
      "metadata": {
        "colab_type": "text",
        "id": "view-in-github"
      },
      "source": [
        "<a href=\"https://colab.research.google.com/github/yangr296/ECE539/blob/main/ECE539_DNN_3.ipynb\" target=\"_parent\"><img src=\"https://colab.research.google.com/assets/colab-badge.svg\" alt=\"Open In Colab\"/></a>"
      ]
    },
    {
      "cell_type": "code",
      "execution_count": 706,
      "metadata": {
        "colab": {
          "base_uri": "https://localhost:8080/"
        },
        "id": "J_7UEkv9r5pz",
        "outputId": "4eede604-bb44-423d-9656-292a735896e9"
      },
      "outputs": [],
      "source": [
        "#import data from drive\n",
        "import tensorflow as tf\n",
        "import numpy as np\n",
        "import random\n",
        "from sklearn.model_selection import train_test_split\n",
        "import imblearn\n",
        "\n",
        "with open('/Users/publicenemy989/Downloads/parkinsons/parkinsons.data', 'r') as f:\n",
        "  tmp = np.genfromtxt(f,delimiter=',')\n",
        "np.set_printoptions(precision=3,suppress=True)"
      ]
    },
    {
      "cell_type": "markdown",
      "metadata": {
        "id": "TDTzssqGSOBe"
      },
      "source": [
        "# with oversampling"
      ]
    },
    {
      "cell_type": "markdown",
      "metadata": {
        "id": "m9G0AEg7qjCr"
      },
      "source": [
        "Function def"
      ]
    },
    {
      "cell_type": "code",
      "execution_count": 707,
      "metadata": {
        "id": "iGTiT5kHpKda"
      },
      "outputs": [],
      "source": [
        "from sklearn.metrics import accuracy_score\n",
        "from sklearn.model_selection import cross_val_score\n",
        "def performSVM(X, y):\n",
        "  aveScore = 0\n",
        "  for i in range(5):\n",
        "    X_train, X_test, y_train, y_test = train_test_split(X, y, test_size=0.20)\n",
        "    clf = svm.SVC()\n",
        "    clf.fit(X_train, y_train)\n",
        "    y_pred = clf.predict(X_test)\n",
        "    aveScore += np.round(accuracy_score(y_test, y_pred), 3)\n",
        "  aveScore /= 5\n",
        "  return aveScore\n",
        "\n",
        "def deleteColumn(matrix, columns):\n",
        "  for i in range(len(columns)):\n",
        "    matrix = np.delete(matrix, columns[i], 1)\n",
        "    for j in range((i + 1), len(columns)):\n",
        "      if columns[j] > columns[i]:\n",
        "        columns[j] -= 1\n",
        "  return matrix\n"
      ]
    },
    {
      "cell_type": "code",
      "execution_count": 708,
      "metadata": {
        "id": "UmfCUVYi5m6P"
      },
      "outputs": [],
      "source": [
        "from keras import layers\n",
        "def create_model(num, noise):\n",
        "  net = tf.keras.models.Sequential([\n",
        "      tf.keras.Input(shape=(5,)),\n",
        "      tf.keras.layers.GaussianNoise(noise),\n",
        "      tf.keras.layers.experimental.RandomFourierFeatures(output_dim=num, scale=10.0, kernel_initializer=\"gaussian\"),\n",
        "      layers.Dense(num, activation = 'relu'),\n",
        "      tf.keras.layers.LayerNormalization(),\n",
        "      layers.Dense(128, activation = 'relu'),\n",
        "      tf.keras.layers.Dense(2, activation='softmax'),\n",
        "      ])\n",
        "  net.compile(loss='binary_crossentropy', optimizer='Ftrl', metrics=['accuracy'])\n",
        "  return net\n"
      ]
    },
    {
      "cell_type": "code",
      "execution_count": 709,
      "metadata": {
        "id": "ods8uBx4sPYG"
      },
      "outputs": [],
      "source": [
        "from sklearn.model_selection import RepeatedKFold\n",
        "from sklearn.metrics import accuracy_score\n",
        "from imblearn.over_sampling import RandomOverSampler\n",
        "\n",
        "def perform_KF(X, y, noise=0.1, num=128, repeat=20):\n",
        "  ave_acc = 0\n",
        "  kfold = RepeatedKFold(n_repeats=repeat, n_splits=3, random_state=0)\n",
        "  print(\"noise: %f; num_neuron: %i; repeat: %i\" %(noise, num, repeat))\n",
        "  for i, (train_index, test_index) in enumerate(kfold.split(X)):\n",
        "      print(\"fold %i\" %i)\n",
        "\n",
        "      X_train, X_test = X[train_index], X[test_index]\n",
        "      y_train, y_test = y[train_index], y[test_index]\n",
        "      \n",
        "      # oversampling\n",
        "      oversample = RandomOverSampler(sampling_strategy='all', random_state=None)\n",
        "      X_train_resample, y_train_resample = oversample.fit_resample(X_train, y_train)\n",
        "\n",
        "      y_train = keras.utils.to_categorical(y_train)\n",
        "      y_train_resample = keras.utils.to_categorical(y_train_resample)\n",
        "      \n",
        "      model = create_model(num, noise)\n",
        "      # model.fit(X_train_resample, y_train_resample, epochs=100, batch_size=74, verbose=0)\n",
        "      model.fit(X_train, y_train, epochs=100, batch_size=39, verbose=0)\n",
        "\n",
        "      y_pred = model.predict(X_test)\n",
        "      y_pred = tf.argmax(y_pred, axis=1)\n",
        "      y_test = tf.constant(y_test)\n",
        "\n",
        "      accuracy = np.round(accuracy_score(y_test, y_pred), 5)\n",
        "      ave_acc += accuracy\n",
        "      print(f'Accuracy: {accuracy}')\n",
        "  ave_acc = ave_acc / (3 * repeat)\n",
        "  print(\"average accuracy is %f\" %ave_acc)\n",
        "  return ave_acc\n"
      ]
    },
    {
      "cell_type": "markdown",
      "metadata": {
        "id": "cJuaiQY3kiWa"
      },
      "source": [
        "Data Preprocessing"
      ]
    },
    {
      "cell_type": "code",
      "execution_count": 710,
      "metadata": {
        "colab": {
          "base_uri": "https://localhost:8080/",
          "height": 123
        },
        "id": "kjAI1aAg5cp-",
        "outputId": "a9e27832-d650-47b3-b0da-1b7e3fbecfc4"
      },
      "outputs": [
        {
          "data": {
            "text/plain": [
              "'\\nindex by columns\\nX[0] MDVP:Fo(Hz)\\nX[1] MDVP:Fhi(Hz)\\nX[2] MDVP:Flo(Hz)\\nX[3] MDVP:Jitter(%)\\nX[4] MDVP:Jitter(Abs)\\nX[5] MDVP:RAP\\nX[6] MDVP:PPQ\\nX[7] Jitter:DDP\\nX[8] MDVP:Shimmer\\nX[9] MDVP:Shimmer(dB)\\nX[10] Shimmer:APQ3\\nX[11] Shimmer:APQ5\\nX[12] MDVP:APQ\\nX[13] Shimmer:DDA\\nX[14] NHR\\nX[15] HNR\\nX[16] RPDE\\nX[17] DFA\\nX[18] spread1\\nX[19] spread2\\nX[20] D2\\nX[21] PPE\\n'"
            ]
          },
          "execution_count": 710,
          "metadata": {},
          "output_type": "execute_result"
        }
      ],
      "source": [
        "from tensorflow import keras\n",
        "\n",
        "np.random.seed(0)\n",
        "X, y = tmp[1:, 1:], tmp[1:, -7]\n",
        "X = np.delete(X, 16, 1)\n",
        "X = X.astype(float)\n",
        "\"\"\"\n",
        "index by columns\n",
        "X[0] MDVP:Fo(Hz)\n",
        "X[1] MDVP:Fhi(Hz)\n",
        "X[2] MDVP:Flo(Hz)\n",
        "X[3] MDVP:Jitter(%)\n",
        "X[4] MDVP:Jitter(Abs)\n",
        "X[5] MDVP:RAP\n",
        "X[6] MDVP:PPQ\n",
        "X[7] Jitter:DDP\n",
        "X[8] MDVP:Shimmer\n",
        "X[9] MDVP:Shimmer(dB)\n",
        "X[10] Shimmer:APQ3\n",
        "X[11] Shimmer:APQ5\n",
        "X[12] MDVP:APQ\n",
        "X[13] Shimmer:DDA\n",
        "X[14] NHR\n",
        "X[15] HNR\n",
        "X[16] RPDE\n",
        "X[17] DFA\n",
        "X[18] spread1\n",
        "X[19] spread2\n",
        "X[20] D2\n",
        "X[21] PPE\n",
        "\"\"\""
      ]
    },
    {
      "cell_type": "code",
      "execution_count": 711,
      "metadata": {
        "colab": {
          "base_uri": "https://localhost:8080/"
        },
        "id": "nfIFa6bGkSOV",
        "outputId": "d21d0f6e-7058-42b9-e0a6-7bb5c1c70ea4"
      },
      "outputs": [
        {
          "name": "stdout",
          "output_type": "stream",
          "text": [
            "no NaN\n"
          ]
        }
      ],
      "source": [
        "from sklearn.impute import KNNImputer\n",
        "\n",
        "if np.sum(np.isnan(X)):\n",
        "  print('Total of NaN before imputation:', np.sum(np.isnan(X)))\n",
        "  imputer = KNNImputer(n_neighbors=2, weights=\"uniform\")\n",
        "  X1 = imputer.fit_transform(X)\n",
        "  print('Total of NaN after imputation:', np.sum(np.isnan(X1)))\n",
        "else:\n",
        "  X1 = X\n",
        "  print('no NaN')"
      ]
    },
    {
      "cell_type": "code",
      "execution_count": 712,
      "metadata": {
        "colab": {
          "base_uri": "https://localhost:8080/"
        },
        "id": "RvLJ6MhwkfCt",
        "outputId": "ed4b811e-90ac-4e4c-92f6-e42b8b20b8d6"
      },
      "outputs": [
        {
          "name": "stdout",
          "output_type": "stream",
          "text": [
            "features 3 and 5 have corr of 0.990276\n",
            "features 3 and 6 have corr of 0.974256\n",
            "features 3 and 7 have corr of 0.990276\n",
            "features 5 and 6 have corr of 0.957317\n",
            "features 5 and 7 have corr of 1.000000\n",
            "features 6 and 7 have corr of 0.957319\n",
            "features 8 and 9 have corr of 0.987258\n",
            "features 8 and 10 have corr of 0.987625\n",
            "features 8 and 11 have corr of 0.982835\n",
            "features 8 and 12 have corr of 0.950083\n",
            "features 8 and 13 have corr of 0.987626\n",
            "features 9 and 10 have corr of 0.963198\n",
            "features 9 and 11 have corr of 0.973751\n",
            "features 9 and 12 have corr of 0.960977\n",
            "features 9 and 13 have corr of 0.963202\n",
            "features 10 and 11 have corr of 0.960070\n",
            "features 10 and 13 have corr of 1.000000\n",
            "features 11 and 13 have corr of 0.960072\n",
            "features 18 and 21 have corr of 0.962435\n",
            "[[3, 5], [3, 6], [3, 7], [5, 6], [5, 7], [6, 7], [8, 9], [8, 10], [8, 11], [8, 12], [8, 13], [9, 10], [9, 11], [9, 12], [9, 13], [10, 11], [10, 13], [11, 13], [18, 21]]\n"
          ]
        }
      ],
      "source": [
        "from scipy.stats import pearsonr\n",
        "pair = []\n",
        "for i in range(21):\n",
        "  for j in range((i + 1), 22):\n",
        "    a = X[:, i]\n",
        "    b = X[:, j]\n",
        "    corr, _ = pearsonr(a, b)\n",
        "    if(corr > 0.95):\n",
        "      pair.append([i, j])\n",
        "      print(\"features %i and %i have corr of %f\" %(i, j, corr))\n",
        "print(pair)"
      ]
    },
    {
      "cell_type": "code",
      "execution_count": 713,
      "metadata": {
        "colab": {
          "base_uri": "https://localhost:8080/"
        },
        "id": "TI2I4fuDnreM",
        "outputId": "bdb9ef0f-9c24-4eb9-f177-4a08a822f548"
      },
      "outputs": [
        {
          "name": "stdout",
          "output_type": "stream",
          "text": [
            "Accuracy: 3(0.790) 5(0.780) Delete 5\n",
            "Accuracy: 3(0.846) 6(0.800) Delete 6\n",
            "Accuracy: 3(0.790) 7(0.790) Delete 3\n",
            "skipped pair(5, 6), because 5 already deleted\n",
            "skipped pair(5, 7), because 5 already deleted\n",
            "skipped pair(6, 7), because 6 already deleted\n",
            "Accuracy: 8(0.821) 9(0.815) Delete 9\n",
            "Accuracy: 8(0.785) 10(0.831) Delete 8\n",
            "skipped pair(8, 11), because 8 already deleted\n",
            "skipped pair(8, 12), because 8 already deleted\n",
            "skipped pair(8, 13), because 8 already deleted\n",
            "skipped pair(9, 10), because 9 already deleted\n",
            "skipped pair(9, 11), because 9 already deleted\n",
            "skipped pair(9, 12), because 9 already deleted\n",
            "skipped pair(9, 13), because 9 already deleted\n",
            "Accuracy: 10(0.810) 11(0.810) Delete 11\n",
            "Accuracy: 10(0.821) 13(0.800) Delete 13\n",
            "skipped pair(11, 13), because 11 already deleted\n",
            "Accuracy: 18(0.831) 21(0.816) Delete 21\n",
            "[5, 6, 3, 9, 8, 11, 13, 21]\n"
          ]
        }
      ],
      "source": [
        "from sklearn import svm\n",
        "deleted = []\n",
        "for i in pair:\n",
        "  if i[0] in deleted:\n",
        "    print(\"skipped pair(%i, %i), because %i already deleted\" %(i[0], i[1], i[0]))\n",
        "    continue\n",
        "  if i[1] in deleted:\n",
        "    print(\"skipped pair(%i, %i), because %i already deleted\" %(i[0], i[1], i[1]))\n",
        "    continue\n",
        "  A = X\n",
        "  B = X\n",
        "  A = np.delete(A, i[0], 1)\n",
        "  B = np.delete(B, i[1], 1)\n",
        "  score_a = performSVM(A, y)\n",
        "  score_b = performSVM(B, y)\n",
        "  if(score_a > score_b):\n",
        "    delete = i[1]\n",
        "  else:\n",
        "    delete = i[0]\n",
        "  deleted.append(delete)\n",
        "  print(\"Accuracy: %i(%.3f) %i(%.3f) Delete %i\" %(i[0], score_a, i[1], score_b, delete))\n",
        "print(deleted)"
      ]
    },
    {
      "cell_type": "code",
      "execution_count": 714,
      "metadata": {
        "colab": {
          "base_uri": "https://localhost:8080/"
        },
        "id": "8gaTAOCrtSbr",
        "outputId": "0c9b342d-324c-491d-a680-f298c1d6e276"
      },
      "outputs": [
        {
          "name": "stdout",
          "output_type": "stream",
          "text": [
            "preprocessing\n",
            "[[119.992 157.302  74.997   0.008   0.      0.004   0.006   0.011   0.044\n",
            "    0.426   0.022   0.031   0.03    0.065   0.022  21.033   0.415   0.815\n",
            "   -4.813   0.266   2.301   0.285]\n",
            " [122.4   148.65  113.819   0.01    0.      0.005   0.007   0.014   0.061\n",
            "    0.626   0.031   0.045   0.044   0.094   0.019  19.085   0.458   0.82\n",
            "   -4.075   0.336   2.487   0.369]\n",
            " [116.682 131.111 111.555   0.011   0.      0.005   0.008   0.016   0.052\n",
            "    0.482   0.028   0.039   0.036   0.083   0.013  20.651   0.43    0.825\n",
            "   -4.443   0.311   2.342   0.333]\n",
            " [116.676 137.871 111.366   0.01    0.      0.005   0.007   0.015   0.055\n",
            "    0.517   0.029   0.04    0.038   0.088   0.014  20.644   0.435   0.819\n",
            "   -4.118   0.334   2.406   0.369]\n",
            " [116.014 141.781 110.655   0.013   0.      0.007   0.009   0.02    0.064\n",
            "    0.584   0.035   0.048   0.045   0.105   0.018  19.649   0.417   0.823\n",
            "   -3.748   0.235   2.332   0.41 ]]\n",
            "postprocessing\n",
            "[[119.992 157.302  74.997   0.      0.011   0.022   0.03    0.022  21.033\n",
            "    0.415   0.815  -4.813   0.266   2.301]\n",
            " [122.4   148.65  113.819   0.      0.014   0.031   0.044   0.019  19.085\n",
            "    0.458   0.82   -4.075   0.336   2.487]\n",
            " [116.682 131.111 111.555   0.      0.016   0.028   0.036   0.013  20.651\n",
            "    0.43    0.825  -4.443   0.311   2.342]\n",
            " [116.676 137.871 111.366   0.      0.015   0.029   0.038   0.014  20.644\n",
            "    0.435   0.819  -4.118   0.334   2.406]\n",
            " [116.014 141.781 110.655   0.      0.02    0.035   0.045   0.018  19.649\n",
            "    0.417   0.823  -3.748   0.235   2.332]]\n"
          ]
        }
      ],
      "source": [
        "print(\"preprocessing\")\n",
        "print(X[:5,:])\n",
        "X = deleteColumn(X, deleted)\n",
        "print(\"postprocessing\")\n",
        "print(X[:5,:])"
      ]
    },
    {
      "cell_type": "code",
      "execution_count": 715,
      "metadata": {
        "colab": {
          "base_uri": "https://localhost:8080/"
        },
        "id": "dxRfIAiJm3Kd",
        "outputId": "8eaffd05-3c79-45f2-ed5a-8bad74e183cc"
      },
      "outputs": [
        {
          "name": "stdout",
          "output_type": "stream",
          "text": [
            "Pearson's Correlation of feature 0 is: -0.384\n",
            "Pearson's Correlation of feature 1 is: -0.166\n",
            "Pearson's Correlation of feature 2 is: -0.380\n",
            "Pearson's Correlation of feature 3 is: 0.339\n",
            "Pearson's Correlation of feature 4 is: 0.267\n",
            "Pearson's Correlation of feature 5 is: 0.348\n",
            "Pearson's Correlation of feature 6 is: 0.364\n",
            "Pearson's Correlation of feature 7 is: 0.189\n",
            "Pearson's Correlation of feature 8 is: -0.362\n",
            "Pearson's Correlation of feature 9 is: 0.309\n",
            "Pearson's Correlation of feature 10 is: 0.232\n",
            "Pearson's Correlation of feature 11 is: 0.565\n",
            "Pearson's Correlation of feature 12 is: 0.455\n",
            "Pearson's Correlation of feature 13 is: 0.340\n"
          ]
        }
      ],
      "source": [
        "Corr = []\n",
        "for i in range(len(X[0])):\n",
        "  feature = X[:, i]\n",
        "  corr, _ = pearsonr(feature, y)\n",
        "  Corr.append([abs(corr), i])\n",
        "  print(\"Pearson's Correlation of feature\", i, \"is: %.3f\" % corr)"
      ]
    },
    {
      "cell_type": "code",
      "execution_count": 716,
      "metadata": {
        "colab": {
          "base_uri": "https://localhost:8080/"
        },
        "id": "OtMqUMGxqw6K",
        "outputId": "eafc80ca-bfb1-4034-8d68-fd3c2d88ec3d"
      },
      "outputs": [
        {
          "name": "stdout",
          "output_type": "stream",
          "text": [
            "ranking the 14 lowest correlations: \n",
            "feature:  1 corr: 0.166\n",
            "feature:  7 corr: 0.189\n",
            "feature: 10 corr: 0.232\n",
            "feature:  4 corr: 0.267\n",
            "feature:  9 corr: 0.309\n",
            "feature:  3 corr: 0.339\n",
            "feature: 13 corr: 0.340\n",
            "feature:  5 corr: 0.348\n",
            "feature:  8 corr: 0.362\n",
            "feature:  6 corr: 0.364\n",
            "feature:  2 corr: 0.380\n",
            "feature:  0 corr: 0.384\n",
            "feature: 12 corr: 0.455\n",
            "feature: 11 corr: 0.565\n"
          ]
        }
      ],
      "source": [
        "# sort all the correlations\n",
        "num = len(X[0])\n",
        "Corr.sort()\n",
        "print(\"ranking the %i lowest correlations: \" %num)\n",
        "for i in range(num):\n",
        "  print(\"feature: %2d corr: %.3f\" %(Corr[i][1], Corr[i][0]))"
      ]
    },
    {
      "cell_type": "code",
      "execution_count": 717,
      "metadata": {
        "colab": {
          "base_uri": "https://localhost:8080/"
        },
        "id": "iQJ1G_TtwAvj",
        "outputId": "72381e17-15c0-4654-c6eb-9b3783d6c71f"
      },
      "outputs": [
        {
          "name": "stdout",
          "output_type": "stream",
          "text": [
            "[1, 7, 10, 4]\n"
          ]
        }
      ],
      "source": [
        "columns = []\n",
        "for i in range(4):\n",
        "  columns.append(Corr[i][1])\n",
        "print(columns)"
      ]
    },
    {
      "cell_type": "code",
      "execution_count": 718,
      "metadata": {
        "colab": {
          "base_uri": "https://localhost:8080/"
        },
        "id": "RFHDaIOdQxcq",
        "outputId": "102ca51e-cd15-4a44-e124-daf7b58e651b"
      },
      "outputs": [
        {
          "name": "stdout",
          "output_type": "stream",
          "text": [
            "preprocessing\n",
            "[[119.992 157.302  74.997   0.      0.011   0.022   0.03    0.022  21.033\n",
            "    0.415   0.815  -4.813   0.266   2.301]\n",
            " [122.4   148.65  113.819   0.      0.014   0.031   0.044   0.019  19.085\n",
            "    0.458   0.82   -4.075   0.336   2.487]\n",
            " [116.682 131.111 111.555   0.      0.016   0.028   0.036   0.013  20.651\n",
            "    0.43    0.825  -4.443   0.311   2.342]\n",
            " [116.676 137.871 111.366   0.      0.015   0.029   0.038   0.014  20.644\n",
            "    0.435   0.819  -4.118   0.334   2.406]\n",
            " [116.014 141.781 110.655   0.      0.02    0.035   0.045   0.018  19.649\n",
            "    0.417   0.823  -3.748   0.235   2.332]]\n",
            "postprocessing\n",
            "[[119.992  74.997   0.      0.022   0.03   21.033   0.415  -4.813   0.266\n",
            "    2.301]\n",
            " [122.4   113.819   0.      0.031   0.044  19.085   0.458  -4.075   0.336\n",
            "    2.487]\n",
            " [116.682 111.555   0.      0.028   0.036  20.651   0.43   -4.443   0.311\n",
            "    2.342]\n",
            " [116.676 111.366   0.      0.029   0.038  20.644   0.435  -4.118   0.334\n",
            "    2.406]\n",
            " [116.014 110.655   0.      0.035   0.045  19.649   0.417  -3.748   0.235\n",
            "    2.332]]\n"
          ]
        }
      ],
      "source": [
        "print(\"preprocessing\")\n",
        "print(X[:5,:])\n",
        "X = deleteColumn(X, columns)\n",
        "print(\"postprocessing\")\n",
        "print(X[:5,:])"
      ]
    },
    {
      "cell_type": "code",
      "execution_count": 719,
      "metadata": {
        "colab": {
          "base_uri": "https://localhost:8080/",
          "height": 106
        },
        "id": "1c48i7x0mjqC",
        "outputId": "69e663ec-f968-4e0a-867c-d9c428c95dc4"
      },
      "outputs": [
        {
          "data": {
            "text/plain": [
              "'\\n# partition into training and validation set at 80/20 division\\nX_train, X_test, y_train, y_test = train_test_split(X, y, test_size=0.20)\\n# Converting y_r and y_t into one-hot encoding using a keras utility\\n\\ny_test = keras.utils.to_categorical(y_test)\\ny_train = keras.utils.to_categorical(y_train)\\n'"
            ]
          },
          "execution_count": 719,
          "metadata": {},
          "output_type": "execute_result"
        }
      ],
      "source": [
        "\"\"\"\n",
        "# partition into training and validation set at 80/20 division\n",
        "X_train, X_test, y_train, y_test = train_test_split(X, y, test_size=0.20)\n",
        "# Converting y_r and y_t into one-hot encoding using a keras utility\n",
        "\n",
        "y_test = keras.utils.to_categorical(y_test)\n",
        "y_train = keras.utils.to_categorical(y_train)\n",
        "\"\"\""
      ]
    },
    {
      "cell_type": "code",
      "execution_count": 720,
      "metadata": {
        "colab": {
          "base_uri": "https://localhost:8080/"
        },
        "id": "vjMxsi8Nkb3A",
        "outputId": "557049e0-be29-43c3-df34-78492ca76249"
      },
      "outputs": [
        {
          "name": "stdout",
          "output_type": "stream",
          "text": [
            "before transformation\n",
            "--------------------\n",
            "range of feature 0 is 171\n",
            "range of feature 1 is 173\n",
            "range of feature 2 is 0\n",
            "range of feature 3 is 0\n",
            "range of feature 4 is 0\n",
            "range of feature 5 is 24\n",
            "range of feature 6 is 0\n",
            "range of feature 7 is 5\n",
            "range of feature 8 is 0\n",
            "range of feature 9 is 2\n",
            "after transformation\n",
            "--------------------\n",
            "range of feature 0 is 10\n",
            "range of feature 1 is 10\n",
            "range of feature 2 is 10\n",
            "range of feature 3 is 10\n",
            "range of feature 4 is 10\n",
            "range of feature 5 is 10\n",
            "range of feature 6 is 10\n",
            "range of feature 7 is 10\n",
            "range of feature 8 is 10\n",
            "range of feature 9 is 10\n",
            "(195, 10)\n"
          ]
        }
      ],
      "source": [
        "from sklearn import preprocessing\n",
        "print(\"before transformation\\n--------------------\")\n",
        "for i in range(X.shape[1]):\n",
        "  print(\"range of feature %i is %i\"%(i, np.ptp(X[:,i])))\n",
        "min_max_scaler = preprocessing.MinMaxScaler(feature_range=(-5, 5))\n",
        "X = min_max_scaler.fit_transform(X)\n",
        "print(\"after transformation\\n--------------------\")\n",
        "for i in range(X.shape[1]):\n",
        "  print(\"range of feature %i is %i\"%(i, np.ptp(X[:,i])))\n",
        "\n",
        "# standardize X\n",
        "scaler = preprocessing.StandardScaler().fit(X)\n",
        "# X_train = scaler.transform(X_train)\n",
        "# X_test = scaler.transform(X_test)\n",
        "print(X.shape)"
      ]
    },
    {
      "cell_type": "code",
      "execution_count": 721,
      "metadata": {},
      "outputs": [
        {
          "name": "stdout",
          "output_type": "stream",
          "text": [
            "[(0, 3, 6, 7), (0, 5, 6, 7), (0, 3, 4, 7)]\n"
          ]
        }
      ],
      "source": [
        "import pickle\n",
        "f = open('DNN2_3best.pkl', 'rb')\n",
        "combinations = pickle.load(f)\n",
        "print(combinations)\n",
        "f.close()\n",
        "comb = [0, 5, 6, 7, 3]"
      ]
    },
    {
      "cell_type": "code",
      "execution_count": 722,
      "metadata": {
        "colab": {
          "base_uri": "https://localhost:8080/"
        },
        "id": "KecNc-qu2MlP",
        "outputId": "b65744c3-630c-41da-8c4a-9e5e166a34b6"
      },
      "outputs": [
        {
          "name": "stdout",
          "output_type": "stream",
          "text": [
            "current combination [0, 5, 6, 7, 3]\n",
            "noise: 0.100000; num_neuron: 128; repeat: 20\n",
            "fold 0\n",
            "3/3 [==============================] - 0s 1ms/step\n",
            "Accuracy: 0.78462\n",
            "fold 1\n",
            "3/3 [==============================] - 0s 877us/step\n",
            "Accuracy: 0.76923\n",
            "fold 2\n",
            "3/3 [==============================] - 0s 985us/step\n",
            "Accuracy: 0.70769\n",
            "fold 3\n",
            "3/3 [==============================] - 0s 930us/step\n",
            "Accuracy: 0.81538\n",
            "fold 4\n",
            "3/3 [==============================] - 0s 838us/step\n",
            "Accuracy: 0.78462\n",
            "fold 5\n",
            "3/3 [==============================] - 0s 882us/step\n",
            "Accuracy: 0.66154\n",
            "fold 6\n",
            "3/3 [==============================] - 0s 755us/step\n",
            "Accuracy: 0.73846\n",
            "fold 7\n",
            "3/3 [==============================] - 0s 839us/step\n",
            "Accuracy: 0.70769\n",
            "fold 8\n",
            "3/3 [==============================] - 0s 769us/step\n",
            "Accuracy: 0.81538\n",
            "fold 9\n",
            "3/3 [==============================] - 0s 801us/step\n",
            "Accuracy: 0.72308\n",
            "fold 10\n",
            "3/3 [==============================] - 0s 792us/step\n",
            "Accuracy: 0.73846\n",
            "fold 11\n",
            "3/3 [==============================] - 0s 797us/step\n",
            "Accuracy: 0.8\n",
            "fold 12\n",
            "3/3 [==============================] - 0s 804us/step\n",
            "Accuracy: 0.72308\n",
            "fold 13\n",
            "3/3 [==============================] - 0s 830us/step\n",
            "Accuracy: 0.73846\n",
            "fold 14\n",
            "3/3 [==============================] - 0s 739us/step\n",
            "Accuracy: 0.8\n",
            "fold 15\n",
            "3/3 [==============================] - 0s 760us/step\n",
            "Accuracy: 0.72308\n",
            "fold 16\n",
            "3/3 [==============================] - 0s 835us/step\n",
            "Accuracy: 0.75385\n",
            "fold 17\n",
            "3/3 [==============================] - 0s 806us/step\n",
            "Accuracy: 0.78462\n",
            "fold 18\n",
            "3/3 [==============================] - 0s 876us/step\n",
            "Accuracy: 0.70769\n",
            "fold 19\n",
            "3/3 [==============================] - 0s 830us/step\n",
            "Accuracy: 0.78462\n",
            "fold 20\n",
            "3/3 [==============================] - 0s 789us/step\n",
            "Accuracy: 0.76923\n",
            "fold 21\n",
            "3/3 [==============================] - 0s 941us/step\n",
            "Accuracy: 0.8\n",
            "fold 22\n",
            "3/3 [==============================] - 0s 816us/step\n",
            "Accuracy: 0.72308\n",
            "fold 23\n",
            "3/3 [==============================] - 0s 804us/step\n",
            "Accuracy: 0.73846\n",
            "fold 24\n",
            "3/3 [==============================] - 0s 840us/step\n",
            "Accuracy: 0.69231\n",
            "fold 25\n",
            "3/3 [==============================] - 0s 761us/step\n",
            "Accuracy: 0.8\n",
            "fold 26\n",
            "3/3 [==============================] - 0s 839us/step\n",
            "Accuracy: 0.76923\n",
            "fold 27\n",
            "3/3 [==============================] - 0s 870us/step\n",
            "Accuracy: 0.78462\n",
            "fold 28\n",
            "3/3 [==============================] - 0s 712us/step\n",
            "Accuracy: 0.70769\n",
            "fold 29\n",
            "3/3 [==============================] - 0s 935us/step\n",
            "Accuracy: 0.76923\n",
            "fold 30\n",
            "3/3 [==============================] - 0s 1ms/step\n",
            "Accuracy: 0.69231\n",
            "fold 31\n",
            "3/3 [==============================] - 0s 854us/step\n",
            "Accuracy: 0.81538\n",
            "fold 32\n",
            "3/3 [==============================] - 0s 956us/step\n",
            "Accuracy: 0.75385\n",
            "fold 33\n",
            "3/3 [==============================] - 0s 901us/step\n",
            "Accuracy: 0.72308\n",
            "fold 34\n",
            "3/3 [==============================] - 0s 735us/step\n",
            "Accuracy: 0.70769\n",
            "fold 35\n",
            "3/3 [==============================] - 0s 738us/step\n",
            "Accuracy: 0.83077\n",
            "fold 36\n",
            "3/3 [==============================] - 0s 906us/step\n",
            "Accuracy: 0.76923\n",
            "fold 37\n",
            "3/3 [==============================] - 0s 722us/step\n",
            "Accuracy: 0.76923\n",
            "fold 38\n",
            "3/3 [==============================] - 0s 774us/step\n",
            "Accuracy: 0.72308\n",
            "fold 39\n",
            "3/3 [==============================] - 0s 780us/step\n",
            "Accuracy: 0.78462\n",
            "fold 40\n",
            "3/3 [==============================] - 0s 907us/step\n",
            "Accuracy: 0.75385\n",
            "fold 41\n",
            "3/3 [==============================] - 0s 716us/step\n",
            "Accuracy: 0.72308\n",
            "fold 42\n",
            "3/3 [==============================] - 0s 780us/step\n",
            "Accuracy: 0.73846\n",
            "fold 43\n",
            "3/3 [==============================] - 0s 701us/step\n",
            "Accuracy: 0.81538\n",
            "fold 44\n",
            "3/3 [==============================] - 0s 811us/step\n",
            "Accuracy: 0.70769\n",
            "fold 45\n",
            "3/3 [==============================] - 0s 786us/step\n",
            "Accuracy: 0.70769\n",
            "fold 46\n"
          ]
        },
        {
          "ename": "InvalidArgumentError",
          "evalue": "Graph execution error:\n\nDetected at node 'sequential_1040/random_fourier_features_1040/BiasAdd' defined at (most recent call last):\n    File \"/Library/Frameworks/Python.framework/Versions/3.10/lib/python3.10/runpy.py\", line 196, in _run_module_as_main\n      return _run_code(code, main_globals, None,\n    File \"/Library/Frameworks/Python.framework/Versions/3.10/lib/python3.10/runpy.py\", line 86, in _run_code\n      exec(code, run_globals)\n    File \"/Users/publicenemy989/Library/Python/3.10/lib/python/site-packages/ipykernel_launcher.py\", line 17, in <module>\n      app.launch_new_instance()\n    File \"/Users/publicenemy989/Library/Python/3.10/lib/python/site-packages/traitlets/config/application.py\", line 1043, in launch_instance\n      app.start()\n    File \"/Users/publicenemy989/Library/Python/3.10/lib/python/site-packages/ipykernel/kernelapp.py\", line 725, in start\n      self.io_loop.start()\n    File \"/Users/publicenemy989/Library/Python/3.10/lib/python/site-packages/tornado/platform/asyncio.py\", line 195, in start\n      self.asyncio_loop.run_forever()\n    File \"/Library/Frameworks/Python.framework/Versions/3.10/lib/python3.10/asyncio/base_events.py\", line 595, in run_forever\n      self._run_once()\n    File \"/Library/Frameworks/Python.framework/Versions/3.10/lib/python3.10/asyncio/base_events.py\", line 1881, in _run_once\n      handle._run()\n    File \"/Library/Frameworks/Python.framework/Versions/3.10/lib/python3.10/asyncio/events.py\", line 80, in _run\n      self._context.run(self._callback, *self._args)\n    File \"/Users/publicenemy989/Library/Python/3.10/lib/python/site-packages/ipykernel/kernelbase.py\", line 513, in dispatch_queue\n      await self.process_one()\n    File \"/Users/publicenemy989/Library/Python/3.10/lib/python/site-packages/ipykernel/kernelbase.py\", line 502, in process_one\n      await dispatch(*args)\n    File \"/Users/publicenemy989/Library/Python/3.10/lib/python/site-packages/ipykernel/kernelbase.py\", line 409, in dispatch_shell\n      await result\n    File \"/Users/publicenemy989/Library/Python/3.10/lib/python/site-packages/ipykernel/kernelbase.py\", line 729, in execute_request\n      reply_content = await reply_content\n    File \"/Users/publicenemy989/Library/Python/3.10/lib/python/site-packages/ipykernel/ipkernel.py\", line 422, in do_execute\n      res = shell.run_cell(\n    File \"/Users/publicenemy989/Library/Python/3.10/lib/python/site-packages/ipykernel/zmqshell.py\", line 540, in run_cell\n      return super().run_cell(*args, **kwargs)\n    File \"/Users/publicenemy989/Library/Python/3.10/lib/python/site-packages/IPython/core/interactiveshell.py\", line 3009, in run_cell\n      result = self._run_cell(\n    File \"/Users/publicenemy989/Library/Python/3.10/lib/python/site-packages/IPython/core/interactiveshell.py\", line 3064, in _run_cell\n      result = runner(coro)\n    File \"/Users/publicenemy989/Library/Python/3.10/lib/python/site-packages/IPython/core/async_helpers.py\", line 129, in _pseudo_sync_runner\n      coro.send(None)\n    File \"/Users/publicenemy989/Library/Python/3.10/lib/python/site-packages/IPython/core/interactiveshell.py\", line 3269, in run_cell_async\n      has_raised = await self.run_ast_nodes(code_ast.body, cell_name,\n    File \"/Users/publicenemy989/Library/Python/3.10/lib/python/site-packages/IPython/core/interactiveshell.py\", line 3448, in run_ast_nodes\n      if await self.run_code(code, result, async_=asy):\n    File \"/Users/publicenemy989/Library/Python/3.10/lib/python/site-packages/IPython/core/interactiveshell.py\", line 3508, in run_code\n      exec(code_obj, self.user_global_ns, self.user_ns)\n    File \"/var/folders/d3/nzl34gq918jd4kh3hdj382hm0000gn/T/ipykernel_52333/2852753178.py\", line 10, in <module>\n      score = perform_KF(X_, y)\n    File \"/var/folders/d3/nzl34gq918jd4kh3hdj382hm0000gn/T/ipykernel_52333/2767992574.py\", line 24, in perform_KF\n      model.fit(X_train, y_train, epochs=100, batch_size=39, verbose=0)\n    File \"/Users/publicenemy989/Library/Python/3.10/lib/python/site-packages/keras/src/utils/traceback_utils.py\", line 65, in error_handler\n      return fn(*args, **kwargs)\n    File \"/Users/publicenemy989/Library/Python/3.10/lib/python/site-packages/keras/src/engine/training.py\", line 1742, in fit\n      tmp_logs = self.train_function(iterator)\n    File \"/Users/publicenemy989/Library/Python/3.10/lib/python/site-packages/keras/src/engine/training.py\", line 1338, in train_function\n      return step_function(self, iterator)\n    File \"/Users/publicenemy989/Library/Python/3.10/lib/python/site-packages/keras/src/engine/training.py\", line 1322, in step_function\n      outputs = model.distribute_strategy.run(run_step, args=(data,))\n    File \"/Users/publicenemy989/Library/Python/3.10/lib/python/site-packages/keras/src/engine/training.py\", line 1303, in run_step\n      outputs = model.train_step(data)\n    File \"/Users/publicenemy989/Library/Python/3.10/lib/python/site-packages/keras/src/engine/training.py\", line 1080, in train_step\n      y_pred = self(x, training=True)\n    File \"/Users/publicenemy989/Library/Python/3.10/lib/python/site-packages/keras/src/utils/traceback_utils.py\", line 65, in error_handler\n      return fn(*args, **kwargs)\n    File \"/Users/publicenemy989/Library/Python/3.10/lib/python/site-packages/keras/src/engine/training.py\", line 569, in __call__\n      return super().__call__(*args, **kwargs)\n    File \"/Users/publicenemy989/Library/Python/3.10/lib/python/site-packages/keras/src/utils/traceback_utils.py\", line 65, in error_handler\n      return fn(*args, **kwargs)\n    File \"/Users/publicenemy989/Library/Python/3.10/lib/python/site-packages/keras/src/engine/base_layer.py\", line 1150, in __call__\n      outputs = call_fn(inputs, *args, **kwargs)\n    File \"/Users/publicenemy989/Library/Python/3.10/lib/python/site-packages/keras/src/utils/traceback_utils.py\", line 96, in error_handler\n      return fn(*args, **kwargs)\n    File \"/Users/publicenemy989/Library/Python/3.10/lib/python/site-packages/keras/src/engine/sequential.py\", line 404, in call\n      return super().call(inputs, training=training, mask=mask)\n    File \"/Users/publicenemy989/Library/Python/3.10/lib/python/site-packages/keras/src/engine/functional.py\", line 512, in call\n      return self._run_internal_graph(inputs, training=training, mask=mask)\n    File \"/Users/publicenemy989/Library/Python/3.10/lib/python/site-packages/keras/src/engine/functional.py\", line 669, in _run_internal_graph\n      outputs = node.layer(*args, **kwargs)\n    File \"/Users/publicenemy989/Library/Python/3.10/lib/python/site-packages/keras/src/utils/traceback_utils.py\", line 65, in error_handler\n      return fn(*args, **kwargs)\n    File \"/Users/publicenemy989/Library/Python/3.10/lib/python/site-packages/keras/src/engine/base_layer.py\", line 1150, in __call__\n      outputs = call_fn(inputs, *args, **kwargs)\n    File \"/Users/publicenemy989/Library/Python/3.10/lib/python/site-packages/keras/src/utils/traceback_utils.py\", line 96, in error_handler\n      return fn(*args, **kwargs)\n    File \"/Users/publicenemy989/Library/Python/3.10/lib/python/site-packages/keras/src/layers/kernelized.py\", line 233, in call\n      outputs = tf.nn.bias_add(outputs, self.bias)\nNode: 'sequential_1040/random_fourier_features_1040/BiasAdd'\nIn[0] and In[1] has different ndims: [39,5] vs. [0]\n\t [[{{node sequential_1040/random_fourier_features_1040/BiasAdd}}]] [Op:__inference_train_function_5723906]",
          "output_type": "error",
          "traceback": [
            "\u001b[0;31m---------------------------------------------------------------------------\u001b[0m",
            "\u001b[0;31mInvalidArgumentError\u001b[0m                      Traceback (most recent call last)",
            "Cell \u001b[0;32mIn[722], line 10\u001b[0m\n\u001b[1;32m      8\u001b[0m X_ \u001b[39m=\u001b[39m np\u001b[39m.\u001b[39mhstack((x1, x2, x3, x4, x5))\n\u001b[1;32m      9\u001b[0m \u001b[39mprint\u001b[39m(\u001b[39m\"\u001b[39m\u001b[39mcurrent combination\u001b[39m\u001b[39m\"\u001b[39m, comb)\n\u001b[0;32m---> 10\u001b[0m score \u001b[39m=\u001b[39m perform_KF(X_, y)\n\u001b[1;32m     11\u001b[0m scores\u001b[39m.\u001b[39mappend(score)\n\u001b[1;32m     12\u001b[0m \u001b[39mif\u001b[39;00m(score \u001b[39m>\u001b[39m best_score):\n",
            "Cell \u001b[0;32mIn[709], line 24\u001b[0m, in \u001b[0;36mperform_KF\u001b[0;34m(X, y, noise, num, repeat)\u001b[0m\n\u001b[1;32m     22\u001b[0m model \u001b[39m=\u001b[39m create_model(num, noise)\n\u001b[1;32m     23\u001b[0m \u001b[39m# model.fit(X_train_resample, y_train_resample, epochs=100, batch_size=74, verbose=0)\u001b[39;00m\n\u001b[0;32m---> 24\u001b[0m model\u001b[39m.\u001b[39;49mfit(X_train, y_train, epochs\u001b[39m=\u001b[39;49m\u001b[39m100\u001b[39;49m, batch_size\u001b[39m=\u001b[39;49m\u001b[39m39\u001b[39;49m, verbose\u001b[39m=\u001b[39;49m\u001b[39m0\u001b[39;49m)\n\u001b[1;32m     26\u001b[0m y_pred \u001b[39m=\u001b[39m model\u001b[39m.\u001b[39mpredict(X_test)\n\u001b[1;32m     27\u001b[0m y_pred \u001b[39m=\u001b[39m tf\u001b[39m.\u001b[39margmax(y_pred, axis\u001b[39m=\u001b[39m\u001b[39m1\u001b[39m)\n",
            "File \u001b[0;32m~/Library/Python/3.10/lib/python/site-packages/keras/src/utils/traceback_utils.py:70\u001b[0m, in \u001b[0;36mfilter_traceback.<locals>.error_handler\u001b[0;34m(*args, **kwargs)\u001b[0m\n\u001b[1;32m     67\u001b[0m     filtered_tb \u001b[39m=\u001b[39m _process_traceback_frames(e\u001b[39m.\u001b[39m__traceback__)\n\u001b[1;32m     68\u001b[0m     \u001b[39m# To get the full stack trace, call:\u001b[39;00m\n\u001b[1;32m     69\u001b[0m     \u001b[39m# `tf.debugging.disable_traceback_filtering()`\u001b[39;00m\n\u001b[0;32m---> 70\u001b[0m     \u001b[39mraise\u001b[39;00m e\u001b[39m.\u001b[39mwith_traceback(filtered_tb) \u001b[39mfrom\u001b[39;00m \u001b[39mNone\u001b[39;00m\n\u001b[1;32m     71\u001b[0m \u001b[39mfinally\u001b[39;00m:\n\u001b[1;32m     72\u001b[0m     \u001b[39mdel\u001b[39;00m filtered_tb\n",
            "File \u001b[0;32m~/Library/Python/3.10/lib/python/site-packages/tensorflow/python/eager/execute.py:53\u001b[0m, in \u001b[0;36mquick_execute\u001b[0;34m(op_name, num_outputs, inputs, attrs, ctx, name)\u001b[0m\n\u001b[1;32m     51\u001b[0m \u001b[39mtry\u001b[39;00m:\n\u001b[1;32m     52\u001b[0m   ctx\u001b[39m.\u001b[39mensure_initialized()\n\u001b[0;32m---> 53\u001b[0m   tensors \u001b[39m=\u001b[39m pywrap_tfe\u001b[39m.\u001b[39mTFE_Py_Execute(ctx\u001b[39m.\u001b[39m_handle, device_name, op_name,\n\u001b[1;32m     54\u001b[0m                                       inputs, attrs, num_outputs)\n\u001b[1;32m     55\u001b[0m \u001b[39mexcept\u001b[39;00m core\u001b[39m.\u001b[39m_NotOkStatusException \u001b[39mas\u001b[39;00m e:\n\u001b[1;32m     56\u001b[0m   \u001b[39mif\u001b[39;00m name \u001b[39mis\u001b[39;00m \u001b[39mnot\u001b[39;00m \u001b[39mNone\u001b[39;00m:\n",
            "\u001b[0;31mInvalidArgumentError\u001b[0m: Graph execution error:\n\nDetected at node 'sequential_1040/random_fourier_features_1040/BiasAdd' defined at (most recent call last):\n    File \"/Library/Frameworks/Python.framework/Versions/3.10/lib/python3.10/runpy.py\", line 196, in _run_module_as_main\n      return _run_code(code, main_globals, None,\n    File \"/Library/Frameworks/Python.framework/Versions/3.10/lib/python3.10/runpy.py\", line 86, in _run_code\n      exec(code, run_globals)\n    File \"/Users/publicenemy989/Library/Python/3.10/lib/python/site-packages/ipykernel_launcher.py\", line 17, in <module>\n      app.launch_new_instance()\n    File \"/Users/publicenemy989/Library/Python/3.10/lib/python/site-packages/traitlets/config/application.py\", line 1043, in launch_instance\n      app.start()\n    File \"/Users/publicenemy989/Library/Python/3.10/lib/python/site-packages/ipykernel/kernelapp.py\", line 725, in start\n      self.io_loop.start()\n    File \"/Users/publicenemy989/Library/Python/3.10/lib/python/site-packages/tornado/platform/asyncio.py\", line 195, in start\n      self.asyncio_loop.run_forever()\n    File \"/Library/Frameworks/Python.framework/Versions/3.10/lib/python3.10/asyncio/base_events.py\", line 595, in run_forever\n      self._run_once()\n    File \"/Library/Frameworks/Python.framework/Versions/3.10/lib/python3.10/asyncio/base_events.py\", line 1881, in _run_once\n      handle._run()\n    File \"/Library/Frameworks/Python.framework/Versions/3.10/lib/python3.10/asyncio/events.py\", line 80, in _run\n      self._context.run(self._callback, *self._args)\n    File \"/Users/publicenemy989/Library/Python/3.10/lib/python/site-packages/ipykernel/kernelbase.py\", line 513, in dispatch_queue\n      await self.process_one()\n    File \"/Users/publicenemy989/Library/Python/3.10/lib/python/site-packages/ipykernel/kernelbase.py\", line 502, in process_one\n      await dispatch(*args)\n    File \"/Users/publicenemy989/Library/Python/3.10/lib/python/site-packages/ipykernel/kernelbase.py\", line 409, in dispatch_shell\n      await result\n    File \"/Users/publicenemy989/Library/Python/3.10/lib/python/site-packages/ipykernel/kernelbase.py\", line 729, in execute_request\n      reply_content = await reply_content\n    File \"/Users/publicenemy989/Library/Python/3.10/lib/python/site-packages/ipykernel/ipkernel.py\", line 422, in do_execute\n      res = shell.run_cell(\n    File \"/Users/publicenemy989/Library/Python/3.10/lib/python/site-packages/ipykernel/zmqshell.py\", line 540, in run_cell\n      return super().run_cell(*args, **kwargs)\n    File \"/Users/publicenemy989/Library/Python/3.10/lib/python/site-packages/IPython/core/interactiveshell.py\", line 3009, in run_cell\n      result = self._run_cell(\n    File \"/Users/publicenemy989/Library/Python/3.10/lib/python/site-packages/IPython/core/interactiveshell.py\", line 3064, in _run_cell\n      result = runner(coro)\n    File \"/Users/publicenemy989/Library/Python/3.10/lib/python/site-packages/IPython/core/async_helpers.py\", line 129, in _pseudo_sync_runner\n      coro.send(None)\n    File \"/Users/publicenemy989/Library/Python/3.10/lib/python/site-packages/IPython/core/interactiveshell.py\", line 3269, in run_cell_async\n      has_raised = await self.run_ast_nodes(code_ast.body, cell_name,\n    File \"/Users/publicenemy989/Library/Python/3.10/lib/python/site-packages/IPython/core/interactiveshell.py\", line 3448, in run_ast_nodes\n      if await self.run_code(code, result, async_=asy):\n    File \"/Users/publicenemy989/Library/Python/3.10/lib/python/site-packages/IPython/core/interactiveshell.py\", line 3508, in run_code\n      exec(code_obj, self.user_global_ns, self.user_ns)\n    File \"/var/folders/d3/nzl34gq918jd4kh3hdj382hm0000gn/T/ipykernel_52333/2852753178.py\", line 10, in <module>\n      score = perform_KF(X_, y)\n    File \"/var/folders/d3/nzl34gq918jd4kh3hdj382hm0000gn/T/ipykernel_52333/2767992574.py\", line 24, in perform_KF\n      model.fit(X_train, y_train, epochs=100, batch_size=39, verbose=0)\n    File \"/Users/publicenemy989/Library/Python/3.10/lib/python/site-packages/keras/src/utils/traceback_utils.py\", line 65, in error_handler\n      return fn(*args, **kwargs)\n    File \"/Users/publicenemy989/Library/Python/3.10/lib/python/site-packages/keras/src/engine/training.py\", line 1742, in fit\n      tmp_logs = self.train_function(iterator)\n    File \"/Users/publicenemy989/Library/Python/3.10/lib/python/site-packages/keras/src/engine/training.py\", line 1338, in train_function\n      return step_function(self, iterator)\n    File \"/Users/publicenemy989/Library/Python/3.10/lib/python/site-packages/keras/src/engine/training.py\", line 1322, in step_function\n      outputs = model.distribute_strategy.run(run_step, args=(data,))\n    File \"/Users/publicenemy989/Library/Python/3.10/lib/python/site-packages/keras/src/engine/training.py\", line 1303, in run_step\n      outputs = model.train_step(data)\n    File \"/Users/publicenemy989/Library/Python/3.10/lib/python/site-packages/keras/src/engine/training.py\", line 1080, in train_step\n      y_pred = self(x, training=True)\n    File \"/Users/publicenemy989/Library/Python/3.10/lib/python/site-packages/keras/src/utils/traceback_utils.py\", line 65, in error_handler\n      return fn(*args, **kwargs)\n    File \"/Users/publicenemy989/Library/Python/3.10/lib/python/site-packages/keras/src/engine/training.py\", line 569, in __call__\n      return super().__call__(*args, **kwargs)\n    File \"/Users/publicenemy989/Library/Python/3.10/lib/python/site-packages/keras/src/utils/traceback_utils.py\", line 65, in error_handler\n      return fn(*args, **kwargs)\n    File \"/Users/publicenemy989/Library/Python/3.10/lib/python/site-packages/keras/src/engine/base_layer.py\", line 1150, in __call__\n      outputs = call_fn(inputs, *args, **kwargs)\n    File \"/Users/publicenemy989/Library/Python/3.10/lib/python/site-packages/keras/src/utils/traceback_utils.py\", line 96, in error_handler\n      return fn(*args, **kwargs)\n    File \"/Users/publicenemy989/Library/Python/3.10/lib/python/site-packages/keras/src/engine/sequential.py\", line 404, in call\n      return super().call(inputs, training=training, mask=mask)\n    File \"/Users/publicenemy989/Library/Python/3.10/lib/python/site-packages/keras/src/engine/functional.py\", line 512, in call\n      return self._run_internal_graph(inputs, training=training, mask=mask)\n    File \"/Users/publicenemy989/Library/Python/3.10/lib/python/site-packages/keras/src/engine/functional.py\", line 669, in _run_internal_graph\n      outputs = node.layer(*args, **kwargs)\n    File \"/Users/publicenemy989/Library/Python/3.10/lib/python/site-packages/keras/src/utils/traceback_utils.py\", line 65, in error_handler\n      return fn(*args, **kwargs)\n    File \"/Users/publicenemy989/Library/Python/3.10/lib/python/site-packages/keras/src/engine/base_layer.py\", line 1150, in __call__\n      outputs = call_fn(inputs, *args, **kwargs)\n    File \"/Users/publicenemy989/Library/Python/3.10/lib/python/site-packages/keras/src/utils/traceback_utils.py\", line 96, in error_handler\n      return fn(*args, **kwargs)\n    File \"/Users/publicenemy989/Library/Python/3.10/lib/python/site-packages/keras/src/layers/kernelized.py\", line 233, in call\n      outputs = tf.nn.bias_add(outputs, self.bias)\nNode: 'sequential_1040/random_fourier_features_1040/BiasAdd'\nIn[0] and In[1] has different ndims: [39,5] vs. [0]\n\t [[{{node sequential_1040/random_fourier_features_1040/BiasAdd}}]] [Op:__inference_train_function_5723906]"
          ]
        }
      ],
      "source": [
        "best_score = 0\n",
        "scores = []\n",
        "x1 = X[:, comb[0]].reshape((195, 1))\n",
        "x2 = X[:, comb[1]].reshape((195, 1))\n",
        "x3 = X[:, comb[2]].reshape((195, 1))\n",
        "x4 = X[:, comb[3]].reshape((195, 1))\n",
        "x5 = X[:, comb[4]].reshape((195, 1))\n",
        "X_ = np.hstack((x1, x2, x3, x4, x5))\n",
        "print(\"current combination\", comb)\n",
        "score = perform_KF(X_, y)\n",
        "scores.append(score)\n",
        "if(score > best_score):\n",
        "  best_score = score\n",
        "print(\"best score is: \", best_score)"
      ]
    },
    {
      "cell_type": "code",
      "execution_count": null,
      "metadata": {},
      "outputs": [
        {
          "data": {
            "text/plain": [
              "'\\nbest_score = 0\\nbest_comb = combinations[0]\\nbest_num = 0\\nscores = []\\nnums = [128, 256, 512, 1024, 2048]\\nfor comb in combinations:\\n  print(\"--------------------\")\\n  x1 = X[:, comb[0]].reshape((195, 1))\\n  x2 = X[:, comb[1]].reshape((195, 1))\\n  x3 = X[:, comb[2]].reshape((195, 1))\\n  x4 = X[:, comb[3]].reshape((195, 1))\\n  X_ = np.hstack((x1, x2, x3, x4))\\n  for num in nums:\\n    print(\"current combination %s current num: %i\" %(comb, num))\\n    score = perform_KF(X_, y, num)\\n    scores.append(score)\\n    if(score > best_score):\\n      best_score = score\\n      best_comb = comb\\n      best_num = num\\nprint(\"best combination is: \", best_comb)\\nprint(\"best score is: \", best_score)\\nprint(\"best num is %i\" %best_num)\\n'"
            ]
          },
          "execution_count": 702,
          "metadata": {},
          "output_type": "execute_result"
        }
      ],
      "source": [
        "\"\"\"\n",
        "best_score = 0\n",
        "best_comb = combinations[0]\n",
        "best_num = 0\n",
        "scores = []\n",
        "nums = [128, 256, 512, 1024, 2048]\n",
        "for comb in combinations:\n",
        "  print(\"--------------------\")\n",
        "  x1 = X[:, comb[0]].reshape((195, 1))\n",
        "  x2 = X[:, comb[1]].reshape((195, 1))\n",
        "  x3 = X[:, comb[2]].reshape((195, 1))\n",
        "  x4 = X[:, comb[3]].reshape((195, 1))\n",
        "  X_ = np.hstack((x1, x2, x3, x4))\n",
        "  for num in nums:\n",
        "    print(\"current combination %s current num: %i\" %(comb, num))\n",
        "    score = perform_KF(X_, y, num)\n",
        "    scores.append(score)\n",
        "    if(score > best_score):\n",
        "      best_score = score\n",
        "      best_comb = comb\n",
        "      best_num = num\n",
        "print(\"best combination is: \", best_comb)\n",
        "print(\"best score is: \", best_score)\n",
        "print(\"best num is %i\" %best_num)\n",
        "\"\"\""
      ]
    }
  ],
  "metadata": {
    "colab": {
      "authorship_tag": "ABX9TyM7N+hCnitd9/ijGWYYzE0M",
      "include_colab_link": true,
      "provenance": []
    },
    "kernelspec": {
      "display_name": "Python 3",
      "name": "python3"
    },
    "language_info": {
      "codemirror_mode": {
        "name": "ipython",
        "version": 3
      },
      "file_extension": ".py",
      "mimetype": "text/x-python",
      "name": "python",
      "nbconvert_exporter": "python",
      "pygments_lexer": "ipython3",
      "version": "3.10.2"
    }
  },
  "nbformat": 4,
  "nbformat_minor": 0
}
