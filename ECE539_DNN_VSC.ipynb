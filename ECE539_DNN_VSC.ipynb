{
  "cells": [
    {
      "cell_type": "markdown",
      "metadata": {
        "colab_type": "text",
        "id": "view-in-github"
      },
      "source": [
        "<a href=\"https://colab.research.google.com/github/yangr296/ECE539/blob/main/ECE539_DNN.ipynb\" target=\"_parent\"><img src=\"https://colab.research.google.com/assets/colab-badge.svg\" alt=\"Open In Colab\"/></a>"
      ]
    },
    {
      "cell_type": "code",
      "execution_count": 26,
      "metadata": {
        "colab": {
          "base_uri": "https://localhost:8080/"
        },
        "id": "J_7UEkv9r5pz",
        "outputId": "3a61dd55-7e29-4ace-b7da-5419075cec25"
      },
      "outputs": [
        {
          "name": "stdout",
          "output_type": "stream",
          "text": [
            "Drive already mounted at /content/drive; to attempt to forcibly remount, call drive.mount(\"/content/drive\", force_remount=True).\n"
          ]
        }
      ],
      "source": [
        "import tensorflow as tf\n",
        "import numpy as np\n",
        "import random\n",
        "from sklearn.model_selection import train_test_split\n",
        "\n",
        "with open('/Users/publicenemy989/Downloads/parkinsons/parkinsons.data', 'r') as f:\n",
        "  tmp = np.genfromtxt(f,delimiter=',')\n",
        "np.set_printoptions(precision=3,suppress=True)"
      ]
    },
    {
      "cell_type": "markdown",
      "metadata": {
        "id": "cJuaiQY3kiWa"
      },
      "source": [
        "Data Preprocessing"
      ]
    },
    {
      "cell_type": "code",
      "execution_count": 27,
      "metadata": {
        "colab": {
          "base_uri": "https://localhost:8080/",
          "height": 106
        },
        "id": "kjAI1aAg5cp-",
        "outputId": "24292e6f-21d1-4c7b-c062-11f894b0df98"
      },
      "outputs": [
        {
          "data": {
            "application/vnd.google.colaboratory.intrinsic+json": {
              "type": "string"
            },
            "text/plain": [
              "'\\nindex by columns\\nX[0] MDVP:Fo(Hz)\\nX[1] MDVP:Fhi(Hz)\\nX[2] MDVP:Flo(Hz)\\nX[3] MDVP:Jitter(%)\\nX[4] MDVP:Jitter(Abs)\\nX[5] MDVP:RAP\\nX[6] MDVP:PPQ\\nX[7] Jitter:DDP\\nX[8] MDVP:Shimmer\\nX[9] MDVP:Shimmer(dB)\\nX[10] Shimmer:APQ3\\nX[11] Shimmer:APQ5\\nX[12] MDVP:APQ\\nX[13] Shimmer:DDA\\nX[14] NHR\\nX[15] HNR\\nX[16] RPDE\\nX[17] DFA\\nX[18] spread1\\nX[19] spread2\\nX[20] D2\\nX[21] PPE\\n'"
            ]
          },
          "execution_count": 27,
          "metadata": {},
          "output_type": "execute_result"
        }
      ],
      "source": [
        "from tensorflow import keras\n",
        "\n",
        "X, y = tmp[1:, 1:], tmp[1:, -7]\n",
        "X = np.delete(X, 16, 1)\n",
        "X = X.astype(float)\n",
        "\"\"\"\n",
        "index by columns\n",
        "X[0] MDVP:Fo(Hz)\n",
        "X[1] MDVP:Fhi(Hz)\n",
        "X[2] MDVP:Flo(Hz)\n",
        "X[3] MDVP:Jitter(%)\n",
        "X[4] MDVP:Jitter(Abs)\n",
        "X[5] MDVP:RAP\n",
        "X[6] MDVP:PPQ\n",
        "X[7] Jitter:DDP\n",
        "X[8] MDVP:Shimmer\n",
        "X[9] MDVP:Shimmer(dB)\n",
        "X[10] Shimmer:APQ3\n",
        "X[11] Shimmer:APQ5\n",
        "X[12] MDVP:APQ\n",
        "X[13] Shimmer:DDA\n",
        "X[14] NHR\n",
        "X[15] HNR\n",
        "X[16] RPDE\n",
        "X[17] DFA\n",
        "X[18] spread1\n",
        "X[19] spread2\n",
        "X[20] D2\n",
        "X[21] PPE\n",
        "\"\"\""
      ]
    },
    {
      "cell_type": "code",
      "execution_count": 28,
      "metadata": {
        "colab": {
          "base_uri": "https://localhost:8080/"
        },
        "id": "RvLJ6MhwkfCt",
        "outputId": "88e56408-c20a-459c-ab1d-3cdf81a12349"
      },
      "outputs": [
        {
          "name": "stdout",
          "output_type": "stream",
          "text": [
            "features 3 and 5 have corr of 0.990276\n",
            "features 3 and 6 have corr of 0.974256\n",
            "features 3 and 7 have corr of 0.990276\n",
            "features 5 and 6 have corr of 0.957317\n",
            "features 5 and 7 have corr of 1.000000\n",
            "features 6 and 7 have corr of 0.957319\n",
            "features 8 and 9 have corr of 0.987258\n",
            "features 8 and 10 have corr of 0.987625\n",
            "features 8 and 11 have corr of 0.982835\n",
            "features 8 and 12 have corr of 0.950083\n",
            "features 8 and 13 have corr of 0.987626\n",
            "features 9 and 10 have corr of 0.963198\n",
            "features 9 and 11 have corr of 0.973751\n",
            "features 9 and 12 have corr of 0.960977\n",
            "features 9 and 13 have corr of 0.963202\n",
            "features 10 and 11 have corr of 0.960070\n",
            "features 10 and 13 have corr of 1.000000\n",
            "features 11 and 13 have corr of 0.960072\n",
            "features 18 and 21 have corr of 0.962435\n",
            "[[3, 5], [3, 6], [3, 7], [5, 6], [5, 7], [6, 7], [8, 9], [8, 10], [8, 11], [8, 12], [8, 13], [9, 10], [9, 11], [9, 12], [9, 13], [10, 11], [10, 13], [11, 13], [18, 21]]\n"
          ]
        }
      ],
      "source": [
        "from scipy.stats import pearsonr\n",
        "pair = []\n",
        "for i in range(21):\n",
        "  for j in range((i + 1), 22):\n",
        "    a = X[:, i]\n",
        "    b = X[:, j]\n",
        "    corr, _ = pearsonr(a, b)\n",
        "    if(corr > 0.95):\n",
        "      pair.append([i, j])\n",
        "      print(\"features %i and %i have corr of %f\" %(i, j, corr))\n",
        "print(pair)"
      ]
    },
    {
      "cell_type": "markdown",
      "metadata": {
        "id": "m9G0AEg7qjCr"
      },
      "source": [
        "Function def"
      ]
    },
    {
      "cell_type": "code",
      "execution_count": 29,
      "metadata": {
        "id": "iGTiT5kHpKda"
      },
      "outputs": [],
      "source": [
        "from sklearn.metrics import accuracy_score\n",
        "def performSVM(X, y):\n",
        "  aveScore = 0\n",
        "  for i in range(5):\n",
        "    X_train, X_test, y_train, y_test = train_test_split(X, y, test_size=0.20)\n",
        "    clf = svm.SVC()\n",
        "    clf.fit(X_train, y_train)\n",
        "    y_pred = clf.predict(X_test)\n",
        "    aveScore += np.round(accuracy_score(y_test, y_pred), 3)\n",
        "  aveScore /= 5\n",
        "  return aveScore"
      ]
    },
    {
      "cell_type": "code",
      "execution_count": 30,
      "metadata": {
        "colab": {
          "base_uri": "https://localhost:8080/"
        },
        "id": "TI2I4fuDnreM",
        "outputId": "0a4c1d19-c878-457c-b876-36659e6dcccc"
      },
      "outputs": [
        {
          "name": "stdout",
          "output_type": "stream",
          "text": [
            "Accuracy: 3(0.856) 5(0.785) Delete 5\n",
            "Accuracy: 3(0.851) 6(0.836) Delete 6\n",
            "Accuracy: 3(0.830) 7(0.774) Delete 7\n",
            "skipped pair(5, 6), because 5 already deleted\n",
            "skipped pair(5, 7), because 5 already deleted\n",
            "skipped pair(6, 7), because 6 already deleted\n",
            "Accuracy: 8(0.841) 9(0.795) Delete 9\n",
            "Accuracy: 8(0.856) 10(0.805) Delete 10\n",
            "Accuracy: 8(0.780) 11(0.821) Delete 8\n",
            "skipped pair(8, 12), because 8 already deleted\n",
            "skipped pair(8, 13), because 8 already deleted\n",
            "skipped pair(9, 10), because 9 already deleted\n",
            "skipped pair(9, 11), because 9 already deleted\n",
            "skipped pair(9, 12), because 9 already deleted\n",
            "skipped pair(9, 13), because 9 already deleted\n",
            "skipped pair(10, 11), because 10 already deleted\n",
            "skipped pair(10, 13), because 10 already deleted\n",
            "Accuracy: 11(0.821) 13(0.775) Delete 13\n",
            "Accuracy: 18(0.816) 21(0.841) Delete 18\n"
          ]
        }
      ],
      "source": [
        "from sklearn import svm\n",
        "deleted = []\n",
        "for i in pair:\n",
        "  if i[0] in deleted:\n",
        "    print(\"skipped pair(%i, %i), because %i already deleted\" %(i[0], i[1], i[0]))\n",
        "    continue\n",
        "  if i[1] in deleted:\n",
        "    print(\"skipped pair(%i, %i), because %i already deleted\" %(i[0], i[1], i[1]))\n",
        "    continue\n",
        "  A = X\n",
        "  B = X\n",
        "  A = np.delete(A, i[0], 1)\n",
        "  B = np.delete(B, i[1], 1)\n",
        "  score_a = performSVM(A, y)\n",
        "  score_b = performSVM(B, y)\n",
        "  if(score_a > score_b):\n",
        "    delete = i[1]\n",
        "  else:\n",
        "    delete = i[0]\n",
        "  deleted.append(delete)\n",
        "  print(\"Accuracy: %i(%.3f) %i(%.3f) Delete %i\" %(i[0], score_a, i[1], score_b, delete))"
      ]
    },
    {
      "cell_type": "code",
      "execution_count": 109,
      "metadata": {
        "colab": {
          "base_uri": "https://localhost:8080/"
        },
        "id": "dxRfIAiJm3Kd",
        "outputId": "4b5d6862-5885-42f5-d7e5-1f7482504b6f"
      },
      "outputs": [
        {
          "name": "stdout",
          "output_type": "stream",
          "text": [
            "Pearson's Correlation of feature 0 is: -0.384\n",
            "Pearson's Correlation of feature 1 is: -0.166\n",
            "Pearson's Correlation of feature 2 is: -0.380\n",
            "Pearson's Correlation of feature 3 is: 0.278\n",
            "Pearson's Correlation of feature 4 is: 0.339\n",
            "Pearson's Correlation of feature 5 is: 0.267\n",
            "Pearson's Correlation of feature 6 is: 0.289\n",
            "Pearson's Correlation of feature 7 is: 0.267\n",
            "Pearson's Correlation of feature 8 is: 0.367\n",
            "Pearson's Correlation of feature 9 is: 0.351\n",
            "Pearson's Correlation of feature 10 is: 0.348\n",
            "Pearson's Correlation of feature 11 is: 0.351\n",
            "Pearson's Correlation of feature 12 is: 0.364\n",
            "Pearson's Correlation of feature 13 is: 0.348\n",
            "Pearson's Correlation of feature 14 is: 0.189\n",
            "Pearson's Correlation of feature 15 is: -0.362\n",
            "Pearson's Correlation of feature 16 is: 0.309\n",
            "Pearson's Correlation of feature 17 is: 0.232\n",
            "Pearson's Correlation of feature 18 is: 0.565\n",
            "Pearson's Correlation of feature 19 is: 0.455\n",
            "Pearson's Correlation of feature 20 is: 0.340\n",
            "Pearson's Correlation of feature 21 is: 0.531\n"
          ]
        }
      ],
      "source": [
        "Corr = [[0] * 2 for i in range(22)]\n",
        "for i in range(22):\n",
        "  feature = X[:, i]\n",
        "  corr, _ = pearsonr(feature, y)\n",
        "  Corr[i][0] = abs(corr)\n",
        "  Corr[i][1] = i\n",
        "  print(\"Pearson's Correlation of feature\", i, \"is: %.3f\" % corr)"
      ]
    },
    {
      "cell_type": "code",
      "execution_count": 110,
      "metadata": {
        "colab": {
          "base_uri": "https://localhost:8080/"
        },
        "id": "OtMqUMGxqw6K",
        "outputId": "73f862e2-4415-4060-d871-0731bc93a47c"
      },
      "outputs": [
        {
          "name": "stdout",
          "output_type": "stream",
          "text": [
            "ranking the 22 lowest correlations: \n",
            "feature:  1 corr: 0.166\n",
            "feature: 14 corr: 0.189\n",
            "feature: 17 corr: 0.232\n",
            "feature:  7 corr: 0.267\n",
            "feature:  5 corr: 0.267\n",
            "feature:  3 corr: 0.278\n",
            "feature:  6 corr: 0.289\n",
            "feature: 16 corr: 0.309\n",
            "feature:  4 corr: 0.339\n",
            "feature: 20 corr: 0.340\n",
            "feature: 13 corr: 0.348\n",
            "feature: 10 corr: 0.348\n",
            "feature:  9 corr: 0.351\n",
            "feature: 11 corr: 0.351\n",
            "feature: 15 corr: 0.362\n",
            "feature: 12 corr: 0.364\n",
            "feature:  8 corr: 0.367\n",
            "feature:  2 corr: 0.380\n",
            "feature:  0 corr: 0.384\n",
            "feature: 19 corr: 0.455\n",
            "feature: 21 corr: 0.531\n",
            "feature: 18 corr: 0.565\n"
          ]
        }
      ],
      "source": [
        "# sort all the correlations\n",
        "num = 22\n",
        "Corr.sort()\n",
        "print(\"ranking the %i lowest correlations: \" %num)\n",
        "for i in range(num):\n",
        "  print(\"feature: %2d corr: %.3f\" %(Corr[i][1], Corr[i][0]))"
      ]
    },
    {
      "cell_type": "code",
      "execution_count": 111,
      "metadata": {
        "colab": {
          "base_uri": "https://localhost:8080/"
        },
        "id": "RFHDaIOdQxcq",
        "outputId": "35c6834d-3ddd-4629-eea7-5babeb8348b8"
      },
      "outputs": [
        {
          "name": "stdout",
          "output_type": "stream",
          "text": [
            "X shape before drops: (195, 22)\n",
            "Corr shape: 22\n",
            "X shape after drops: (195, 5)\n"
          ]
        }
      ],
      "source": [
        "# drop the features with the lowest correlation\n",
        "num = 17\n",
        "print(\"X shape before drops:\", X.shape)\n",
        "print(\"Corr shape:\", len(Corr))\n",
        "for i in range(num):\n",
        "  X = np.delete(X, Corr[i][1], 1)\n",
        "  # update feature positions\n",
        "  for j in Corr:\n",
        "    if j[1] > i:\n",
        "      j[1] = j[1] - 1\n",
        "print(\"X shape after drops:\", X.shape)"
      ]
    },
    {
      "cell_type": "code",
      "execution_count": 112,
      "metadata": {
        "id": "1c48i7x0mjqC"
      },
      "outputs": [],
      "source": [
        "# partition into training and validation set at 80/20 division\n",
        "X_train, X_test, y_train, y_test = train_test_split(X, y, test_size=0.20)\n",
        "# Converting y_r and y_t into one-hot encoding using a keras utility\n",
        "#  to_categorical\n",
        "\n",
        "# print(y_test)\n",
        "#[1, 0] is 0\n",
        "#[0, 1] is 1\n",
        "y_test = keras.utils.to_categorical(y_test)\n",
        "y_train = keras.utils.to_categorical(y_train)\n",
        "# print(y_test)"
      ]
    },
    {
      "cell_type": "code",
      "execution_count": 113,
      "metadata": {
        "colab": {
          "base_uri": "https://localhost:8080/"
        },
        "id": "nfIFa6bGkSOV",
        "outputId": "7d16045b-b4dd-417d-a15a-a8c111817703"
      },
      "outputs": [
        {
          "name": "stdout",
          "output_type": "stream",
          "text": [
            "no NaN\n"
          ]
        }
      ],
      "source": [
        "from sklearn.impute import KNNImputer\n",
        "\n",
        "if np.sum(np.isnan(X)):\n",
        "  print('Total of NaN before imputation:', np.sum(np.isnan(X)))\n",
        "  imputer = KNNImputer(n_neighbors=2, weights=\"uniform\")\n",
        "  X1 = imputer.fit_transform(X)\n",
        "  print('Total of NaN after imputation:', np.sum(np.isnan(X1)))\n",
        "else:\n",
        "  X1 = X\n",
        "  print('no NaN')"
      ]
    },
    {
      "cell_type": "code",
      "execution_count": 114,
      "metadata": {
        "colab": {
          "base_uri": "https://localhost:8080/"
        },
        "id": "vjMxsi8Nkb3A",
        "outputId": "82467c77-9835-42c3-e3aa-45ac9c5c9333"
      },
      "outputs": [
        {
          "name": "stdout",
          "output_type": "stream",
          "text": [
            "before transformation\n",
            "--------------------\n",
            "range of feature 0 is 171\n",
            "range of feature 1 is 0\n",
            "range of feature 2 is 0\n",
            "range of feature 3 is 1\n",
            "range of feature 4 is 5\n",
            "after transformation\n",
            "--------------------\n",
            "range of feature 0 is 10\n",
            "range of feature 1 is 10\n",
            "range of feature 2 is 10\n",
            "range of feature 3 is 10\n",
            "range of feature 4 is 10\n",
            "(156, 5)\n"
          ]
        }
      ],
      "source": [
        "from sklearn import preprocessing\n",
        "print(\"before transformation\\n--------------------\")\n",
        "for i in range(X.shape[1]):\n",
        "  print(\"range of feature %i is %i\"%(i, np.ptp(X_train[:,i])))\n",
        "min_max_scaler = preprocessing.MinMaxScaler(feature_range=(-5, 5))\n",
        "X_train = min_max_scaler.fit_transform(X_train)\n",
        "X_test = min_max_scaler.fit_transform(X_test)\n",
        "print(\"after transformation\\n--------------------\")\n",
        "for i in range(X.shape[1]):\n",
        "  print(\"range of feature %i is %i\"%(i, np.ptp(X_train[:,i])))\n",
        "\n",
        "# standardize X_train and X_test\n",
        "scaler = preprocessing.StandardScaler().fit(X_train)\n",
        "# X_train = scaler.transform(X_train)\n",
        "# X_test = scaler.transform(X_test)\n",
        "print(X_train.shape)"
      ]
    },
    {
      "cell_type": "markdown",
      "metadata": {
        "id": "y7SOcpGbklkV"
      },
      "source": [
        "Model Definition"
      ]
    },
    {
      "cell_type": "code",
      "execution_count": 115,
      "metadata": {
        "colab": {
          "base_uri": "https://localhost:8080/",
          "height": 141
        },
        "id": "UmfCUVYi5m6P",
        "outputId": "f476ff46-5890-4dbf-a0ed-f9ec8e9f8bee"
      },
      "outputs": [
        {
          "data": {
            "application/vnd.google.colaboratory.intrinsic+json": {
              "type": "string"
            },
            "text/plain": [
              "\"\\ntf.keras.layers.Dense(8, input_dim=5, activation = 'relu'),\\ntf.keras.layers.LayerNormalization(),\\ntf.keras.layers.Dense(32, activation = 'relu'),\\ntf.keras.layers.LayerNormalization(),\\ntf.keras.layers.Dense(128, activation = 'relu'),\\ntf.keras.layers.Dense(256, activation = 'relu'),\\ntf.keras.layers.LayerNormalization(),\\ntf.keras.layers.Dense(128, activation = 'relu'),\\ntf.keras.layers.LayerNormalization(),\\ntf.keras.layers.Dense(32, activation = 'relu'),\\ntf.keras.layers.LayerNormalization(),\\ntf.keras.layers.Dense(2, activation='softmax')\\n\""
            ]
          },
          "execution_count": 115,
          "metadata": {},
          "output_type": "execute_result"
        }
      ],
      "source": [
        "from keras import layers\n",
        "net = tf.keras.models.Sequential([\n",
        "    tf.keras.Input(shape=(5,)),\n",
        "    tf.keras.layers.GaussianNoise(0.1),\n",
        "    tf.keras.layers.experimental.RandomFourierFeatures(output_dim=4096, scale=10.0, kernel_initializer=\"gaussian\"),\n",
        "    layers.Dense(256, activation = 'relu'),\n",
        "    tf.keras.layers.LayerNormalization(),\n",
        "    layers.Dense(256, activation = 'relu'),\n",
        "    tf.keras.layers.LayerNormalization(),\n",
        "    layers.Dense(256, activation = 'relu'),\n",
        "    tf.keras.layers.LayerNormalization(),\n",
        "    layers.Dense(256, activation = 'relu'),\n",
        "    tf.keras.layers.LayerNormalization(),\n",
        "    layers.Dense(256, activation = 'relu'),\n",
        "    tf.keras.layers.Dense(2, activation='softmax'),\n",
        "    ])\n",
        "\"\"\"\n",
        "tf.keras.layers.Dense(8, input_dim=5, activation = 'relu'),\n",
        "tf.keras.layers.LayerNormalization(),\n",
        "tf.keras.layers.Dense(32, activation = 'relu'),\n",
        "tf.keras.layers.LayerNormalization(),\n",
        "tf.keras.layers.Dense(128, activation = 'relu'),\n",
        "tf.keras.layers.Dense(256, activation = 'relu'),\n",
        "tf.keras.layers.LayerNormalization(),\n",
        "tf.keras.layers.Dense(128, activation = 'relu'),\n",
        "tf.keras.layers.LayerNormalization(),\n",
        "tf.keras.layers.Dense(32, activation = 'relu'),\n",
        "tf.keras.layers.LayerNormalization(),\n",
        "tf.keras.layers.Dense(2, activation='softmax')\n",
        "\"\"\"\n"
      ]
    },
    {
      "cell_type": "code",
      "execution_count": 116,
      "metadata": {
        "id": "HdkST6Om57mv"
      },
      "outputs": [],
      "source": [
        "# compile the keras model\n",
        "net.compile(loss='binary_crossentropy', optimizer='Adadelta',\n",
        "              metrics=['accuracy'])"
      ]
    },
    {
      "cell_type": "markdown",
      "metadata": {
        "id": "P2exBAUukoIQ"
      },
      "source": [
        "Training"
      ]
    },
    {
      "cell_type": "code",
      "execution_count": 120,
      "metadata": {
        "colab": {
          "base_uri": "https://localhost:8080/"
        },
        "id": "TaQknY8D59ew",
        "outputId": "51dae173-9132-4aaa-fd68-cdd647d5d533"
      },
      "outputs": [
        {
          "name": "stdout",
          "output_type": "stream",
          "text": [
            "Epoch 1/100\n",
            "4/4 [==============================] - 0s 29ms/step - loss: 0.2549 - accuracy: 0.9167\n",
            "Epoch 2/100\n",
            "4/4 [==============================] - 0s 29ms/step - loss: 0.2522 - accuracy: 0.9103\n",
            "Epoch 3/100\n",
            "4/4 [==============================] - 0s 28ms/step - loss: 0.2508 - accuracy: 0.9167\n",
            "Epoch 4/100\n",
            "4/4 [==============================] - 0s 27ms/step - loss: 0.2487 - accuracy: 0.9167\n",
            "Epoch 5/100\n",
            "4/4 [==============================] - 0s 38ms/step - loss: 0.2495 - accuracy: 0.9231\n",
            "Epoch 6/100\n",
            "4/4 [==============================] - 0s 27ms/step - loss: 0.2507 - accuracy: 0.8910\n",
            "Epoch 7/100\n",
            "4/4 [==============================] - 0s 33ms/step - loss: 0.2464 - accuracy: 0.9038\n",
            "Epoch 8/100\n",
            "4/4 [==============================] - 0s 30ms/step - loss: 0.2458 - accuracy: 0.9167\n",
            "Epoch 9/100\n",
            "4/4 [==============================] - 0s 28ms/step - loss: 0.2455 - accuracy: 0.9038\n",
            "Epoch 10/100\n",
            "4/4 [==============================] - 0s 28ms/step - loss: 0.2430 - accuracy: 0.9295\n",
            "Epoch 11/100\n",
            "4/4 [==============================] - 0s 30ms/step - loss: 0.2453 - accuracy: 0.9231\n",
            "Epoch 12/100\n",
            "4/4 [==============================] - 0s 30ms/step - loss: 0.2421 - accuracy: 0.9167\n",
            "Epoch 13/100\n",
            "4/4 [==============================] - 0s 29ms/step - loss: 0.2412 - accuracy: 0.9103\n",
            "Epoch 14/100\n",
            "4/4 [==============================] - 0s 32ms/step - loss: 0.2427 - accuracy: 0.9359\n",
            "Epoch 15/100\n",
            "4/4 [==============================] - 0s 29ms/step - loss: 0.2406 - accuracy: 0.9167\n",
            "Epoch 16/100\n",
            "4/4 [==============================] - 0s 31ms/step - loss: 0.2377 - accuracy: 0.9295\n",
            "Epoch 17/100\n",
            "4/4 [==============================] - 0s 36ms/step - loss: 0.2378 - accuracy: 0.9167\n",
            "Epoch 18/100\n",
            "4/4 [==============================] - 0s 29ms/step - loss: 0.2347 - accuracy: 0.9295\n",
            "Epoch 19/100\n",
            "4/4 [==============================] - 0s 31ms/step - loss: 0.2377 - accuracy: 0.9295\n",
            "Epoch 20/100\n",
            "4/4 [==============================] - 0s 31ms/step - loss: 0.2351 - accuracy: 0.9231\n",
            "Epoch 21/100\n",
            "4/4 [==============================] - 0s 30ms/step - loss: 0.2293 - accuracy: 0.9231\n",
            "Epoch 22/100\n",
            "4/4 [==============================] - 0s 31ms/step - loss: 0.2317 - accuracy: 0.9295\n",
            "Epoch 23/100\n",
            "4/4 [==============================] - 0s 30ms/step - loss: 0.2307 - accuracy: 0.9295\n",
            "Epoch 24/100\n",
            "4/4 [==============================] - 0s 31ms/step - loss: 0.2384 - accuracy: 0.9103\n",
            "Epoch 25/100\n",
            "4/4 [==============================] - 0s 29ms/step - loss: 0.2324 - accuracy: 0.9295\n",
            "Epoch 26/100\n",
            "4/4 [==============================] - 0s 36ms/step - loss: 0.2328 - accuracy: 0.9231\n",
            "Epoch 27/100\n",
            "4/4 [==============================] - 0s 30ms/step - loss: 0.2323 - accuracy: 0.9231\n",
            "Epoch 28/100\n",
            "4/4 [==============================] - 0s 29ms/step - loss: 0.2281 - accuracy: 0.9295\n",
            "Epoch 29/100\n",
            "4/4 [==============================] - 0s 30ms/step - loss: 0.2250 - accuracy: 0.9295\n",
            "Epoch 30/100\n",
            "4/4 [==============================] - 0s 29ms/step - loss: 0.2276 - accuracy: 0.9231\n",
            "Epoch 31/100\n",
            "4/4 [==============================] - 0s 29ms/step - loss: 0.2278 - accuracy: 0.9295\n",
            "Epoch 32/100\n",
            "4/4 [==============================] - 0s 30ms/step - loss: 0.2295 - accuracy: 0.9231\n",
            "Epoch 33/100\n",
            "4/4 [==============================] - 0s 28ms/step - loss: 0.2252 - accuracy: 0.9295\n",
            "Epoch 34/100\n",
            "4/4 [==============================] - 0s 31ms/step - loss: 0.2220 - accuracy: 0.9359\n",
            "Epoch 35/100\n",
            "4/4 [==============================] - 0s 36ms/step - loss: 0.2205 - accuracy: 0.9359\n",
            "Epoch 36/100\n",
            "4/4 [==============================] - 0s 40ms/step - loss: 0.2253 - accuracy: 0.9295\n",
            "Epoch 37/100\n",
            "4/4 [==============================] - 0s 43ms/step - loss: 0.2199 - accuracy: 0.9295\n",
            "Epoch 38/100\n",
            "4/4 [==============================] - 0s 45ms/step - loss: 0.2171 - accuracy: 0.9295\n",
            "Epoch 39/100\n",
            "4/4 [==============================] - 0s 42ms/step - loss: 0.2210 - accuracy: 0.9295\n",
            "Epoch 40/100\n",
            "4/4 [==============================] - 0s 45ms/step - loss: 0.2207 - accuracy: 0.9295\n",
            "Epoch 41/100\n",
            "4/4 [==============================] - 0s 44ms/step - loss: 0.2216 - accuracy: 0.9359\n",
            "Epoch 42/100\n",
            "4/4 [==============================] - 0s 44ms/step - loss: 0.2205 - accuracy: 0.9359\n",
            "Epoch 43/100\n",
            "4/4 [==============================] - 0s 50ms/step - loss: 0.2235 - accuracy: 0.9295\n",
            "Epoch 44/100\n",
            "4/4 [==============================] - 0s 40ms/step - loss: 0.2150 - accuracy: 0.9359\n",
            "Epoch 45/100\n",
            "4/4 [==============================] - 0s 40ms/step - loss: 0.2168 - accuracy: 0.9359\n",
            "Epoch 46/100\n",
            "4/4 [==============================] - 0s 42ms/step - loss: 0.2210 - accuracy: 0.9295\n",
            "Epoch 47/100\n",
            "4/4 [==============================] - 0s 41ms/step - loss: 0.2141 - accuracy: 0.9295\n",
            "Epoch 48/100\n",
            "4/4 [==============================] - 0s 39ms/step - loss: 0.2139 - accuracy: 0.9359\n",
            "Epoch 49/100\n",
            "4/4 [==============================] - 0s 44ms/step - loss: 0.2162 - accuracy: 0.9359\n",
            "Epoch 50/100\n",
            "4/4 [==============================] - 0s 46ms/step - loss: 0.2143 - accuracy: 0.9359\n",
            "Epoch 51/100\n",
            "4/4 [==============================] - 0s 41ms/step - loss: 0.2144 - accuracy: 0.9295\n",
            "Epoch 52/100\n",
            "4/4 [==============================] - 0s 45ms/step - loss: 0.2123 - accuracy: 0.9295\n",
            "Epoch 53/100\n",
            "4/4 [==============================] - 0s 45ms/step - loss: 0.2102 - accuracy: 0.9295\n",
            "Epoch 54/100\n",
            "4/4 [==============================] - 0s 41ms/step - loss: 0.2134 - accuracy: 0.9359\n",
            "Epoch 55/100\n",
            "4/4 [==============================] - 0s 47ms/step - loss: 0.2146 - accuracy: 0.9359\n",
            "Epoch 56/100\n",
            "4/4 [==============================] - 0s 42ms/step - loss: 0.2129 - accuracy: 0.9295\n",
            "Epoch 57/100\n",
            "4/4 [==============================] - 0s 43ms/step - loss: 0.2111 - accuracy: 0.9359\n",
            "Epoch 58/100\n",
            "4/4 [==============================] - 0s 41ms/step - loss: 0.2131 - accuracy: 0.9359\n",
            "Epoch 59/100\n",
            "4/4 [==============================] - 0s 47ms/step - loss: 0.2119 - accuracy: 0.9359\n",
            "Epoch 60/100\n",
            "4/4 [==============================] - 0s 42ms/step - loss: 0.2114 - accuracy: 0.9359\n",
            "Epoch 61/100\n",
            "4/4 [==============================] - 0s 42ms/step - loss: 0.2124 - accuracy: 0.9359\n",
            "Epoch 62/100\n",
            "4/4 [==============================] - 0s 31ms/step - loss: 0.2088 - accuracy: 0.9359\n",
            "Epoch 63/100\n",
            "4/4 [==============================] - 0s 29ms/step - loss: 0.2088 - accuracy: 0.9359\n",
            "Epoch 64/100\n",
            "4/4 [==============================] - 0s 30ms/step - loss: 0.2078 - accuracy: 0.9295\n",
            "Epoch 65/100\n",
            "4/4 [==============================] - 0s 28ms/step - loss: 0.2055 - accuracy: 0.9359\n",
            "Epoch 66/100\n",
            "4/4 [==============================] - 0s 27ms/step - loss: 0.2031 - accuracy: 0.9359\n",
            "Epoch 67/100\n",
            "4/4 [==============================] - 0s 32ms/step - loss: 0.2064 - accuracy: 0.9231\n",
            "Epoch 68/100\n",
            "4/4 [==============================] - 0s 30ms/step - loss: 0.2064 - accuracy: 0.9359\n",
            "Epoch 69/100\n",
            "4/4 [==============================] - 0s 36ms/step - loss: 0.2029 - accuracy: 0.9359\n",
            "Epoch 70/100\n",
            "4/4 [==============================] - 0s 28ms/step - loss: 0.2068 - accuracy: 0.9295\n",
            "Epoch 71/100\n",
            "4/4 [==============================] - 0s 28ms/step - loss: 0.2060 - accuracy: 0.9359\n",
            "Epoch 72/100\n",
            "4/4 [==============================] - 0s 32ms/step - loss: 0.1991 - accuracy: 0.9231\n",
            "Epoch 73/100\n",
            "4/4 [==============================] - 0s 28ms/step - loss: 0.2027 - accuracy: 0.9359\n",
            "Epoch 74/100\n",
            "4/4 [==============================] - 0s 31ms/step - loss: 0.2043 - accuracy: 0.9359\n",
            "Epoch 75/100\n",
            "4/4 [==============================] - 0s 29ms/step - loss: 0.2035 - accuracy: 0.9295\n",
            "Epoch 76/100\n",
            "4/4 [==============================] - 0s 31ms/step - loss: 0.1991 - accuracy: 0.9359\n",
            "Epoch 77/100\n",
            "4/4 [==============================] - 0s 32ms/step - loss: 0.1963 - accuracy: 0.9359\n",
            "Epoch 78/100\n",
            "4/4 [==============================] - 0s 27ms/step - loss: 0.2014 - accuracy: 0.9359\n",
            "Epoch 79/100\n",
            "4/4 [==============================] - 0s 30ms/step - loss: 0.1988 - accuracy: 0.9359\n",
            "Epoch 80/100\n",
            "4/4 [==============================] - 0s 30ms/step - loss: 0.2029 - accuracy: 0.9231\n",
            "Epoch 81/100\n",
            "4/4 [==============================] - 0s 28ms/step - loss: 0.2012 - accuracy: 0.9359\n",
            "Epoch 82/100\n",
            "4/4 [==============================] - 0s 29ms/step - loss: 0.1975 - accuracy: 0.9359\n",
            "Epoch 83/100\n",
            "4/4 [==============================] - 0s 28ms/step - loss: 0.1910 - accuracy: 0.9359\n",
            "Epoch 84/100\n",
            "4/4 [==============================] - 0s 31ms/step - loss: 0.1966 - accuracy: 0.9295\n",
            "Epoch 85/100\n",
            "4/4 [==============================] - 0s 33ms/step - loss: 0.1988 - accuracy: 0.9423\n",
            "Epoch 86/100\n",
            "4/4 [==============================] - 0s 28ms/step - loss: 0.1976 - accuracy: 0.9359\n",
            "Epoch 87/100\n",
            "4/4 [==============================] - 0s 28ms/step - loss: 0.1919 - accuracy: 0.9359\n",
            "Epoch 88/100\n",
            "4/4 [==============================] - 0s 29ms/step - loss: 0.1974 - accuracy: 0.9359\n",
            "Epoch 89/100\n",
            "4/4 [==============================] - 0s 32ms/step - loss: 0.1931 - accuracy: 0.9423\n",
            "Epoch 90/100\n",
            "4/4 [==============================] - 0s 29ms/step - loss: 0.1984 - accuracy: 0.9295\n",
            "Epoch 91/100\n",
            "4/4 [==============================] - 0s 25ms/step - loss: 0.1881 - accuracy: 0.9423\n",
            "Epoch 92/100\n",
            "4/4 [==============================] - 0s 30ms/step - loss: 0.1906 - accuracy: 0.9295\n",
            "Epoch 93/100\n",
            "4/4 [==============================] - 0s 28ms/step - loss: 0.1968 - accuracy: 0.9359\n",
            "Epoch 94/100\n",
            "4/4 [==============================] - 0s 36ms/step - loss: 0.2007 - accuracy: 0.9295\n",
            "Epoch 95/100\n",
            "4/4 [==============================] - 0s 29ms/step - loss: 0.1925 - accuracy: 0.9359\n",
            "Epoch 96/100\n",
            "4/4 [==============================] - 0s 29ms/step - loss: 0.1912 - accuracy: 0.9359\n",
            "Epoch 97/100\n",
            "4/4 [==============================] - 0s 32ms/step - loss: 0.1924 - accuracy: 0.9295\n",
            "Epoch 98/100\n",
            "4/4 [==============================] - 0s 32ms/step - loss: 0.1877 - accuracy: 0.9359\n",
            "Epoch 99/100\n",
            "4/4 [==============================] - 0s 29ms/step - loss: 0.1908 - accuracy: 0.9359\n",
            "Epoch 100/100\n",
            "4/4 [==============================] - 0s 28ms/step - loss: 0.1867 - accuracy: 0.9423\n"
          ]
        },
        {
          "data": {
            "text/plain": [
              "<keras.callbacks.History at 0x7a0da3c19090>"
            ]
          },
          "execution_count": 120,
          "metadata": {},
          "output_type": "execute_result"
        }
      ],
      "source": [
        "# fit the keras model on the dataset\n",
        "net.fit(X_train, y_train, epochs=100, batch_size=39)"
      ]
    },
    {
      "cell_type": "markdown",
      "metadata": {
        "id": "JieNm8ZJkrYE"
      },
      "source": [
        "Testing"
      ]
    },
    {
      "cell_type": "code",
      "execution_count": 123,
      "metadata": {
        "colab": {
          "base_uri": "https://localhost:8080/"
        },
        "id": "qZY5YcnXgUWI",
        "outputId": "ebaabee8-5c9d-404b-b23f-4809a8034e8e"
      },
      "outputs": [
        {
          "name": "stdout",
          "output_type": "stream",
          "text": [
            "Test loss: 0.3083\n",
            "Test accuracy: 0.8717948794364929\n"
          ]
        }
      ],
      "source": [
        "# Evaluate the trained model using keras built-in function\n",
        "score = net.evaluate(X_test, y_test, verbose=0)\n",
        "print(\"Test loss:\", format(score[0],\".4f\"))\n",
        "print(\"Test accuracy:\", score[1])"
      ]
    },
    {
      "cell_type": "code",
      "execution_count": 124,
      "metadata": {
        "colab": {
          "base_uri": "https://localhost:8080/"
        },
        "id": "LieYDryRZLXk",
        "outputId": "51f43eaa-ab35-4bf9-9838-55dd95428e6c"
      },
      "outputs": [
        {
          "name": "stdout",
          "output_type": "stream",
          "text": [
            "2/2 [==============================] - 0s 8ms/step\n",
            "tf.Tensor(\n",
            "[[ 9  4]\n",
            " [ 1 25]], shape=(2, 2), dtype=int32)\n"
          ]
        }
      ],
      "source": [
        "# Evaluate predicted testing output\n",
        "# Since softmax output is used, these outputs are probability\n",
        "# vectors of value between 0 and 1 and values of each output\n",
        "# vector added to 1\n",
        "y_softmax = net.predict(X_test)\n",
        "# y_pc gives the indices (strating from 0) of the max elements\n",
        "y_pc = np.argmax(y_softmax, axis = -1)\n",
        "# convert y_pc into one-hot encoding\n",
        "y_pred = keras.utils.to_categorical(y_pc)\n",
        "\n",
        "Cmat = tf.math.confusion_matrix(y_test.argmax(axis=-1),y_pred.argmax(axis=-1))\n",
        "print(Cmat)"
      ]
    }
  ],
  "metadata": {
    "colab": {
      "authorship_tag": "ABX9TyO6jhUeI16Lozl6I70wEUJ8",
      "include_colab_link": true,
      "provenance": []
    },
    "kernelspec": {
      "display_name": "Python 3",
      "name": "python3"
    },
    "language_info": {
      "name": "python"
    }
  },
  "nbformat": 4,
  "nbformat_minor": 0
}
