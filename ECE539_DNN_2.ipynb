{
  "nbformat": 4,
  "nbformat_minor": 0,
  "metadata": {
    "colab": {
      "provenance": [],
      "authorship_tag": "ABX9TyOGyCWm86rSeeKECjUIopbM",
      "include_colab_link": true
    },
    "kernelspec": {
      "name": "python3",
      "display_name": "Python 3"
    },
    "language_info": {
      "name": "python"
    }
  },
  "cells": [
    {
      "cell_type": "markdown",
      "metadata": {
        "id": "view-in-github",
        "colab_type": "text"
      },
      "source": [
        "<a href=\"https://colab.research.google.com/github/yangr296/ECE539/blob/main/ECE539_DNN_2.ipynb\" target=\"_parent\"><img src=\"https://colab.research.google.com/assets/colab-badge.svg\" alt=\"Open In Colab\"/></a>"
      ]
    },
    {
      "cell_type": "code",
      "execution_count": 42,
      "metadata": {
        "colab": {
          "base_uri": "https://localhost:8080/"
        },
        "id": "J_7UEkv9r5pz",
        "outputId": "7141e3c6-0173-4460-c7fe-8ffaeec829f7"
      },
      "outputs": [
        {
          "output_type": "stream",
          "name": "stdout",
          "text": [
            "Drive already mounted at /content/drive; to attempt to forcibly remount, call drive.mount(\"/content/drive\", force_remount=True).\n"
          ]
        }
      ],
      "source": [
        "#import data from drive\n",
        "import tensorflow as tf\n",
        "import numpy as np\n",
        "import random\n",
        "from google.colab import drive\n",
        "from sklearn.model_selection import train_test_split\n",
        "\n",
        "drive.mount('/content/drive')\n",
        "with open('/content/drive/Shared drives/ECE539/parkinsons/parkinsons.data', 'r') as f:\n",
        "  tmp = np.genfromtxt(f,delimiter=',')\n",
        "  np.set_printoptions(precision=3,suppress=True)"
      ]
    },
    {
      "cell_type": "markdown",
      "source": [
        "Data Preprocessing"
      ],
      "metadata": {
        "id": "cJuaiQY3kiWa"
      }
    },
    {
      "cell_type": "code",
      "source": [
        "from tensorflow import keras\n",
        "np.random.seed(0)\n",
        "X, y = tmp[1:, 1:], tmp[1:, -7]\n",
        "X = np.delete(X, 16, 1)\n",
        "X = X.astype(float)\n",
        "\"\"\"\n",
        "index by columns\n",
        "X[0] MDVP:Fo(Hz)\n",
        "X[1] MDVP:Fhi(Hz)\n",
        "X[2] MDVP:Flo(Hz)\n",
        "X[3] MDVP:Jitter(%)\n",
        "X[4] MDVP:Jitter(Abs)\n",
        "X[5] MDVP:RAP\n",
        "X[6] MDVP:PPQ\n",
        "X[7] Jitter:DDP\n",
        "X[8] MDVP:Shimmer\n",
        "X[9] MDVP:Shimmer(dB)\n",
        "X[10] Shimmer:APQ3\n",
        "X[11] Shimmer:APQ5\n",
        "X[12] MDVP:APQ\n",
        "X[13] Shimmer:DDA\n",
        "X[14] NHR\n",
        "X[15] HNR\n",
        "X[16] RPDE\n",
        "X[17] DFA\n",
        "X[18] spread1\n",
        "X[19] spread2\n",
        "X[20] D2\n",
        "X[21] PPE\n",
        "\"\"\""
      ],
      "metadata": {
        "colab": {
          "base_uri": "https://localhost:8080/",
          "height": 70
        },
        "id": "kjAI1aAg5cp-",
        "outputId": "0b739727-ad8a-4fc2-9c30-507328c2178d"
      },
      "execution_count": 43,
      "outputs": [
        {
          "output_type": "execute_result",
          "data": {
            "text/plain": [
              "'\\nindex by columns\\nX[0] MDVP:Fo(Hz)\\nX[1] MDVP:Fhi(Hz)\\nX[2] MDVP:Flo(Hz)\\nX[3] MDVP:Jitter(%)\\nX[4] MDVP:Jitter(Abs)\\nX[5] MDVP:RAP\\nX[6] MDVP:PPQ\\nX[7] Jitter:DDP\\nX[8] MDVP:Shimmer\\nX[9] MDVP:Shimmer(dB)\\nX[10] Shimmer:APQ3\\nX[11] Shimmer:APQ5\\nX[12] MDVP:APQ\\nX[13] Shimmer:DDA\\nX[14] NHR\\nX[15] HNR\\nX[16] RPDE\\nX[17] DFA\\nX[18] spread1\\nX[19] spread2\\nX[20] D2\\nX[21] PPE\\n'"
            ],
            "application/vnd.google.colaboratory.intrinsic+json": {
              "type": "string"
            }
          },
          "metadata": {},
          "execution_count": 43
        }
      ]
    },
    {
      "cell_type": "code",
      "source": [
        "from scipy.stats import pearsonr\n",
        "pair = []\n",
        "for i in range(21):\n",
        "  for j in range((i + 1), 22):\n",
        "    a = X[:, i]\n",
        "    b = X[:, j]\n",
        "    corr, _ = pearsonr(a, b)\n",
        "    if(corr > 0.95):\n",
        "      pair.append([i, j])\n",
        "      print(\"features %i and %i have corr of %f\" %(i, j, corr))\n",
        "print(pair)"
      ],
      "metadata": {
        "colab": {
          "base_uri": "https://localhost:8080/"
        },
        "id": "RvLJ6MhwkfCt",
        "outputId": "cd5ed14e-20d5-4321-abc3-4c0501b4700b"
      },
      "execution_count": 44,
      "outputs": [
        {
          "output_type": "stream",
          "name": "stdout",
          "text": [
            "features 3 and 5 have corr of 0.990276\n",
            "features 3 and 6 have corr of 0.974256\n",
            "features 3 and 7 have corr of 0.990276\n",
            "features 5 and 6 have corr of 0.957317\n",
            "features 5 and 7 have corr of 1.000000\n",
            "features 6 and 7 have corr of 0.957319\n",
            "features 8 and 9 have corr of 0.987258\n",
            "features 8 and 10 have corr of 0.987625\n",
            "features 8 and 11 have corr of 0.982835\n",
            "features 8 and 12 have corr of 0.950083\n",
            "features 8 and 13 have corr of 0.987626\n",
            "features 9 and 10 have corr of 0.963198\n",
            "features 9 and 11 have corr of 0.973751\n",
            "features 9 and 12 have corr of 0.960977\n",
            "features 9 and 13 have corr of 0.963202\n",
            "features 10 and 11 have corr of 0.960070\n",
            "features 10 and 13 have corr of 1.000000\n",
            "features 11 and 13 have corr of 0.960072\n",
            "features 18 and 21 have corr of 0.962435\n",
            "[[3, 5], [3, 6], [3, 7], [5, 6], [5, 7], [6, 7], [8, 9], [8, 10], [8, 11], [8, 12], [8, 13], [9, 10], [9, 11], [9, 12], [9, 13], [10, 11], [10, 13], [11, 13], [18, 21]]\n"
          ]
        }
      ]
    },
    {
      "cell_type": "markdown",
      "source": [
        "Function def"
      ],
      "metadata": {
        "id": "m9G0AEg7qjCr"
      }
    },
    {
      "cell_type": "code",
      "source": [
        "from sklearn.metrics import accuracy_score\n",
        "def performSVM(X, y):\n",
        "  aveScore = 0\n",
        "  for i in range(5):\n",
        "    X_train, X_test, y_train, y_test = train_test_split(X, y, test_size=0.20)\n",
        "    clf = svm.SVC()\n",
        "    clf.fit(X_train, y_train)\n",
        "    y_pred = clf.predict(X_test)\n",
        "    aveScore += np.round(accuracy_score(y_test, y_pred), 3)\n",
        "  aveScore /= 5\n",
        "  return aveScore\n",
        "\n",
        "def deleteColumn(matrix, columns):\n",
        "  for i in range(len(columns)):\n",
        "    matrix = np.delete(matrix, columns[i], 1)\n",
        "    for j in range((i + 1), len(columns)):\n",
        "      if columns[j] > columns[i]:\n",
        "        columns[j] -= 1\n",
        "  return matrix"
      ],
      "metadata": {
        "id": "iGTiT5kHpKda"
      },
      "execution_count": 45,
      "outputs": []
    },
    {
      "cell_type": "code",
      "source": [
        "from sklearn import svm\n",
        "deleted = []\n",
        "for i in pair:\n",
        "  if i[0] in deleted:\n",
        "    print(\"skipped pair(%i, %i), because %i already deleted\" %(i[0], i[1], i[0]))\n",
        "    continue\n",
        "  if i[1] in deleted:\n",
        "    print(\"skipped pair(%i, %i), because %i already deleted\" %(i[0], i[1], i[1]))\n",
        "    continue\n",
        "  A = X\n",
        "  B = X\n",
        "  A = np.delete(A, i[0], 1)\n",
        "  B = np.delete(B, i[1], 1)\n",
        "  score_a = performSVM(A, y)\n",
        "  score_b = performSVM(B, y)\n",
        "  if(score_a > score_b):\n",
        "    delete = i[1]\n",
        "  else:\n",
        "    delete = i[0]\n",
        "  deleted.append(delete)\n",
        "  print(\"Accuracy: %i(%.3f) %i(%.3f) Delete %i\" %(i[0], score_a, i[1], score_b, delete))\n",
        "print(deleted)"
      ],
      "metadata": {
        "colab": {
          "base_uri": "https://localhost:8080/"
        },
        "id": "TI2I4fuDnreM",
        "outputId": "f6fc6345-0995-4929-e322-f98b0f94002a"
      },
      "execution_count": 46,
      "outputs": [
        {
          "output_type": "stream",
          "name": "stdout",
          "text": [
            "Accuracy: 3(0.790) 5(0.780) Delete 5\n",
            "Accuracy: 3(0.846) 6(0.800) Delete 6\n",
            "Accuracy: 3(0.790) 7(0.790) Delete 3\n",
            "skipped pair(5, 6), because 5 already deleted\n",
            "skipped pair(5, 7), because 5 already deleted\n",
            "skipped pair(6, 7), because 6 already deleted\n",
            "Accuracy: 8(0.821) 9(0.815) Delete 9\n",
            "Accuracy: 8(0.785) 10(0.831) Delete 8\n",
            "skipped pair(8, 11), because 8 already deleted\n",
            "skipped pair(8, 12), because 8 already deleted\n",
            "skipped pair(8, 13), because 8 already deleted\n",
            "skipped pair(9, 10), because 9 already deleted\n",
            "skipped pair(9, 11), because 9 already deleted\n",
            "skipped pair(9, 12), because 9 already deleted\n",
            "skipped pair(9, 13), because 9 already deleted\n",
            "Accuracy: 10(0.810) 11(0.810) Delete 11\n",
            "Accuracy: 10(0.821) 13(0.800) Delete 13\n",
            "skipped pair(11, 13), because 11 already deleted\n",
            "Accuracy: 18(0.831) 21(0.816) Delete 21\n",
            "[5, 6, 3, 9, 8, 11, 13, 21]\n"
          ]
        }
      ]
    },
    {
      "cell_type": "code",
      "source": [
        "print(\"preprocessing\")\n",
        "print(X[:5,:])\n",
        "X = deleteColumn(X, deleted)\n",
        "print(\"postprocessing\")\n",
        "print(X[:5,:])"
      ],
      "metadata": {
        "colab": {
          "base_uri": "https://localhost:8080/"
        },
        "id": "8gaTAOCrtSbr",
        "outputId": "2a494bf4-0ba2-4ea0-f766-f4f5cbd9e9c6"
      },
      "execution_count": 47,
      "outputs": [
        {
          "output_type": "stream",
          "name": "stdout",
          "text": [
            "preprocessing\n",
            "[[119.992 157.302  74.997   0.008   0.      0.004   0.006   0.011   0.044\n",
            "    0.426   0.022   0.031   0.03    0.065   0.022  21.033   0.415   0.815\n",
            "   -4.813   0.266   2.301   0.285]\n",
            " [122.4   148.65  113.819   0.01    0.      0.005   0.007   0.014   0.061\n",
            "    0.626   0.031   0.045   0.044   0.094   0.019  19.085   0.458   0.82\n",
            "   -4.075   0.336   2.487   0.369]\n",
            " [116.682 131.111 111.555   0.011   0.      0.005   0.008   0.016   0.052\n",
            "    0.482   0.028   0.039   0.036   0.083   0.013  20.651   0.43    0.825\n",
            "   -4.443   0.311   2.342   0.333]\n",
            " [116.676 137.871 111.366   0.01    0.      0.005   0.007   0.015   0.055\n",
            "    0.517   0.029   0.04    0.038   0.088   0.014  20.644   0.435   0.819\n",
            "   -4.118   0.334   2.406   0.369]\n",
            " [116.014 141.781 110.655   0.013   0.      0.007   0.009   0.02    0.064\n",
            "    0.584   0.035   0.048   0.045   0.105   0.018  19.649   0.417   0.823\n",
            "   -3.748   0.235   2.332   0.41 ]]\n",
            "postprocessing\n",
            "[[119.992 157.302  74.997   0.      0.011   0.022   0.03    0.022  21.033\n",
            "    0.415   0.815  -4.813   0.266   2.301]\n",
            " [122.4   148.65  113.819   0.      0.014   0.031   0.044   0.019  19.085\n",
            "    0.458   0.82   -4.075   0.336   2.487]\n",
            " [116.682 131.111 111.555   0.      0.016   0.028   0.036   0.013  20.651\n",
            "    0.43    0.825  -4.443   0.311   2.342]\n",
            " [116.676 137.871 111.366   0.      0.015   0.029   0.038   0.014  20.644\n",
            "    0.435   0.819  -4.118   0.334   2.406]\n",
            " [116.014 141.781 110.655   0.      0.02    0.035   0.045   0.018  19.649\n",
            "    0.417   0.823  -3.748   0.235   2.332]]\n"
          ]
        }
      ]
    },
    {
      "cell_type": "code",
      "source": [
        "Corr = []\n",
        "for i in range(len(X[0])):\n",
        "  feature = X[:, i]\n",
        "  corr, _ = pearsonr(feature, y)\n",
        "  Corr.append([abs(corr), i])\n",
        "  print(\"Pearson's Correlation of feature\", i, \"is: %.3f\" % corr)"
      ],
      "metadata": {
        "colab": {
          "base_uri": "https://localhost:8080/"
        },
        "id": "dxRfIAiJm3Kd",
        "outputId": "dbd1dec1-d7ca-4f44-cdb2-7594d4025eb3"
      },
      "execution_count": 48,
      "outputs": [
        {
          "output_type": "stream",
          "name": "stdout",
          "text": [
            "Pearson's Correlation of feature 0 is: -0.384\n",
            "Pearson's Correlation of feature 1 is: -0.166\n",
            "Pearson's Correlation of feature 2 is: -0.380\n",
            "Pearson's Correlation of feature 3 is: 0.339\n",
            "Pearson's Correlation of feature 4 is: 0.267\n",
            "Pearson's Correlation of feature 5 is: 0.348\n",
            "Pearson's Correlation of feature 6 is: 0.364\n",
            "Pearson's Correlation of feature 7 is: 0.189\n",
            "Pearson's Correlation of feature 8 is: -0.362\n",
            "Pearson's Correlation of feature 9 is: 0.309\n",
            "Pearson's Correlation of feature 10 is: 0.232\n",
            "Pearson's Correlation of feature 11 is: 0.565\n",
            "Pearson's Correlation of feature 12 is: 0.455\n",
            "Pearson's Correlation of feature 13 is: 0.340\n"
          ]
        }
      ]
    },
    {
      "cell_type": "code",
      "source": [
        "# sort all the correlations\n",
        "num = len(X[0])\n",
        "Corr.sort()\n",
        "print(\"ranking the %i lowest correlations: \" %num)\n",
        "for i in range(num):\n",
        "  print(\"feature: %2d corr: %.3f\" %(Corr[i][1], Corr[i][0]))"
      ],
      "metadata": {
        "colab": {
          "base_uri": "https://localhost:8080/"
        },
        "id": "OtMqUMGxqw6K",
        "outputId": "a6762580-ae57-459d-fc95-88f3b25e1e55"
      },
      "execution_count": 49,
      "outputs": [
        {
          "output_type": "stream",
          "name": "stdout",
          "text": [
            "ranking the 14 lowest correlations: \n",
            "feature:  1 corr: 0.166\n",
            "feature:  7 corr: 0.189\n",
            "feature: 10 corr: 0.232\n",
            "feature:  4 corr: 0.267\n",
            "feature:  9 corr: 0.309\n",
            "feature:  3 corr: 0.339\n",
            "feature: 13 corr: 0.340\n",
            "feature:  5 corr: 0.348\n",
            "feature:  8 corr: 0.362\n",
            "feature:  6 corr: 0.364\n",
            "feature:  2 corr: 0.380\n",
            "feature:  0 corr: 0.384\n",
            "feature: 12 corr: 0.455\n",
            "feature: 11 corr: 0.565\n"
          ]
        }
      ]
    },
    {
      "cell_type": "code",
      "source": [
        "columns = []\n",
        "for i in range(4):\n",
        "  columns.append(Corr[i][1])\n",
        "print(columns)"
      ],
      "metadata": {
        "colab": {
          "base_uri": "https://localhost:8080/"
        },
        "id": "iQJ1G_TtwAvj",
        "outputId": "78494e61-2522-4a32-add5-d6ac4bcc1167"
      },
      "execution_count": 50,
      "outputs": [
        {
          "output_type": "stream",
          "name": "stdout",
          "text": [
            "[1, 7, 10, 4]\n"
          ]
        }
      ]
    },
    {
      "cell_type": "code",
      "source": [
        "print(\"preprocessing\")\n",
        "print(X[:5,:])\n",
        "X = deleteColumn(X, columns)\n",
        "print(\"postprocessing\")\n",
        "print(X[:5,:])"
      ],
      "metadata": {
        "colab": {
          "base_uri": "https://localhost:8080/"
        },
        "id": "RFHDaIOdQxcq",
        "outputId": "422bbefa-d99e-4134-d8a8-838f32338fa0"
      },
      "execution_count": 51,
      "outputs": [
        {
          "output_type": "stream",
          "name": "stdout",
          "text": [
            "preprocessing\n",
            "[[119.992 157.302  74.997   0.      0.011   0.022   0.03    0.022  21.033\n",
            "    0.415   0.815  -4.813   0.266   2.301]\n",
            " [122.4   148.65  113.819   0.      0.014   0.031   0.044   0.019  19.085\n",
            "    0.458   0.82   -4.075   0.336   2.487]\n",
            " [116.682 131.111 111.555   0.      0.016   0.028   0.036   0.013  20.651\n",
            "    0.43    0.825  -4.443   0.311   2.342]\n",
            " [116.676 137.871 111.366   0.      0.015   0.029   0.038   0.014  20.644\n",
            "    0.435   0.819  -4.118   0.334   2.406]\n",
            " [116.014 141.781 110.655   0.      0.02    0.035   0.045   0.018  19.649\n",
            "    0.417   0.823  -3.748   0.235   2.332]]\n",
            "postprocessing\n",
            "[[119.992  74.997   0.      0.022   0.03   21.033   0.415  -4.813   0.266\n",
            "    2.301]\n",
            " [122.4   113.819   0.      0.031   0.044  19.085   0.458  -4.075   0.336\n",
            "    2.487]\n",
            " [116.682 111.555   0.      0.028   0.036  20.651   0.43   -4.443   0.311\n",
            "    2.342]\n",
            " [116.676 111.366   0.      0.029   0.038  20.644   0.435  -4.118   0.334\n",
            "    2.406]\n",
            " [116.014 110.655   0.      0.035   0.045  19.649   0.417  -3.748   0.235\n",
            "    2.332]]\n"
          ]
        }
      ]
    },
    {
      "cell_type": "code",
      "source": [
        "# partition into training and validation set at 80/20 division\n",
        "X_train, X_test, y_train, y_test = train_test_split(X, y, test_size=0.20)\n",
        "# Converting y_r and y_t into one-hot encoding using a keras utility\n",
        "#  to_categorical\n",
        "\n",
        "# print(y_test)\n",
        "#[1, 0] is 0\n",
        "#[0, 1] is 1\n",
        "y_test = keras.utils.to_categorical(y_test)\n",
        "y_train = keras.utils.to_categorical(y_train)\n",
        "# print(y_test)"
      ],
      "metadata": {
        "id": "1c48i7x0mjqC"
      },
      "execution_count": 52,
      "outputs": []
    },
    {
      "cell_type": "code",
      "source": [
        "from sklearn.impute import KNNImputer\n",
        "\n",
        "if np.sum(np.isnan(X)):\n",
        "  print('Total of NaN before imputation:', np.sum(np.isnan(X)))\n",
        "  imputer = KNNImputer(n_neighbors=2, weights=\"uniform\")\n",
        "  X1 = imputer.fit_transform(X)\n",
        "  print('Total of NaN after imputation:', np.sum(np.isnan(X1)))\n",
        "else:\n",
        "  X1 = X\n",
        "  print('no NaN')"
      ],
      "metadata": {
        "colab": {
          "base_uri": "https://localhost:8080/"
        },
        "id": "nfIFa6bGkSOV",
        "outputId": "e5a4f76b-7228-4142-8f9f-ec62d9aa53aa"
      },
      "execution_count": 53,
      "outputs": [
        {
          "output_type": "stream",
          "name": "stdout",
          "text": [
            "no NaN\n"
          ]
        }
      ]
    },
    {
      "cell_type": "code",
      "source": [
        "from sklearn import preprocessing\n",
        "print(\"before transformation\\n--------------------\")\n",
        "for i in range(X.shape[1]):\n",
        "  print(\"range of feature %i is %i\"%(i, np.ptp(X_train[:,i])))\n",
        "min_max_scaler = preprocessing.MinMaxScaler(feature_range=(-5, 5))\n",
        "X_train = min_max_scaler.fit_transform(X_train)\n",
        "X_test = min_max_scaler.fit_transform(X_test)\n",
        "print(\"after transformation\\n--------------------\")\n",
        "for i in range(X.shape[1]):\n",
        "  print(\"range of feature %i is %i\"%(i, np.ptp(X_train[:,i])))\n",
        "\n",
        "# standardize X_train and X_test\n",
        "scaler = preprocessing.StandardScaler().fit(X_train)\n",
        "# X_train = scaler.transform(X_train)\n",
        "# X_test = scaler.transform(X_test)\n",
        "print(X_train.shape)"
      ],
      "metadata": {
        "colab": {
          "base_uri": "https://localhost:8080/"
        },
        "id": "vjMxsi8Nkb3A",
        "outputId": "a8421927-94e9-4833-8c65-ccb9dd10ac57"
      },
      "execution_count": 54,
      "outputs": [
        {
          "output_type": "stream",
          "name": "stdout",
          "text": [
            "before transformation\n",
            "--------------------\n",
            "range of feature 0 is 171\n",
            "range of feature 1 is 173\n",
            "range of feature 2 is 0\n",
            "range of feature 3 is 0\n",
            "range of feature 4 is 0\n",
            "range of feature 5 is 24\n",
            "range of feature 6 is 0\n",
            "range of feature 7 is 5\n",
            "range of feature 8 is 0\n",
            "range of feature 9 is 1\n",
            "after transformation\n",
            "--------------------\n",
            "range of feature 0 is 10\n",
            "range of feature 1 is 10\n",
            "range of feature 2 is 10\n",
            "range of feature 3 is 10\n",
            "range of feature 4 is 10\n",
            "range of feature 5 is 10\n",
            "range of feature 6 is 10\n",
            "range of feature 7 is 10\n",
            "range of feature 8 is 10\n",
            "range of feature 9 is 10\n",
            "(156, 10)\n"
          ]
        }
      ]
    },
    {
      "cell_type": "markdown",
      "source": [
        "Model Definition"
      ],
      "metadata": {
        "id": "y7SOcpGbklkV"
      }
    },
    {
      "cell_type": "code",
      "source": [
        "from keras import layers\n",
        "net = tf.keras.models.Sequential([\n",
        "    tf.keras.Input(shape=(10,)),\n",
        "    tf.keras.layers.GaussianNoise(0.1),\n",
        "    tf.keras.layers.experimental.RandomFourierFeatures(output_dim=4096, scale=10.0, kernel_initializer=\"gaussian\"),\n",
        "    layers.Dense(256, activation = 'relu'),\n",
        "    tf.keras.layers.LayerNormalization(),\n",
        "    layers.Dense(256, activation = 'relu'),\n",
        "    tf.keras.layers.LayerNormalization(),\n",
        "    layers.Dense(256, activation = 'relu'),\n",
        "    tf.keras.layers.LayerNormalization(),\n",
        "    layers.Dense(256, activation = 'relu'),\n",
        "    tf.keras.layers.LayerNormalization(),\n",
        "    layers.Dense(256, activation = 'relu'),\n",
        "    tf.keras.layers.Dense(2, activation='softmax'),\n",
        "    ])\n",
        "\"\"\"\n",
        "tf.keras.layers.Dense(8, input_dim=5, activation = 'relu'),\n",
        "tf.keras.layers.LayerNormalization(),\n",
        "tf.keras.layers.Dense(32, activation = 'relu'),\n",
        "tf.keras.layers.LayerNormalization(),\n",
        "tf.keras.layers.Dense(128, activation = 'relu'),\n",
        "tf.keras.layers.Dense(256, activation = 'relu'),\n",
        "tf.keras.layers.LayerNormalization(),\n",
        "tf.keras.layers.Dense(128, activation = 'relu'),\n",
        "tf.keras.layers.LayerNormalization(),\n",
        "tf.keras.layers.Dense(32, activation = 'relu'),\n",
        "tf.keras.layers.LayerNormalization(),\n",
        "tf.keras.layers.Dense(2, activation='softmax')\n",
        "\"\"\"\n"
      ],
      "metadata": {
        "colab": {
          "base_uri": "https://localhost:8080/",
          "height": 87
        },
        "id": "UmfCUVYi5m6P",
        "outputId": "f03473ab-686e-4a4e-cc40-e793fc6123eb"
      },
      "execution_count": 55,
      "outputs": [
        {
          "output_type": "execute_result",
          "data": {
            "text/plain": [
              "\"\\ntf.keras.layers.Dense(8, input_dim=5, activation = 'relu'),\\ntf.keras.layers.LayerNormalization(),\\ntf.keras.layers.Dense(32, activation = 'relu'),\\ntf.keras.layers.LayerNormalization(),\\ntf.keras.layers.Dense(128, activation = 'relu'),\\ntf.keras.layers.Dense(256, activation = 'relu'),\\ntf.keras.layers.LayerNormalization(),\\ntf.keras.layers.Dense(128, activation = 'relu'),\\ntf.keras.layers.LayerNormalization(),\\ntf.keras.layers.Dense(32, activation = 'relu'),\\ntf.keras.layers.LayerNormalization(),\\ntf.keras.layers.Dense(2, activation='softmax')\\n\""
            ],
            "application/vnd.google.colaboratory.intrinsic+json": {
              "type": "string"
            }
          },
          "metadata": {},
          "execution_count": 55
        }
      ]
    },
    {
      "cell_type": "code",
      "source": [
        "# compile the keras model\n",
        "net.compile(loss='binary_crossentropy', optimizer='Adadelta',\n",
        "              metrics=['accuracy'])"
      ],
      "metadata": {
        "id": "HdkST6Om57mv"
      },
      "execution_count": 56,
      "outputs": []
    },
    {
      "cell_type": "markdown",
      "source": [
        "Training"
      ],
      "metadata": {
        "id": "P2exBAUukoIQ"
      }
    },
    {
      "cell_type": "code",
      "source": [
        "# fit the keras model on the dataset\n",
        "net.fit(X_train, y_train, epochs=100, batch_size=39)"
      ],
      "metadata": {
        "colab": {
          "base_uri": "https://localhost:8080/"
        },
        "id": "TaQknY8D59ew",
        "outputId": "41451fc2-4b22-435e-8027-73be3a5222dd"
      },
      "execution_count": 57,
      "outputs": [
        {
          "output_type": "stream",
          "name": "stdout",
          "text": [
            "Epoch 1/100\n",
            "4/4 [==============================] - 2s 41ms/step - loss: 1.0267 - accuracy: 0.3013\n",
            "Epoch 2/100\n",
            "4/4 [==============================] - 0s 39ms/step - loss: 0.9748 - accuracy: 0.3141\n",
            "Epoch 3/100\n",
            "4/4 [==============================] - 0s 41ms/step - loss: 0.9271 - accuracy: 0.3269\n",
            "Epoch 4/100\n",
            "4/4 [==============================] - 0s 35ms/step - loss: 0.8804 - accuracy: 0.3397\n",
            "Epoch 5/100\n",
            "4/4 [==============================] - 0s 40ms/step - loss: 0.8322 - accuracy: 0.3846\n",
            "Epoch 6/100\n",
            "4/4 [==============================] - 0s 38ms/step - loss: 0.7964 - accuracy: 0.3910\n",
            "Epoch 7/100\n",
            "4/4 [==============================] - 0s 35ms/step - loss: 0.7583 - accuracy: 0.4103\n",
            "Epoch 8/100\n",
            "4/4 [==============================] - 0s 47ms/step - loss: 0.7263 - accuracy: 0.4551\n",
            "Epoch 9/100\n",
            "4/4 [==============================] - 0s 38ms/step - loss: 0.6930 - accuracy: 0.5705\n",
            "Epoch 10/100\n",
            "4/4 [==============================] - 0s 33ms/step - loss: 0.6672 - accuracy: 0.6538\n",
            "Epoch 11/100\n",
            "4/4 [==============================] - 0s 36ms/step - loss: 0.6403 - accuracy: 0.6923\n",
            "Epoch 12/100\n",
            "4/4 [==============================] - 0s 38ms/step - loss: 0.6201 - accuracy: 0.7372\n",
            "Epoch 13/100\n",
            "4/4 [==============================] - 0s 35ms/step - loss: 0.5986 - accuracy: 0.7885\n",
            "Epoch 14/100\n",
            "4/4 [==============================] - 0s 44ms/step - loss: 0.5839 - accuracy: 0.7821\n",
            "Epoch 15/100\n",
            "4/4 [==============================] - 0s 39ms/step - loss: 0.5661 - accuracy: 0.8141\n",
            "Epoch 16/100\n",
            "4/4 [==============================] - 0s 34ms/step - loss: 0.5544 - accuracy: 0.7949\n",
            "Epoch 17/100\n",
            "4/4 [==============================] - 0s 41ms/step - loss: 0.5406 - accuracy: 0.8141\n",
            "Epoch 18/100\n",
            "4/4 [==============================] - 0s 42ms/step - loss: 0.5280 - accuracy: 0.8077\n",
            "Epoch 19/100\n",
            "4/4 [==============================] - 0s 37ms/step - loss: 0.5175 - accuracy: 0.8077\n",
            "Epoch 20/100\n",
            "4/4 [==============================] - 0s 38ms/step - loss: 0.5064 - accuracy: 0.8269\n",
            "Epoch 21/100\n",
            "4/4 [==============================] - 0s 46ms/step - loss: 0.4937 - accuracy: 0.8397\n",
            "Epoch 22/100\n",
            "4/4 [==============================] - 0s 38ms/step - loss: 0.4878 - accuracy: 0.8333\n",
            "Epoch 23/100\n",
            "4/4 [==============================] - 0s 41ms/step - loss: 0.4763 - accuracy: 0.8462\n",
            "Epoch 24/100\n",
            "4/4 [==============================] - 0s 45ms/step - loss: 0.4707 - accuracy: 0.8397\n",
            "Epoch 25/100\n",
            "4/4 [==============================] - 0s 39ms/step - loss: 0.4614 - accuracy: 0.8397\n",
            "Epoch 26/100\n",
            "4/4 [==============================] - 0s 38ms/step - loss: 0.4543 - accuracy: 0.8462\n",
            "Epoch 27/100\n",
            "4/4 [==============================] - 0s 38ms/step - loss: 0.4478 - accuracy: 0.8526\n",
            "Epoch 28/100\n",
            "4/4 [==============================] - 0s 35ms/step - loss: 0.4425 - accuracy: 0.8462\n",
            "Epoch 29/100\n",
            "4/4 [==============================] - 0s 42ms/step - loss: 0.4350 - accuracy: 0.8526\n",
            "Epoch 30/100\n",
            "4/4 [==============================] - 0s 39ms/step - loss: 0.4307 - accuracy: 0.8462\n",
            "Epoch 31/100\n",
            "4/4 [==============================] - 0s 34ms/step - loss: 0.4262 - accuracy: 0.8462\n",
            "Epoch 32/100\n",
            "4/4 [==============================] - 0s 33ms/step - loss: 0.4206 - accuracy: 0.8462\n",
            "Epoch 33/100\n",
            "4/4 [==============================] - 0s 36ms/step - loss: 0.4139 - accuracy: 0.8462\n",
            "Epoch 34/100\n",
            "4/4 [==============================] - 0s 35ms/step - loss: 0.4104 - accuracy: 0.8462\n",
            "Epoch 35/100\n",
            "4/4 [==============================] - 0s 37ms/step - loss: 0.4074 - accuracy: 0.8526\n",
            "Epoch 36/100\n",
            "4/4 [==============================] - 0s 30ms/step - loss: 0.4001 - accuracy: 0.8462\n",
            "Epoch 37/100\n",
            "4/4 [==============================] - 0s 36ms/step - loss: 0.3974 - accuracy: 0.8526\n",
            "Epoch 38/100\n",
            "4/4 [==============================] - 0s 46ms/step - loss: 0.3909 - accuracy: 0.8654\n",
            "Epoch 39/100\n",
            "4/4 [==============================] - 0s 50ms/step - loss: 0.3893 - accuracy: 0.8590\n",
            "Epoch 40/100\n",
            "4/4 [==============================] - 0s 52ms/step - loss: 0.3844 - accuracy: 0.8654\n",
            "Epoch 41/100\n",
            "4/4 [==============================] - 0s 48ms/step - loss: 0.3827 - accuracy: 0.8526\n",
            "Epoch 42/100\n",
            "4/4 [==============================] - 0s 47ms/step - loss: 0.3802 - accuracy: 0.8654\n",
            "Epoch 43/100\n",
            "4/4 [==============================] - 0s 51ms/step - loss: 0.3748 - accuracy: 0.8718\n",
            "Epoch 44/100\n",
            "4/4 [==============================] - 0s 54ms/step - loss: 0.3709 - accuracy: 0.8718\n",
            "Epoch 45/100\n",
            "4/4 [==============================] - 0s 53ms/step - loss: 0.3690 - accuracy: 0.8782\n",
            "Epoch 46/100\n",
            "4/4 [==============================] - 0s 58ms/step - loss: 0.3671 - accuracy: 0.8718\n",
            "Epoch 47/100\n",
            "4/4 [==============================] - 0s 60ms/step - loss: 0.3606 - accuracy: 0.8718\n",
            "Epoch 48/100\n",
            "4/4 [==============================] - 0s 54ms/step - loss: 0.3578 - accuracy: 0.8782\n",
            "Epoch 49/100\n",
            "4/4 [==============================] - 0s 47ms/step - loss: 0.3544 - accuracy: 0.8846\n",
            "Epoch 50/100\n",
            "4/4 [==============================] - 0s 53ms/step - loss: 0.3545 - accuracy: 0.8782\n",
            "Epoch 51/100\n",
            "4/4 [==============================] - 0s 48ms/step - loss: 0.3511 - accuracy: 0.8846\n",
            "Epoch 52/100\n",
            "4/4 [==============================] - 0s 44ms/step - loss: 0.3490 - accuracy: 0.8782\n",
            "Epoch 53/100\n",
            "4/4 [==============================] - 0s 52ms/step - loss: 0.3429 - accuracy: 0.8910\n",
            "Epoch 54/100\n",
            "4/4 [==============================] - 0s 51ms/step - loss: 0.3392 - accuracy: 0.8974\n",
            "Epoch 55/100\n",
            "4/4 [==============================] - 0s 45ms/step - loss: 0.3398 - accuracy: 0.8910\n",
            "Epoch 56/100\n",
            "4/4 [==============================] - 0s 43ms/step - loss: 0.3356 - accuracy: 0.9038\n",
            "Epoch 57/100\n",
            "4/4 [==============================] - 0s 45ms/step - loss: 0.3325 - accuracy: 0.9103\n",
            "Epoch 58/100\n",
            "4/4 [==============================] - 0s 58ms/step - loss: 0.3279 - accuracy: 0.9038\n",
            "Epoch 59/100\n",
            "4/4 [==============================] - 0s 54ms/step - loss: 0.3272 - accuracy: 0.9103\n",
            "Epoch 60/100\n",
            "4/4 [==============================] - 0s 48ms/step - loss: 0.3252 - accuracy: 0.9038\n",
            "Epoch 61/100\n",
            "4/4 [==============================] - 0s 56ms/step - loss: 0.3244 - accuracy: 0.9038\n",
            "Epoch 62/100\n",
            "4/4 [==============================] - 0s 52ms/step - loss: 0.3192 - accuracy: 0.9103\n",
            "Epoch 63/100\n",
            "4/4 [==============================] - 0s 51ms/step - loss: 0.3170 - accuracy: 0.9038\n",
            "Epoch 64/100\n",
            "4/4 [==============================] - 0s 51ms/step - loss: 0.3141 - accuracy: 0.9103\n",
            "Epoch 65/100\n",
            "4/4 [==============================] - 0s 51ms/step - loss: 0.3144 - accuracy: 0.9103\n",
            "Epoch 66/100\n",
            "4/4 [==============================] - 0s 49ms/step - loss: 0.3122 - accuracy: 0.9103\n",
            "Epoch 67/100\n",
            "4/4 [==============================] - 0s 47ms/step - loss: 0.3069 - accuracy: 0.9103\n",
            "Epoch 68/100\n",
            "4/4 [==============================] - 0s 50ms/step - loss: 0.3054 - accuracy: 0.9167\n",
            "Epoch 69/100\n",
            "4/4 [==============================] - 0s 55ms/step - loss: 0.3038 - accuracy: 0.9103\n",
            "Epoch 70/100\n",
            "4/4 [==============================] - 0s 55ms/step - loss: 0.3052 - accuracy: 0.9167\n",
            "Epoch 71/100\n",
            "4/4 [==============================] - 0s 48ms/step - loss: 0.2997 - accuracy: 0.9167\n",
            "Epoch 72/100\n",
            "4/4 [==============================] - 0s 49ms/step - loss: 0.2971 - accuracy: 0.9167\n",
            "Epoch 73/100\n",
            "4/4 [==============================] - 0s 47ms/step - loss: 0.2939 - accuracy: 0.9167\n",
            "Epoch 74/100\n",
            "4/4 [==============================] - 0s 36ms/step - loss: 0.2934 - accuracy: 0.9103\n",
            "Epoch 75/100\n",
            "4/4 [==============================] - 0s 34ms/step - loss: 0.2907 - accuracy: 0.9103\n",
            "Epoch 76/100\n",
            "4/4 [==============================] - 0s 36ms/step - loss: 0.2889 - accuracy: 0.9167\n",
            "Epoch 77/100\n",
            "4/4 [==============================] - 0s 30ms/step - loss: 0.2891 - accuracy: 0.9103\n",
            "Epoch 78/100\n",
            "4/4 [==============================] - 0s 31ms/step - loss: 0.2837 - accuracy: 0.9231\n",
            "Epoch 79/100\n",
            "4/4 [==============================] - 0s 36ms/step - loss: 0.2847 - accuracy: 0.9167\n",
            "Epoch 80/100\n",
            "4/4 [==============================] - 0s 38ms/step - loss: 0.2802 - accuracy: 0.9231\n",
            "Epoch 81/100\n",
            "4/4 [==============================] - 0s 44ms/step - loss: 0.2820 - accuracy: 0.9103\n",
            "Epoch 82/100\n",
            "4/4 [==============================] - 0s 35ms/step - loss: 0.2794 - accuracy: 0.9295\n",
            "Epoch 83/100\n",
            "4/4 [==============================] - 0s 37ms/step - loss: 0.2758 - accuracy: 0.9295\n",
            "Epoch 84/100\n",
            "4/4 [==============================] - 0s 34ms/step - loss: 0.2735 - accuracy: 0.9359\n",
            "Epoch 85/100\n",
            "4/4 [==============================] - 0s 38ms/step - loss: 0.2716 - accuracy: 0.9423\n",
            "Epoch 86/100\n",
            "4/4 [==============================] - 0s 44ms/step - loss: 0.2698 - accuracy: 0.9295\n",
            "Epoch 87/100\n",
            "4/4 [==============================] - 0s 38ms/step - loss: 0.2701 - accuracy: 0.9295\n",
            "Epoch 88/100\n",
            "4/4 [==============================] - 0s 36ms/step - loss: 0.2679 - accuracy: 0.9359\n",
            "Epoch 89/100\n",
            "4/4 [==============================] - 0s 33ms/step - loss: 0.2648 - accuracy: 0.9423\n",
            "Epoch 90/100\n",
            "4/4 [==============================] - 0s 36ms/step - loss: 0.2623 - accuracy: 0.9295\n",
            "Epoch 91/100\n",
            "4/4 [==============================] - 0s 36ms/step - loss: 0.2596 - accuracy: 0.9487\n",
            "Epoch 92/100\n",
            "4/4 [==============================] - 0s 33ms/step - loss: 0.2611 - accuracy: 0.9359\n",
            "Epoch 93/100\n",
            "4/4 [==============================] - 0s 35ms/step - loss: 0.2596 - accuracy: 0.9295\n",
            "Epoch 94/100\n",
            "4/4 [==============================] - 0s 37ms/step - loss: 0.2539 - accuracy: 0.9359\n",
            "Epoch 95/100\n",
            "4/4 [==============================] - 0s 33ms/step - loss: 0.2573 - accuracy: 0.9231\n",
            "Epoch 96/100\n",
            "4/4 [==============================] - 0s 32ms/step - loss: 0.2531 - accuracy: 0.9423\n",
            "Epoch 97/100\n",
            "4/4 [==============================] - 0s 34ms/step - loss: 0.2519 - accuracy: 0.9359\n",
            "Epoch 98/100\n",
            "4/4 [==============================] - 0s 44ms/step - loss: 0.2479 - accuracy: 0.9487\n",
            "Epoch 99/100\n",
            "4/4 [==============================] - 0s 40ms/step - loss: 0.2480 - accuracy: 0.9359\n",
            "Epoch 100/100\n",
            "4/4 [==============================] - 0s 34ms/step - loss: 0.2472 - accuracy: 0.9487\n"
          ]
        },
        {
          "output_type": "execute_result",
          "data": {
            "text/plain": [
              "<keras.callbacks.History at 0x7b1c79b927d0>"
            ]
          },
          "metadata": {},
          "execution_count": 57
        }
      ]
    },
    {
      "cell_type": "markdown",
      "source": [
        "Testing"
      ],
      "metadata": {
        "id": "JieNm8ZJkrYE"
      }
    },
    {
      "cell_type": "code",
      "source": [
        "# Evaluate the trained model using keras built-in function\n",
        "score = net.evaluate(X_test, y_test, verbose=0)\n",
        "print(\"Test loss:\", format(score[0],\".4f\"))\n",
        "print(\"Test accuracy:\", score[1])"
      ],
      "metadata": {
        "colab": {
          "base_uri": "https://localhost:8080/"
        },
        "id": "qZY5YcnXgUWI",
        "outputId": "4a0cc066-712c-4d25-a288-d58a681932b3"
      },
      "execution_count": 58,
      "outputs": [
        {
          "output_type": "stream",
          "name": "stdout",
          "text": [
            "Test loss: 0.2519\n",
            "Test accuracy: 0.9230769276618958\n"
          ]
        }
      ]
    },
    {
      "cell_type": "code",
      "source": [
        "# Evaluate predicted testing output\n",
        "# Since softmax output is used, these outputs are probability\n",
        "# vectors of value between 0 and 1 and values of each output\n",
        "# vector added to 1\n",
        "y_softmax = net.predict(X_test)\n",
        "# y_pc gives the indices (strating from 0) of the max elements\n",
        "y_pc = np.argmax(y_softmax, axis = -1)\n",
        "# convert y_pc into one-hot encoding\n",
        "y_pred = keras.utils.to_categorical(y_pc)\n",
        "\n",
        "Cmat = tf.math.confusion_matrix(y_test.argmax(axis=-1),y_pred.argmax(axis=-1))\n",
        "print(Cmat)"
      ],
      "metadata": {
        "colab": {
          "base_uri": "https://localhost:8080/"
        },
        "id": "LieYDryRZLXk",
        "outputId": "e4fedcc8-9a46-4893-f09c-d4fe19e794b8"
      },
      "execution_count": 59,
      "outputs": [
        {
          "output_type": "stream",
          "name": "stdout",
          "text": [
            "2/2 [==============================] - 0s 11ms/step\n",
            "tf.Tensor(\n",
            "[[ 4  2]\n",
            " [ 1 32]], shape=(2, 2), dtype=int32)\n"
          ]
        }
      ]
    }
  ]
}