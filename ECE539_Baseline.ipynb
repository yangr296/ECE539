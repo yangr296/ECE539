{
  "cells": [
    {
      "cell_type": "code",
      "execution_count": null,
      "metadata": {
        "colab": {
          "base_uri": "https://localhost:8080/"
        },
        "id": "KPdJvXxsbvGK",
        "outputId": "96ac3506-d9bd-401e-a7f9-148c3a37c1da"
      },
      "outputs": [
        {
          "name": "stdout",
          "output_type": "stream",
          "text": [
            "Drive already mounted at /content/drive; to attempt to forcibly remount, call drive.mount(\"/content/drive\", force_remount=True).\n"
          ]
        }
      ],
      "source": [
        "#import data from drive\n",
        "from google.colab import drive\n",
        "import numpy as np\n",
        "from sklearn.model_selection import train_test_split\n",
        "from sklearn import decomposition\n",
        "from sklearn.metrics import confusion_matrix, accuracy_score\n",
        "from sklearn.neighbors import KNeighborsClassifier\n",
        "\n",
        "drive.mount('/content/drive')\n",
        "with open('/content/drive/Shared drives/ECE539/parkinsons/parkinsons.data', 'r') as f:\n",
        "  tmp = np.genfromtxt(f,delimiter=',')\n",
        "  np.set_printoptions(precision=3,suppress=True)"
      ]
    },
    {
      "cell_type": "code",
      "execution_count": null,
      "metadata": {
        "colab": {
          "base_uri": "https://localhost:8080/"
        },
        "id": "6pT4BCxLhoLF",
        "outputId": "a656bc71-de41-4f05-af70-352bb30dddb4"
      },
      "outputs": [
        {
          "name": "stdout",
          "output_type": "stream",
          "text": [
            "training data size:  136\n",
            "testing data size:  59\n"
          ]
        }
      ],
      "source": [
        "#get X and y\n",
        "X, y = tmp[1:, 1:], tmp[1:, -7]\n",
        "X = np.delete(X, 16, 1)\n",
        "\n",
        "#split dataset\n",
        "X_train, X_test, y_train, y_test = train_test_split(X, y, train_size=0.7, shuffle = True, stratify = y);\n",
        "print('training data size: ', X_train.shape[0])\n",
        "print('testing data size: ', X_test.shape[0])"
      ]
    },
    {
      "cell_type": "code",
      "execution_count": null,
      "metadata": {
        "id": "2FLVD_o5dnOB"
      },
      "outputs": [],
      "source": [
        "# function defs\n",
        "def printInfo(X, y):\n",
        "  label, labelCount = np.unique(y,return_counts=True)\n",
        "  print('num of classes:', len(label))\n",
        "  for i in range(len(label)):\n",
        "    print('class %i has %i samples'%(label[i],labelCount[i]))\n",
        "  print('num of samples: ', X.shape[0])\n",
        "\n",
        "#perform KNN from 0 to K neighbours\n",
        "def KNN(K):\n",
        "  print(\"performing KNN\\n---------------------\")\n",
        "  best_score = 0\n",
        "  best_K = 0;\n",
        "  for x in range(K):\n",
        "    knn = KNeighborsClassifier(n_neighbors=(x + 1)).fit(X_train, y_train)\n",
        "    y_pred = knn.predict(X_test)\n",
        "\n",
        "    score = np.round(accuracy_score(y_test, y_pred), 3)\n",
        "    if score > best_score:\n",
        "      best_score = score\n",
        "      best_K = x + 1\n",
        "    print(\"K =\", (x + 1), \"P =\", score)\n",
        "    # print(\"Confusion matrix: \\n\", confusion_matrix(y_test, y_pred))\n",
        "  print(\"---------------------\\nBest K is\", best_K, \"| P =\", best_score)\n",
        "  print(\"---------------------\\nKNN done\\n\")\n",
        "\n",
        "#print the confusion matrix of the specified K value\n",
        "def KNN_confusion(K):\n",
        "  knn = KNeighborsClassifier(n_neighbors=(K)).fit(X_train, y_train)\n",
        "  y_pred = knn.predict(X_test)\n",
        "  print(\"Confusion matrix: \\n\", confusion_matrix(y_test, y_pred))"
      ]
    },
    {
      "cell_type": "code",
      "execution_count": null,
      "metadata": {
        "colab": {
          "base_uri": "https://localhost:8080/"
        },
        "id": "pxDZ1MAujnrF",
        "outputId": "d24d41b3-290c-493c-fc67-226f6fd90b01"
      },
      "outputs": [
        {
          "name": "stdout",
          "output_type": "stream",
          "text": [
            "num of classes: 2\n",
            "class 0 has 48 samples\n",
            "class 1 has 147 samples\n",
            "num of samples:  195\n",
            "performing KNN\n",
            "---------------------\n",
            "K = 1 P = 0.831\n",
            "K = 2 P = 0.797\n",
            "K = 3 P = 0.881\n",
            "K = 4 P = 0.864\n",
            "K = 5 P = 0.814\n",
            "K = 6 P = 0.814\n",
            "K = 7 P = 0.814\n",
            "K = 8 P = 0.814\n",
            "K = 9 P = 0.814\n",
            "K = 10 P = 0.831\n",
            "K = 11 P = 0.814\n",
            "K = 12 P = 0.814\n",
            "K = 13 P = 0.814\n",
            "K = 14 P = 0.814\n",
            "K = 15 P = 0.814\n",
            "K = 16 P = 0.797\n",
            "K = 17 P = 0.78\n",
            "K = 18 P = 0.78\n",
            "K = 19 P = 0.78\n",
            "K = 20 P = 0.814\n",
            "---------------------\n",
            "Best K is 3 | P = 0.881\n",
            "---------------------\n",
            "KNN done\n",
            "\n",
            "Confusion matrix: \n",
            " [[ 4 11]\n",
            " [ 0 44]]\n"
          ]
        }
      ],
      "source": [
        "printInfo(X, y)\n",
        "KNN(20)\n",
        "KNN_confusion(5)"
      ]
    }
  ],
  "metadata": {
    "colab": {
      "provenance": []
    },
    "kernelspec": {
      "display_name": "Python 3",
      "name": "python3"
    },
    "language_info": {
      "name": "python"
    }
  },
  "nbformat": 4,
  "nbformat_minor": 0
}
